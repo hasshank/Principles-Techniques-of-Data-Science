{
  "nbformat": 4,
  "nbformat_minor": 0,
  "metadata": {
    "colab": {
      "provenance": []
    },
    "kernelspec": {
      "name": "python3",
      "display_name": "Python 3"
    },
    "language_info": {
      "name": "python"
    }
  },
  "cells": [
    {
      "cell_type": "code",
      "execution_count": null,
      "metadata": {
        "id": "LtR8zLuVvFUv"
      },
      "outputs": [],
      "source": [
        "import numpy as np\n",
        "import pandas as pd\n",
        "import plotly.express as px"
      ]
    },
    {
      "cell_type": "code",
      "source": [
        "import urllin.request\n",
        "import os.path\n",
        "import zipfile\n",
        "\n",
        "data_url = \"https://www.ssa.gov/oact/babynames/state/namesbystate.zip\"\n",
        "local_filename = \"data/babynamesbystate.zip\"\n",
        "if not os.path.exists(local_filename):\n",
        "    with urllib.request.urlopen(data_url) as resp, open(local_filename, 'wb') as f:\n",
        "        f.write(resp.read())\n",
        "\n",
        "zf = zipfile.ZipFile(local_filename, 'r')\n",
        "\n",
        "ca_name = 'STATE.CA.TXT'\n",
        "field_names = ['State', 'Sex', 'Year', 'Name', 'Count']\n",
        "with zf.open(ca_name) as fh:\n",
        "    babynames = pd.read_csv(fh, header=None, names=field_names)\n",
        "\n",
        "babynames.tail(10)"
      ],
      "metadata": {
        "id": "MmuBTp4yvUGM"
      },
      "execution_count": null,
      "outputs": []
    },
    {
      "cell_type": "code",
      "source": [
        "babynames.groupby(\"Year\")"
      ],
      "metadata": {
        "id": "-CbcYvPawBfr"
      },
      "execution_count": null,
      "outputs": []
    },
    {
      "cell_type": "code",
      "source": [
        "babies_by_year = babynames[[\"Year\", \"Count\"]].groupby(\"Year\").agg(sum)\n",
        "babies_by_year"
      ],
      "metadata": {
        "id": "8CULS07awElF"
      },
      "execution_count": null,
      "outputs": []
    },
    {
      "cell_type": "code",
      "source": [
        "fig = px.line(babies_by_year, y=\"Count\")\n",
        "fig.update_layout(font_size=18,\n",
        "                  autosize=False,\n",
        "                  width=700,\n",
        "                  height=400)"
      ],
      "metadata": {
        "id": "IsnVnSC7wROn"
      },
      "execution_count": null,
      "outputs": []
    },
    {
      "cell_type": "code",
      "source": [
        "ds = pd.DataFrame(dict(x=[3, 1, 4, 1, 5, 9, 2, 5, 6],\n",
        "                       y=['ak', 'tx', 'fl', 'hi', 'mi', 'ak', 'ca', 'sd', 'nc']),\n",
        "                       index = list('ABCABCACB'))\n",
        "ds"
      ],
      "metadata": {
        "id": "ubk4sN7Bwfew"
      },
      "execution_count": null,
      "outputs": []
    },
    {
      "cell_type": "code",
      "source": [
        "ds.groupby(ds.index).agg(max)"
      ],
      "metadata": {
        "id": "vyzx8b-HwwI3"
      },
      "execution_count": null,
      "outputs": []
    },
    {
      "cell_type": "code",
      "source": [
        "f_babynames = babynames[babynames[\"Sex\"] == \"F\"]\n",
        "f_babynames"
      ],
      "metadata": {
        "id": "PZPY-TCrw4Gz"
      },
      "execution_count": null,
      "outputs": []
    },
    {
      "cell_type": "code",
      "source": [
        "f_babynames = f_babynames.sort_values(\"Year\")\n",
        "f_babynames"
      ],
      "metadata": {
        "id": "fb8hTPmCw8Bn"
      },
      "execution_count": null,
      "outputs": []
    },
    {
      "cell_type": "code",
      "source": [
        "fig = px.line(f_babynames[f_babynames[\"Name\"]==\"Jennifer\"],\n",
        "              x=\"Year\", y=\"Count\")\n",
        "\n",
        "fig.update_layout(font_size=18,\n",
        "                  autosize=False,\n",
        "                  width=1000,\n",
        "                  height=400)"
      ],
      "metadata": {
        "id": "tR6eEn1txGAy"
      },
      "execution_count": null,
      "outputs": []
    },
    {
      "cell_type": "code",
      "source": [
        "max_jenn = np.max(f_babynames[f_babynames[\"Name\"]==\"Jennifer\"][\"Count\"])\n",
        "max_jenn"
      ],
      "metadata": {
        "id": "xonaFMxsxZ6-"
      },
      "execution_count": null,
      "outputs": []
    },
    {
      "cell_type": "code",
      "source": [
        "curr_jenn = f_babynames[f_babynames[\"Name\"]==\"Jennifer\"][\"Count\"].iloc[-1]\n",
        "curr_jenn"
      ],
      "metadata": {
        "id": "5HdVFPRPxdxX"
      },
      "execution_count": null,
      "outputs": []
    },
    {
      "cell_type": "code",
      "source": [
        "curr_jenn / max_jenn"
      ],
      "metadata": {
        "id": "JoWbNfXfxlYa"
      },
      "execution_count": null,
      "outputs": []
    },
    {
      "cell_type": "code",
      "source": [
        "def ratio_to_peak(series):\n",
        "  return series.iloc[-1] / np.max(series)"
      ],
      "metadata": {
        "id": "jahMDLirxrFl"
      },
      "execution_count": null,
      "outputs": []
    },
    {
      "cell_type": "code",
      "source": [
        "jenn_counts_ser = f_babynames[f_babynames[\"Name\"]==\"Jennifer\"][\"Count\"]\n",
        "\n",
        "ratio_to_peak(jenn_counts_ser)"
      ],
      "metadata": {
        "id": "DT90akq8xxa3"
      },
      "execution_count": null,
      "outputs": []
    },
    {
      "cell_type": "code",
      "source": [
        "rtp_table = f_babynames.groupby(\"Name\")[[\"Year\", \"Count\"]].agg(ratio_to_peak)\n",
        "rtp_table"
      ],
      "metadata": {
        "id": "u8nhZgi5x3gQ"
      },
      "execution_count": null,
      "outputs": []
    },
    {
      "cell_type": "code",
      "source": [
        "rtp_table[\"Year\"].unique()"
      ],
      "metadata": {
        "id": "VxjB1T1cyAa-"
      },
      "execution_count": null,
      "outputs": []
    },
    {
      "cell_type": "code",
      "source": [
        "rtp_table.drop(\"Year\", axis=\"columns\", inplace=True)\n",
        "rtps_table"
      ],
      "metadata": {
        "id": "CD4UazNEyLum"
      },
      "execution_count": null,
      "outputs": []
    },
    {
      "cell_type": "code",
      "source": [
        "rtp_table = rtp_table.rename(columns={\"Count\": \"Count RTP\"})\n",
        "rtp_table"
      ],
      "metadata": {
        "id": "wNkwGs3EySlO"
      },
      "execution_count": null,
      "outputs": []
    },
    {
      "cell_type": "code",
      "source": [
        "rtp_table.sort_values(\"Count RTP\")"
      ],
      "metadata": {
        "id": "0v0nEPIv0WAA"
      },
      "execution_count": null,
      "outputs": []
    },
    {
      "cell_type": "code",
      "source": [
        "def plot_name(*names):\n",
        "  fig = px.line(f_babynames[f_babynames[\"Name\"].isin(names)],\n",
        "                x=\"Year\", y=\"Count\", color=\"Name\",\n",
        "                title=f\"Popularity for: {names}\")\n",
        "  fig.update_layout(font_size=18,\n",
        "                    autosize=False,\n",
        "                    width=1000,\n",
        "                    height=400)\n",
        "  return fig\n",
        "\n",
        "plot_name(\"Debra\")"
      ],
      "metadata": {
        "id": "5Kjstaw70Z4e"
      },
      "execution_count": null,
      "outputs": []
    },
    {
      "cell_type": "code",
      "source": [
        "top10 = rtp_table.sort_values(\"Count RTP\").head(10).index\n",
        "top10"
      ],
      "metadata": {
        "id": "Mo1OFs3n05dY"
      },
      "execution_count": null,
      "outputs": []
    },
    {
      "cell_type": "code",
      "source": [
        "plot_name(*top10)"
      ],
      "metadata": {
        "id": "m-bETdty1I1q"
      },
      "execution_count": null,
      "outputs": []
    },
    {
      "cell_type": "code",
      "source": [
        "df = pd.DataFrame({'letter': ['A', 'A', 'B', 'C', 'C', 'C'],\n",
        "                   'num': [1, 2, 3, 4, np.NaN, 4],\n",
        "                   'state': [np.NaN, 'tx', 'fl', 'hi', np.NaN, 'ak']})\n",
        "df"
      ],
      "metadata": {
        "id": "WQbVHp0j1Mvc"
      },
      "execution_count": null,
      "outputs": []
    },
    {
      "cell_type": "code",
      "source": [
        "df.groupby(\"letter\").size()"
      ],
      "metadata": {
        "id": "lBgCkl9_1s4C"
      },
      "execution_count": null,
      "outputs": []
    },
    {
      "cell_type": "code",
      "source": [
        "df.groupby(\"letter\").count()"
      ],
      "metadata": {
        "id": "drgTFfvF1w9R"
      },
      "execution_count": null,
      "outputs": []
    },
    {
      "cell_type": "code",
      "source": [
        "df[\"letter\"].value_counts()"
      ],
      "metadata": {
        "id": "BvYicgFs1zfy"
      },
      "execution_count": null,
      "outputs": []
    },
    {
      "cell_type": "code",
      "source": [
        "elections = pd.read_csv(\"data/elections.csv\")\n",
        "elections.sample(5)"
      ],
      "metadata": {
        "id": "6Jyb4vcu15Cz"
      },
      "execution_count": null,
      "outputs": []
    },
    {
      "cell_type": "code",
      "source": [
        "elections.groupby(\"Year\").filter(lambda sf: sf[\"%\"]max() < 45).head(10)"
      ],
      "metadata": {
        "id": "GDgcDOMg2Ezi"
      },
      "execution_count": null,
      "outputs": []
    },
    {
      "cell_type": "code",
      "source": [
        "elections.groupby(\"Party\").agg(max).head(10)"
      ],
      "metadata": {
        "id": "Qwfe-MlX2zLP"
      },
      "execution_count": null,
      "outputs": []
    },
    {
      "cell_type": "code",
      "source": [
        "elections_sorted _by_percent = elections.sort_values(\"%\", ascending=False)\n",
        "elections_sorted_by_percent.head(8)"
      ],
      "metadata": {
        "id": "4hdMneVI25dI"
      },
      "execution_count": null,
      "outputs": []
    },
    {
      "cell_type": "code",
      "source": [
        "elections_sorted_by_percent.groupby(\"Party\").first()"
      ],
      "metadata": {
        "id": "_xhHezD53A8p"
      },
      "execution_count": null,
      "outputs": []
    },
    {
      "cell_type": "code",
      "source": [
        "elections.groupby(\"Party\")[\"%\"].idxmax()"
      ],
      "metadata": {
        "id": "kOabBamc3FxB"
      },
      "execution_count": null,
      "outputs": []
    },
    {
      "cell_type": "code",
      "source": [
        "best_by_party = elections.loc[elections.groupby(\"Party\")[\"%\"].idxmax()]\n",
        "best_by_party.set_index(sort_index().head()"
      ],
      "metadata": {
        "id": "9Crt-v9z3Vge"
      },
      "execution_count": null,
      "outputs": []
    },
    {
      "cell_type": "code",
      "source": [
        "best_per_party2 = elections.sort_values(\"%\").drop_duplicates([\"Party\"], keep=\"last\")\n",
        "best_per_party2.set_index(\"Party\").sort_index().head()"
      ],
      "metadata": {
        "id": "2E_nqE7r3f-p"
      },
      "execution_count": null,
      "outputs": []
    },
    {
      "cell_type": "code",
      "source": [
        "group_by_party = elections.groupby(\"Party\")\n",
        "type(group_by_party)"
      ],
      "metadata": {
        "id": "0TaH0b_H30Df"
      },
      "execution_count": null,
      "outputs": []
    },
    {
      "cell_type": "code",
      "source": [
        "group_by_party.groups"
      ],
      "metadata": {
        "id": "Pdkrz4_p35Oi"
      },
      "execution_count": null,
      "outputs": []
    },
    {
      "cell_type": "code",
      "source": [
        "grouped_by_party.get_group(\"Socialist\")"
      ],
      "metadata": {
        "id": "T2XD_y4c36T0"
      },
      "execution_count": null,
      "outputs": []
    },
    {
      "cell_type": "code",
      "source": [
        "babynames.groupby([\"Year\", \"Sex\"])[[\"Count\"]].sum().head(6)"
      ],
      "metadata": {
        "id": "5nVXECNO4D1S"
      },
      "execution_count": null,
      "outputs": []
    },
    {
      "cell_type": "code",
      "source": [
        "babynames.pivot_table(\n",
        "    index=\"Year\",\n",
        "    columns=\"Sex\",\n",
        "    values=\"Count\",\n",
        "    aggfunc=np.sum).head(6)"
      ],
      "metadata": {
        "id": "dzJt97fx4U2i"
      },
      "execution_count": null,
      "outputs": []
    },
    {
      "cell_type": "code",
      "source": [
        "babynames.pivot_table(\n",
        "    index=\"Year\",\n",
        "    columns=\"Sex\",\n",
        "    values=[\"Count\", \"Name\"],\n",
        "    aggfunc=np.max).head(6)"
      ],
      "metadata": {
        "id": "2TK9FBvu4cXF"
      },
      "execution_count": null,
      "outputs": []
    },
    {
      "cell_type": "code",
      "source": [
        "elections.head(10)"
      ],
      "metadata": {
        "id": "EI7ENrzA4rHg"
      },
      "execution_count": null,
      "outputs": []
    },
    {
      "cell_type": "code",
      "source": [
        "babynames_2022 = babynames[babynames[\"Year\"] == 2022]\n",
        "babynames_2022.head(10)"
      ],
      "metadata": {
        "id": "-svOGNYj4tYl"
      },
      "execution_count": null,
      "outputs": []
    },
    {
      "cell_type": "code",
      "source": [
        "elections[\"First Name\"] = elections[\"Candidate\"].str.split(\" \").str[0]\n",
        "elections"
      ],
      "metadata": {
        "id": "UgTymmGG4xga"
      },
      "execution_count": null,
      "outputs": []
    },
    {
      "cell_type": "code",
      "source": [
        "merged = pd.merge(left=elections, right=babynames_2022,\n",
        "                  left_on=\"First Name\", right_on=\"Name\")\n",
        "merged"
      ],
      "metadata": {
        "id": "lGTWQ_Og45zP"
      },
      "execution_count": null,
      "outputs": []
    },
    {
      "cell_type": "code",
      "source": [
        "merged.sort_values(\"Count\", ascending=False)"
      ],
      "metadata": {
        "id": "kTi-UyoE5A96"
      },
      "execution_count": null,
      "outputs": []
    },
    {
      "cell_type": "code",
      "source": [],
      "metadata": {
        "id": "UXrghM_s5Fzm"
      },
      "execution_count": null,
      "outputs": []
    }
  ]
}