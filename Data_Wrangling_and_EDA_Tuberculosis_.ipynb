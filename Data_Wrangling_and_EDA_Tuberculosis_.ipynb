{
  "nbformat": 4,
  "nbformat_minor": 0,
  "metadata": {
    "colab": {
      "provenance": []
    },
    "kernelspec": {
      "name": "python3",
      "display_name": "Python 3"
    },
    "language_info": {
      "name": "python"
    }
  },
  "cells": [
    {
      "cell_type": "code",
      "source": [
        "import numpy as np\n",
        "import pandas as pd\n",
        "\n",
        "import matplotlib.pyplot as plt\n",
        "import seaborn as sns\n",
        "plt.rcParams['figure.figsize'] = (12,9)\n",
        "\n",
        "sns.set()\n",
        "sns.set_context('talk')\n",
        "np.set_printoptions(threshold=20, precision = 2, suppress= True)\n",
        "pd.set_option('display.max_rows', 30)\n",
        "pd.set_option('display.max_columns', None)\n",
        "pd.set_option('display.precision', 2)\n",
        "\n",
        "pd.set_option('display_float_format', '{:.2f}'.format)\n",
        "\n",
        "import warnings\n",
        "warnings.filterwarnings(\"ignore\", category=FutureWarning)"
      ],
      "metadata": {
        "id": "mVK9NjXpmzfF"
      },
      "execution_count": null,
      "outputs": []
    },
    {
      "cell_type": "code",
      "source": [
        "tbls = pd.read_html(\"https://www.cdc.gov/mmwr/volumes/71/wr/mm7112a1.htm?s_cid=mm7112a1_w#T1_down\")\n",
        "df = tbls[0]\n",
        "df\n",
        "\n",
        "with open(\"data/cdc_tuberculosis.csv\", \"r\") as f:\n",
        "\tfor i, row in enumerate(f):\n",
        "\t\tprint(row)\n",
        "\t\tif i >= 3: break\n",
        "\n",
        "with open(\"data/cdc_tuberculosis.csv\", \"r\") as f:\n",
        "\tfor i, row in enumerate(f):\n",
        "\t\tprint(repr(row))\n",
        "\t\tif i >= 3: break\n",
        "\n",
        "with open(\"data/cdc_tuberculosis.csv\", \"r\") as f:\n",
        "\tfor row in f.readlines()[:4]\n",
        "\t\tprint(repr(row))\n",
        "\n",
        "with open(\"data/cdc_tuberculosis.tsv\", \"r\") as f:\n",
        "\tfor _, row in zip(range(4), f):\n",
        "\t\tprint(repr(row))\n",
        "\n",
        "tb_df = pd.read_csv(\"data/cdc_tuberculosis.csv\",)\n",
        "tb_df\n",
        "\n",
        "tb_df = pd.read_csv(\"data/cdc_tuberculosis.csv\", header=1)\n",
        "tb_df\n",
        "\n",
        "rename_dict = {'2019': 'TB cases 2019',\n",
        "               '2020': 'TB cases 2020',\n",
        "               '2021': 'TB cases 2021',\n",
        "               '2019.1': 'TB incidence 2019',\n",
        "               '2020.1': 'TB incidence 2020',\n",
        "               '2021.1': 'TB incidence 2021'}\n",
        "\n",
        "tb_df = tb_df.rename(columns=rename_dict)\n",
        "tb_df\n",
        "\n",
        "tb_df.head()\n",
        "\n",
        "tb_df.drop(0)\n",
        "\n",
        "tb_df.drop(0).sum()\n",
        "\n",
        "tb_df.dtypes\n",
        "\n",
        "tb_df = (\n",
        "\tpd.read_csv(\"data/cdc_tuberculosis.csv\", header = 1, thousands=',')\n",
        "\t.rename(columns=rename_dict)\n",
        ")\n",
        "tb_df\n",
        "\n",
        "tb_df.drop(0).sum()\n",
        "\n",
        "tb_df.head(1)\n",
        "\n",
        "census_2010s_df = pd.read_csv(\"data/nst-est2019-01.csv\", header=3, thousands=\",\")\n",
        "census_2010s_df\n",
        "\n",
        "census_2010s_df = (\n",
        "\tcensus_2010s_df\n",
        "\t.rename(columns={\"Unnamed:0\":\"Geographic Area\"})\n",
        "\t.drop(columns=[\"Census\", \"Estimates Base\"])\n",
        "\t.convert_dtypes()\n",
        "\t.dropna()\n",
        ")\n",
        "census_2010s_df\n",
        "\n",
        "\n",
        "\n",
        "census_2010s_df['Geographic Area'] = census_2010s_df['Geographic Area'].str.strip('.')\n",
        "census_2010s_df\n",
        "\n",
        "\n",
        "\n",
        "census_2020s_df = pd.read_csv(\"data/NST-EST2022-POP.csv\", header=3, thousands=\",\")\n",
        "census_2020s_df = (\n",
        "\t\t census_2020s_df\n",
        "\t\t .drop(columns=[\"Unnamed : 1\"])\n",
        "\t \t .rename(columns={\"Unnamed : 0\": \"Geographic Area\"})\n",
        "\t\t .convert_dtypes()\n",
        "\t   .dropna()\n",
        ")\n",
        "census_2020s_df['Geographic Area'] = census_2020s_df['Geographic Area'].str.strip('.')\n",
        "census_2020s_df\n",
        "\n",
        "display(tb_df.tail(2))\n",
        "display(census_2010s_df.tail(2))\n",
        "display(census_2020s_df.tail(2))\n",
        "\n"
      ],
      "metadata": {
        "id": "Qc-0u8QGs4j7"
      },
      "execution_count": null,
      "outputs": []
    },
    {
      "cell_type": "code",
      "source": [
        "tb_census_df = (\n",
        "    tb_df\n",
        "    .merge(right=census_2010s_df,\n",
        "           left_on=\"U.S. jurisdiction\", right_on=\"Geographic Area\")\n",
        "    .merge(right=census_2020s_df,\n",
        "           left_on=\"U.S. jurisdiction\", right_on=\"Geographic Area\")\n",
        ")\n",
        "tb_census_df.tail()"
      ],
      "metadata": {
        "id": "LZhx7PJ2mEzz"
      },
      "execution_count": null,
      "outputs": []
    },
    {
      "cell_type": "code",
      "source": [
        "tb_census_df = (\n",
        "    tb_df\n",
        "    .merge(right=census_2010s_df[[\"Geographic Area\", \"2019\"]],\n",
        "           left_on= \"U.S. jurisdiction\", right_on=\"Geographic Area\")\n",
        "    .drop(columns=\"Geographic Area\")\n",
        "    .merge(right=census_2020s_df[[\"Geographic Area\", \"2020\", \"2021\"]],\n",
        "           left_on=\"U.S. jurisdiction\", right_on= \"Geographic Area\")\n",
        "    .drop(columns=\"Geographic Area\")\n",
        ")\n",
        "tb_census_df.tail()"
      ],
      "metadata": {
        "id": "kZTlxvWzmcpU"
      },
      "execution_count": null,
      "outputs": []
    },
    {
      "cell_type": "code",
      "source": [
        "tb_census_df[\"recompute incidence 2019\"] = (\n",
        "    tb_census_df[\"TB cases 2019\"]/tb_census_df[\"2019\"] * 100_000\n",
        ")\n",
        "tb_census_df"
      ],
      "metadata": {
        "id": "KWu4zx5EnKaM"
      },
      "execution_count": null,
      "outputs": []
    },
    {
      "cell_type": "code",
      "source": [
        "for year in [2019, 2020, 2021]:\n",
        "  tb_census_df[f\"recompute incidence {year}\"] = (\n",
        "      tb_census_df[f\"TB cases {year}\"]/tb_census_df[f\"{year}\"]*100_000\n",
        "  )\n",
        "tb_census_df"
      ],
      "metadata": {
        "id": "swmWyLlVnYY2"
      },
      "execution_count": null,
      "outputs": []
    },
    {
      "cell_type": "code",
      "source": [
        "tb_census_df.describe()"
      ],
      "metadata": {
        "id": "FJXR2yb9nz9u"
      },
      "execution_count": null,
      "outputs": []
    },
    {
      "cell_type": "code",
      "source": [
        "tb_df = tb_df.set_index(\"U.S. jurisdiction\")\n",
        "tb_df"
      ],
      "metadata": {
        "id": "PLoSmCFin2qa"
      },
      "execution_count": null,
      "outputs": []
    },
    {
      "cell_type": "code",
      "source": [
        "census_2010s_df = census_2010s_df.set_index(\"Geographic Area\")\n",
        "census_2010s_df"
      ],
      "metadata": {
        "id": "knHoqpfln9rL"
      },
      "execution_count": null,
      "outputs": []
    },
    {
      "cell_type": "code",
      "source": [
        "census_2020s_df = census_2020s_df.set_index(\"Geographic Area\")\n",
        "census_2020s_df"
      ],
      "metadata": {
        "id": "ZmJYa3yHoE-c"
      },
      "execution_count": null,
      "outputs": []
    },
    {
      "cell_type": "code",
      "source": [
        "tb_df.head()"
      ],
      "metadata": {
        "id": "OQgy4Z4QoLRY"
      },
      "execution_count": null,
      "outputs": []
    },
    {
      "cell_type": "code",
      "source": [
        "census_2010s_df"
      ],
      "metadata": {
        "id": "VpeLuhwKoNki"
      },
      "execution_count": null,
      "outputs": []
    },
    {
      "cell_type": "code",
      "source": [
        "census_2010s_df.rename(index={'United States':'Total'}, inplace=True)\n",
        "census_2010s_df"
      ],
      "metadata": {
        "id": "HYtqJNA1oQ_U"
      },
      "execution_count": null,
      "outputs": []
    },
    {
      "cell_type": "code",
      "source": [
        "census_2020s_df.rename(index={'United States':'Total'}, inplace=True)\n",
        "census_2020s_df"
      ],
      "metadata": {
        "id": "BNjfPQBqoXvr"
      },
      "execution_count": null,
      "outputs": []
    },
    {
      "cell_type": "code",
      "source": [
        "tb_census_df = (\n",
        "    tb_df\n",
        "    .merge(right=census_2010s_df[[\"2019\"]],\n",
        "           left_index= True, right_index=True)\n",
        "    .merge(right=census_2020s_df[[\"2020\", \"2021\"]],\n",
        "           left_index=True, right_index=True)\n",
        ")\n",
        "tb_census_df"
      ],
      "metadata": {
        "id": "FdwwdaIQojel"
      },
      "execution_count": null,
      "outputs": []
    },
    {
      "cell_type": "code",
      "source": [
        "for year in [2019, 2020, 2021]:\n",
        "  tb_census_df[f\"recompute incidence {year}\"] = tb_census_df[f\"TB cases {year}\"] / tb_census_df[f\"{year}\"]*100000\n",
        "tb_census_df"
      ],
      "metadata": {
        "id": "smfeoaB9o8bw"
      },
      "execution_count": null,
      "outputs": []
    },
    {
      "cell_type": "code",
      "source": [
        "tb_census_df"
      ],
      "metadata": {
        "id": "HjCTOPZApT51"
      },
      "execution_count": null,
      "outputs": []
    },
    {
      "cell_type": "code",
      "source": [
        "incidence_2020 = tb_census_df.loc['Total', 'recompute incidence 2020']\n",
        "incidence_2020"
      ],
      "metadata": {
        "id": "Sg03cMDtpUUa"
      },
      "execution_count": null,
      "outputs": []
    },
    {
      "cell_type": "code",
      "source": [
        "incidence_2021 = tb_census_df.loc['Total', 'recompute incidence 2021']\n",
        "incidence_2021"
      ],
      "metadata": {
        "id": "JqaF34Ocpm0u"
      },
      "execution_count": null,
      "outputs": []
    },
    {
      "cell_type": "code",
      "source": [
        "difference = (incidence_2021 - incidence_2020)/incidence_2020 * 100\n",
        "difference"
      ],
      "metadata": {
        "id": "N-zdRjQJp2sh"
      },
      "execution_count": null,
      "outputs": []
    }
  ]
}