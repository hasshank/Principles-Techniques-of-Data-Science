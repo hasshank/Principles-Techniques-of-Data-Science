{
  "nbformat": 4,
  "nbformat_minor": 0,
  "metadata": {
    "colab": {
      "provenance": []
    },
    "kernelspec": {
      "name": "python3",
      "display_name": "Python 3"
    },
    "language_info": {
      "name": "python"
    }
  },
  "cells": [
    {
      "cell_type": "code",
      "execution_count": null,
      "metadata": {
        "id": "t2rPpUfrhHdD"
      },
      "outputs": [],
      "source": [
        "import numpy as np\n",
        "import pandas as pd"
      ]
    },
    {
      "cell_type": "code",
      "source": [
        "import matplotlib.pyplot as plt\n",
        "import seaborn as sns\n",
        "plt.rcParams['figure.figsize'] = (12, 9)\n",
        "\n",
        "sns.set()\n",
        "sns.set_context('talk')\n",
        "np.set_printoptions(threshold=20, precision = 2, suppress = True)\n",
        "pd.set_option('display.max_rows', 30)\n",
        "pd.set_option('display.max_columns', None)\n",
        "pd.set_option('precision', 2)\n",
        "\n",
        "pd.set_option('display.float_format', '{:.2f}'.format)\n",
        "\n",
        "import warnings\n",
        "warnings.filterwarnings(\"ignore\", category=FutureWarning)"
      ],
      "metadata": {
        "id": "8jvwmwEfqmQb"
      },
      "execution_count": null,
      "outputs": []
    },
    {
      "cell_type": "code",
      "source": [
        "tuberculosis_df_tsv = pd.read_csv('data/cdc_tuberculosis.tsv', sep = '\\t')\n",
        "tuberculosis_df_tsv"
      ],
      "metadata": {
        "id": "LXVjBXifrJFw"
      },
      "execution_count": null,
      "outputs": []
    },
    {
      "cell_type": "code",
      "source": [
        "with open(\"data/cdc_tuberculosis.tsv\", \"r\") as f:\n",
        "    for _, row in zip(range(4), f):\n",
        "        print(repr(row))"
      ],
      "metadata": {
        "id": "2A-D7phwrQY8"
      },
      "execution_count": null,
      "outputs": []
    },
    {
      "cell_type": "code",
      "source": [
        "from ds100_utils import fetch_and_cache"
      ],
      "metadata": {
        "id": "MkfQKV1treS8"
      },
      "execution_count": null,
      "outputs": []
    },
    {
      "cell_type": "code",
      "source": [
        "covid_file = fetch_and_catch(\n",
        "    \"https://data.cityofberkeley.info/api/views/xn6j-b766/rows.json?accessType=DOWNLOAD\",\n",
        "    \"confirmed-cases.json\",\n",
        "    force = False)\n",
        "covid_file"
      ],
      "metadata": {
        "id": "lT8CpfCoriUS"
      },
      "execution_count": null,
      "outputs": []
    },
    {
      "cell_type": "code",
      "source": [
        "import os\n",
        "\n",
        "print(covid_file, \"is\", os.path.getsize(covid_file) / 1e6, \"MB\")"
      ],
      "metadata": {
        "id": "v_Ith2uRrvCO"
      },
      "execution_count": null,
      "outputs": []
    },
    {
      "cell_type": "code",
      "source": [
        "!ls -lh {covid_file}\n",
        "!wc -l {covid_file}"
      ],
      "metadata": {
        "id": "8pmMiasMr43v"
      },
      "execution_count": null,
      "outputs": []
    },
    {
      "cell_type": "code",
      "source": [
        "with open(covid_file, \"r\") as f:\n",
        "    for i, row in enumerate(f):\n",
        "        print(repr(row))\n",
        "        if i >= 4: break"
      ],
      "metadata": {
        "id": "3Bnqjx7vsFHN"
      },
      "execution_count": null,
      "outputs": []
    },
    {
      "cell_type": "code",
      "source": [
        "!head -5 {covid_file}"
      ],
      "metadata": {
        "id": "3UOYXv5ZsPE0"
      },
      "execution_count": null,
      "outputs": []
    },
    {
      "cell_type": "code",
      "source": [
        "import json\n",
        "\n",
        "with open(covid_file, \"rb\") as f:\n",
        "    covid_json = json.load(f)"
      ],
      "metadata": {
        "id": "F6Cs6D0wsRc6"
      },
      "execution_count": null,
      "outputs": []
    },
    {
      "cell_type": "code",
      "source": [
        "type(covid_json)"
      ],
      "metadata": {
        "id": "pKipHnp3sXOx"
      },
      "execution_count": null,
      "outputs": []
    },
    {
      "cell_type": "code",
      "source": [
        "covid_json.keys()"
      ],
      "metadata": {
        "id": "E_dTMicvsYw-"
      },
      "execution_count": null,
      "outputs": []
    },
    {
      "cell_type": "code",
      "source": [
        "covid_json['meta'].keys()"
      ],
      "metadata": {
        "id": "H-JuA4rLsa22"
      },
      "execution_count": null,
      "outputs": []
    },
    {
      "cell_type": "code",
      "source": [
        "covid_json['meta']['view'].keys()"
      ],
      "metadata": {
        "id": "hKIs4aECsdVu"
      },
      "execution_count": null,
      "outputs": []
    },
    {
      "cell_type": "code",
      "source": [
        "print(covid_json['meta']['view']['description'])"
      ],
      "metadata": {
        "id": "xzyD9cRHsgo9"
      },
      "execution_count": null,
      "outputs": []
    },
    {
      "cell_type": "code",
      "source": [
        "for i in range(3):\n",
        "    print(f\"{i:03} | {covid_json['data'][i]}\")"
      ],
      "metadata": {
        "id": "x0LJvdHBsipo"
      },
      "execution_count": null,
      "outputs": []
    },
    {
      "cell_type": "code",
      "source": [
        "covid_json['meta']['view']['columns']"
      ],
      "metadata": {
        "id": "aF4q8TiYs5Ex"
      },
      "execution_count": null,
      "outputs": []
    },
    {
      "cell_type": "code",
      "source": [
        "from IPython.display import JSON\n",
        "JSON(covid_json)"
      ],
      "metadata": {
        "id": "pq7oCeLTs8h5"
      },
      "execution_count": null,
      "outputs": []
    },
    {
      "cell_type": "code",
      "source": [
        "covid = pd.DataFrame(\n",
        "    covid_json['data'],\n",
        "    columns = [c['name'] for c in covid_json['meta']['view']['columns']])\n",
        "\n",
        "covid.tail()"
      ],
      "metadata": {
        "id": "6X9fUGlGtEji"
      },
      "execution_count": null,
      "outputs": []
    },
    {
      "cell_type": "code",
      "source": [
        "calls = pd.read_csv(\"data/Berkeley_PD_-_Calls_for_Service.csv\")\n",
        "calls.head()"
      ],
      "metadata": {
        "id": "6XCvQU3ytfbY"
      },
      "execution_count": null,
      "outputs": []
    },
    {
      "cell_type": "code",
      "source": [
        "calls[\"EVENTID\"] = pd.to_datetime(calls[\"EVENTDT\"],\n",
        "                                  format = \"%m/%d/%Y %I:%M:%S %p\")\n",
        "calls.head()"
      ],
      "metadata": {
        "id": "Ht0FwHHetmn6"
      },
      "execution_count": null,
      "outputs": []
    },
    {
      "cell_type": "code",
      "source": [
        "calls[\"EVENTID\"].dt.month"
      ],
      "metadata": {
        "id": "hh5jKx93t4Oa"
      },
      "execution_count": null,
      "outputs": []
    },
    {
      "cell_type": "code",
      "source": [
        "calls[\"EVENTID\"].dt.dayofweek"
      ],
      "metadata": {
        "id": "2lR-Mi2St8Fl"
      },
      "execution_count": null,
      "outputs": []
    },
    {
      "cell_type": "code",
      "source": [
        "calls.sort_values(\"EVENTID\").head()"
      ],
      "metadata": {
        "id": "-JovfXdht-wb"
      },
      "execution_count": null,
      "outputs": []
    }
  ]
}