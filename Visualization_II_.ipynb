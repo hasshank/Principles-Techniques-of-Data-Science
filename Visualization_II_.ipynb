{
  "nbformat": 4,
  "nbformat_minor": 0,
  "metadata": {
    "colab": {
      "provenance": []
    },
    "kernelspec": {
      "name": "python3",
      "display_name": "Python 3"
    },
    "language_info": {
      "name": "python"
    }
  },
  "cells": [
    {
      "cell_type": "code",
      "execution_count": null,
      "metadata": {
        "id": "WxnLKFPSJtl1"
      },
      "outputs": [],
      "source": [
        "import numpy as np\n",
        "import pandas as pd\n",
        "import matplotlib.pyplot as plt\n",
        "import seaborn as sns\n",
        "\n",
        "%matplotlib inline"
      ]
    },
    {
      "cell_type": "code",
      "source": [
        "wb = pd.read_csv(\"data/world_bank.csv\", index_col=0)\n",
        "wb = wb.rename(columns={'Antiretroviral therapy coverage: % of people living with HIV: 2015':\"HIV rate\",\n",
        "                        'Gross national income per capita, Atlas method: $: 2016':'gni'})\n",
        "wb.head()"
      ],
      "metadata": {
        "id": "_PrpC1E0KTnD"
      },
      "execution_count": null,
      "outputs": []
    },
    {
      "cell_type": "code",
      "source": [
        "sns.displot(data=wb,\n",
        "            x=\"gni\",\n",
        "            kind=\"hist\",\n",
        "            stat=\"density\")\n",
        "plt.title(\"Distribution of gross national income per capita\");"
      ],
      "metadata": {
        "id": "XCrIWlCTK5sa"
      },
      "execution_count": null,
      "outputs": []
    },
    {
      "cell_type": "code",
      "source": [
        "sns.displot(data=wb,\n",
        "            x=\"gni\",\n",
        "            kind='kde')\n",
        "plt.title(\"Distribution of gross national income per capita\");"
      ],
      "metadata": {
        "id": "isg80NZdLReS"
      },
      "execution_count": null,
      "outputs": []
    },
    {
      "cell_type": "code",
      "source": [
        "sns.displot(data=wb,\n",
        "            x=\"gni\",\n",
        "            kind='ecdf')\n",
        "plt.title(\"Cumulative Distribution of gross national income per capita\");"
      ],
      "metadata": {
        "id": "9TKIq9UvL5s-"
      },
      "execution_count": null,
      "outputs": []
    },
    {
      "cell_type": "code",
      "source": [
        "plt.scatter(wb['per capita: % growth: 2016'], wb['Adult literacy rate: Female: % ages 15 and older: 2005-14'])\n",
        "plt.xlabel(\"% growth per capita\")\n",
        "plt.ylabel(\"Female adult literacy rate\");"
      ],
      "metadata": {
        "id": "fpbRk9vdMD4G"
      },
      "execution_count": null,
      "outputs": []
    },
    {
      "cell_type": "code",
      "source": [
        "sns.scatterplot(data=wb, x='per capita: % growth: 2016', \\\n",
        "                y='Adult literacy rate: Female: % ages 15 and older: 2005-14', hue=\"Continent\")\n",
        "plt.xlabel(\"% growth per capita\")\n",
        "plt.ylabel(\"Female adult literacy rate\");"
      ],
      "metadata": {
        "id": "ruS-h1HWMYFh"
      },
      "execution_count": null,
      "outputs": []
    },
    {
      "cell_type": "code",
      "source": [
        "random_x_noise = np.random.uniform(-1, 1, len(wb))\n",
        "random_y_noise = np.random.uniform(-5, 5, len(wb))\n",
        "\n",
        "plt.scatter(wb['per capita: % growth: 2016'] + random_x_noise, \\\n",
        "            wb['Adult literacy rate: Female: % ages 15 and older: 2005-14'] + random_y_noise, s=15)\n",
        "\n",
        "plt.xlabel(\"% growth per capita (jittered)\")\n",
        "plt.ylabel(\"Female adult literacy rate (jittered)\");"
      ],
      "metadata": {
        "id": "aYEeP30CMtyC"
      },
      "execution_count": null,
      "outputs": []
    },
    {
      "cell_type": "code",
      "source": [
        "sns.lmplot(data=wb, x='per capita: % growth: 2016', \\\n",
        "           y ='Adult literacy rate: Female: % ages 15 and older: 2005-14');"
      ],
      "metadata": {
        "id": "fFY63_00NeaU"
      },
      "execution_count": null,
      "outputs": []
    },
    {
      "cell_type": "code",
      "source": [
        "sns.jointplot(data=wb, x='per capita: % growth: 2016', \\\n",
        "              y='Adult literacy rate: Female: % ages 15 and older: 2005-14'\n",
        "              kind='hex');"
      ],
      "metadata": {
        "id": "hSPeHz1RNzOi"
      },
      "execution_count": null,
      "outputs": []
    },
    {
      "cell_type": "code",
      "source": [
        "sns.kdeplot(data=wb, x='per capita: % growth: 2016', \\\n",
        "            y='Adult literacy rate: Female: % ages 15 and older: 2005-14', fill=True);"
      ],
      "metadata": {
        "id": "fNQoijF9OHW-"
      },
      "execution_count": null,
      "outputs": []
    },
    {
      "cell_type": "code",
      "source": [
        "sns.jointplot(data=wb, x='per capita: % growth: 2016', \\\n",
        "              y='Adult literacy rate: Female: % ages 15 and older: 2005-14',\n",
        "              kind='kde');"
      ],
      "metadata": {
        "id": "BkAPH4ifOqYO"
      },
      "execution_count": null,
      "outputs": []
    },
    {
      "cell_type": "code",
      "source": [
        "df = pd.DataFrame(index=wb.index)\n",
        "df['lit'] = wb['Adult literacy rate: Female: % ages 15 and older: 2005-14'] \\\n",
        "          + wb[\"Adult literacy rate: Male: % ages 15 and older: 2005-14\"]\n",
        "df['inc'] = wb['gni']\n",
        "df.dropna(inplace=True)\n",
        "\n",
        "plt.scatter(df[\"inc\"], df[\"lit\"])\n",
        "plt.xlabel(\"Gross national income per capita\")\n",
        "plt.ylabel(\"dult literacy rate\");"
      ],
      "metadata": {
        "id": "7vXQRtqUO88_"
      },
      "execution_count": null,
      "outputs": []
    },
    {
      "cell_type": "code",
      "source": [
        "plt.scatter(np.log(df[\"inc\"]), df[\"lit\"])\n",
        "plt.xlabel(\"Log(gross national income per capita)\")\n",
        "plt.ylabel(\"Adult literacy rate\")"
      ],
      "metadata": {
        "id": "ptuL5K01QJ03"
      },
      "execution_count": null,
      "outputs": []
    },
    {
      "cell_type": "code",
      "source": [
        "plt.scatter(np.log(df[\"inc\"]), df[\"lit\"]**4)\n",
        "plt.xlabel(\"Log(gross national income per capita)\")\n",
        "plt.ylabel(\"Adult literacy rate (4th power)\");"
      ],
      "metadata": {
        "id": "VU8XvpdAQXLa"
      },
      "execution_count": null,
      "outputs": []
    },
    {
      "cell_type": "code",
      "source": [
        "from sklearn.linear_model import LinearRegression\n",
        "\n",
        "model = LinearRegression()\n",
        "model.fit(np.log(df[[\"inc\"]]), df[\"lit\"]**4)\n",
        "m, b = model.coef_[0], model.intercept_\n",
        "\n",
        "print(f\"The slope, m, of the transformed data is: {m}\")\n",
        "print(f\"The intercept, b, of the transformed data is: {b}\")\n",
        "\n",
        "df = df.sort_values(\"inc\")\n",
        "plt.scatter(np.log(df[\"inc\"]), df[\"lit\"]**4, label=\"Transformed data\")\n",
        "plt.plot(np.log(df[\"inc\"]), m*np.log(df[\"inc\"])+b, c=\"red\", label=\"Linear regression\")\n",
        "plt.xlabel(\"Log(gross national income per capita)\")\n",
        "plt.ylabel(\"Adult literacy rate (4th power)\")\n",
        "plt.legend();"
      ],
      "metadata": {
        "id": "HxFHxwdxQj7s"
      },
      "execution_count": null,
      "outputs": []
    },
    {
      "cell_type": "code",
      "source": [
        "plt.scatter(df[\"inc\"], df[\"lit\"], label=\"Untransformed data\")\n",
        "plt.plot(df[\"inc\"], (m*np.log(df[\"inc\"])+b)**(1/4), c=\"red\", label=\"Modeled relationship\")\n",
        "plt.xlabel(\"Gross national income per capita\")\n",
        "plt.ylabel(\"Adult literacy rate\")\n",
        "plt.legend();"
      ],
      "metadata": {
        "id": "pVvI7yNpSciA"
      },
      "execution_count": null,
      "outputs": []
    },
    {
      "cell_type": "code",
      "source": [
        "ppdf = np.DataFrame(dict(Cancer=[2007371, 935573], Abortion=[289750, 327000]),\n",
        "                    index=pd.Series([2006, 2013],\n",
        "                    name=\"Year\"))\n",
        "ppdf"
      ],
      "metadata": {
        "id": "KGDDCpceXpbY"
      },
      "execution_count": null,
      "outputs": []
    },
    {
      "cell_type": "code",
      "source": [
        "ax = sns.lineplot(data=ppdf, markers=True)\n",
        "ax.set_title(\"Planned Parenthood Procedures\")\n",
        "ax.set_xticks([2006, 2013])\n",
        "ax.set_ylabel(\"Service count\");"
      ],
      "metadata": {
        "id": "VhIdnfrCYJHj"
      },
      "execution_count": null,
      "outputs": []
    },
    {
      "cell_type": "code",
      "source": [
        "rel_change = 100*(ppdf.loc[2013] - ppdf.loc[2006])/ppdf.loc[2006]\n",
        "rel_change.name = \"Percent Change\"\n",
        "rel_change"
      ],
      "metadata": {
        "id": "KzfLeyNtYbWc"
      },
      "execution_count": null,
      "outputs": []
    },
    {
      "cell_type": "code",
      "source": [
        "ax = sns.barplot(x=rel_change.index, y=rel_change)\n",
        "ax.axhline(0, color='black')\n",
        "ax.set_title(\"Percent Change in Number of Procedures\");"
      ],
      "metadata": {
        "id": "bNfOuNikYv6g"
      },
      "execution_count": null,
      "outputs": []
    },
    {
      "cell_type": "code",
      "source": [
        "cps = pd.read_csv(\"data/edInc2.csv\")\n",
        "cps"
      ],
      "metadata": {
        "id": "JPbiQuxXY-XZ"
      },
      "execution_count": null,
      "outputs": []
    },
    {
      "cell_type": "code",
      "source": [
        "cps = cps.replace({'educ':{1:\"<HS\", 2:\"HS\", 3:\"<BA\", 4:\"BA\", 5:\">BA\"}})\n",
        "cps.columns = ['Education', 'Gender', 'Income']\n",
        "cps"
      ],
      "metadata": {
        "id": "fs3ybzaqZC2K"
      },
      "execution_count": null,
      "outputs": []
    },
    {
      "cell_type": "code",
      "source": [
        "blue_red = [\"#397eb7\", \"#bf1518\"]\n",
        "with sns.color_palette(sns.color_palette(blue_red)):\n",
        "  ax = sns.pointplot(data=cps, x=\"Education\", y=\"Income\", hue=\"Gender\")\n",
        "\n",
        "ax.set_title(\"2014 Median Weekly Earnings\\nFull-Time Workers over 25 years old\");"
      ],
      "metadata": {
        "id": "gNgoJF1lZYir"
      },
      "execution_count": null,
      "outputs": []
    },
    {
      "cell_type": "code",
      "source": [
        "cps.head()"
      ],
      "metadata": {
        "id": "QS9cNWDiZ0hW"
      },
      "execution_count": null,
      "outputs": []
    },
    {
      "cell_type": "code",
      "source": [
        "cg = cps.set_index(\"Education\").groupby(\"Gender\")\n",
        "men = cg.get_group(\"Men\").drop(\"Gender\", axis=\"columns\")\n",
        "women = cg.get_group(\"Women\").drop(\"Gender\", axis=\"columns\")\n",
        "display(men, women)"
      ],
      "metadata": {
        "id": "NG2SGTqjZ2Ma"
      },
      "execution_count": null,
      "outputs": []
    },
    {
      "cell_type": "code",
      "source": [
        "mfratio = men/women\n",
        "mfratio.columns = [\"Income Ratio (M/F)\"]\n",
        "mfratio"
      ],
      "metadata": {
        "id": "VKIibnkHa5bb"
      },
      "execution_count": null,
      "outputs": []
    },
    {
      "cell_type": "code",
      "source": [
        "ax = sns.lineplot(data=mfratio, markers = True, legend = False);\n",
        "ax.set_ylabel(\"Ratio\")\n",
        "ax.set_title(\"M/F Income Ratio as a function of education level\");"
      ],
      "metadata": {
        "id": "B0TlwaNAbHsV"
      },
      "execution_count": null,
      "outputs": []
    },
    {
      "cell_type": "code",
      "source": [
        "fmratio = women/men\n",
        "fmratio.columns = [\"Income Ratio (F/M)\"]\n",
        "fmratio"
      ],
      "metadata": {
        "id": "zubkuAcrb1uH"
      },
      "execution_count": null,
      "outputs": []
    },
    {
      "cell_type": "code",
      "source": [
        "ax = sns.lineplot(data=fmratio, markers=True, legend=False);\n",
        "ax.set_ylabel(\"Ratio\")\n",
        "ax.set_title(\"F/M Income Ratio as a function of education level\");"
      ],
      "metadata": {
        "id": "aamJcRMTcdWM"
      },
      "execution_count": null,
      "outputs": []
    },
    {
      "cell_type": "code",
      "source": [
        "co2 = pd.read_csv(\"data/CAITcountryCO2.csv\", skiprows=2,\n",
        "                  names=[\"Country\", \"Year\", \"CO2\"], encoding=\"ISO-8859-1\")\n",
        "co2.tail()"
      ],
      "metadata": {
        "id": "KMovRoWMcu57"
      },
      "execution_count": null,
      "outputs": []
    },
    {
      "cell_type": "code",
      "source": [
        "last_year = co2.Year.iloc[-1]\n",
        "last_year"
      ],
      "metadata": {
        "id": "Z9cyy1lxdBDC"
      },
      "execution_count": null,
      "outputs": []
    },
    {
      "cell_type": "code",
      "source": [
        "q = f\"Country != 'World' and Country != 'European Union (15)' and Year == {last_year}\"\n",
        "top14_last = co2.query(q).sort_values('CO2', ascending = False).iloc[:14]\n",
        "top14_lasty"
      ],
      "metadata": {
        "id": "rNgWzii3dFGu"
      },
      "execution_count": null,
      "outputs": []
    },
    {
      "cell_type": "code",
      "source": [
        "top14 = co2[co2.Country.isin(top14_lasty.Country) & (co2.Year >= 1950)]\n",
        "print(len(top14.Country.unique()))\n",
        "top14.head()"
      ],
      "metadata": {
        "id": "oXAXHm0qeDAS"
      },
      "execution_count": null,
      "outputs": []
    },
    {
      "cell_type": "code",
      "source": [
        "from cycler import cycler\n",
        "\n",
        "linestyle = ['-', '--', ':', '-.' ]\n",
        "colors = plt.cm.Dark2.colors\n",
        "lines_c = cycler('linestyle', linestyles)\n",
        "color_c = cycler('color', colors)\n",
        "\n",
        "fig, ax = plt.subplots(figsize=(8,8))\n",
        "ax.set_prop_cycle(color_c * lines_c)\n",
        "\n",
        "x, y = 'Year', 'CO2'\n",
        "for name, df in top14.groupby('Country'):\n",
        "  ax.semilogy(df[x], df[y], label=name)\n",
        "\n",
        "ax.set_xlabel(x)\n",
        "ax.set_ylabel(f\"{y} Emissions (million tons)\")\n",
        "ax.legend(ncol=2, frameon=True, fontsize=11);"
      ],
      "metadata": {
        "id": "oHsU6m3KeVDs"
      },
      "execution_count": null,
      "outputs": []
    }
  ]
}