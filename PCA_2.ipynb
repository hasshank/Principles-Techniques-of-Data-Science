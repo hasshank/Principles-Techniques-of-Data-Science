{
  "nbformat": 4,
  "nbformat_minor": 0,
  "metadata": {
    "colab": {
      "provenance": []
    },
    "kernelspec": {
      "name": "python3",
      "display_name": "Python 3"
    },
    "language_info": {
      "name": "python"
    }
  },
  "cells": [
    {
      "cell_type": "code",
      "execution_count": 2,
      "metadata": {
        "id": "394Mrq9YJtCW"
      },
      "outputs": [],
      "source": [
        "import pandas as pd\n",
        "import seaborn as sns\n",
        "import matplotlib.pyplot as plt\n",
        "import numpy as np\n",
        "import yaml\n",
        "from datetime import datetime\n",
        "import plotly.express as px"
      ]
    },
    {
      "cell_type": "code",
      "source": [
        "rectangle = pd.read_csv('data/rectangle_data.csv')\n",
        "rectangle"
      ],
      "metadata": {
        "id": "ZXgOGHFcKR4M"
      },
      "execution_count": null,
      "outputs": []
    },
    {
      "cell_type": "code",
      "source": [
        "X = rectangle - np.mean(rectangle, axis = 0)\n",
        "X.head(10)"
      ],
      "metadata": {
        "id": "F2R0t6X0KbKU"
      },
      "execution_count": null,
      "outputs": []
    },
    {
      "cell_type": "code",
      "source": [
        "X = X / np.std(X, axis=0)"
      ],
      "metadata": {
        "id": "kny5o9deKigb"
      },
      "execution_count": null,
      "outputs": []
    },
    {
      "cell_type": "code",
      "source": [
        "U, S, Vt = np.linalg.svd(X, full_matrices = False)"
      ],
      "metadata": {
        "id": "17mw-gyYKnBB"
      },
      "execution_count": null,
      "outputs": []
    },
    {
      "cell_type": "code",
      "source": [
        "print(\"Shape of U\", U.shape)\n",
        "print(\"Shape of S\", S.shape)\n",
        "print(\"Shape of Vt\", Vt.shape)"
      ],
      "metadata": {
        "id": "CiuujPKsKs2S"
      },
      "execution_count": null,
      "outputs": []
    },
    {
      "cell_type": "code",
      "source": [
        "Sm = np.diag(S)\n",
        "Sm"
      ],
      "metadata": {
        "id": "hmIpM_mxK61e"
      },
      "execution_count": null,
      "outputs": []
    },
    {
      "cell_type": "code",
      "source": [
        "np.isclose(S[3], 0)"
      ],
      "metadata": {
        "id": "clrSXKQgK965"
      },
      "execution_count": null,
      "outputs": []
    },
    {
      "cell_type": "code",
      "source": [
        "S.round(5)"
      ],
      "metadata": {
        "id": "UymLotPwLCnd"
      },
      "execution_count": null,
      "outputs": []
    },
    {
      "cell_type": "code",
      "source": [
        "pd.DataFrame(np.round(np.diag(S), 3))"
      ],
      "metadata": {
        "id": "kdHtt06ZLElj"
      },
      "execution_count": null,
      "outputs": []
    },
    {
      "cell_type": "code",
      "source": [
        "pd.DataFrame(np.round(S**2 / X.shape[0], 3))"
      ],
      "metadata": {
        "id": "Y_1XIPN-LK6A"
      },
      "execution_count": null,
      "outputs": []
    },
    {
      "cell_type": "code",
      "source": [
        "Z = U[:, :2] @ np.diag(S[:2])\n",
        "pd.DataFrame(Z).head()"
      ],
      "metadata": {
        "id": "9_1uMgiJLREl"
      },
      "execution_count": null,
      "outputs": []
    },
    {
      "cell_type": "code",
      "source": [
        "Z = X.to_numpy() @ Vt.T[:,:2]\n",
        "pd.DataFrame(Z).head()"
      ],
      "metadata": {
        "id": "R2jrb1AhLeg5"
      },
      "execution_count": null,
      "outputs": []
    },
    {
      "cell_type": "code",
      "source": [
        "px.scatter(x=Z[:,0], y=Z[:,1], render_mode=\"svg\")"
      ],
      "metadata": {
        "id": "HaLVo8YALt7Q"
      },
      "execution_count": null,
      "outputs": []
    },
    {
      "cell_type": "code",
      "source": [
        "from sklearn.decomposition import PCA\n",
        "pca = PCA(2)\n",
        "pd.DataFrame(pca.fit_transform(X)).head(5)"
      ],
      "metadata": {
        "id": "a_2F5R2MNcu0"
      },
      "execution_count": null,
      "outputs": []
    },
    {
      "cell_type": "code",
      "source": [
        "pd.DataFrame(Z).head()"
      ],
      "metadata": {
        "id": "_7pekwhBNmoe"
      },
      "execution_count": null,
      "outputs": []
    },
    {
      "cell_type": "code",
      "source": [
        "pd.DataFrame(pca.fit_transform(X)).head(5)"
      ],
      "metadata": {
        "id": "KCkF0YSZNpy2"
      },
      "execution_count": null,
      "outputs": []
    },
    {
      "cell_type": "code",
      "source": [
        "pd.DataFrame(np.cov(Z.T))"
      ],
      "metadata": {
        "id": "sqqdHZumNvI2"
      },
      "execution_count": null,
      "outputs": []
    },
    {
      "cell_type": "code",
      "source": [
        "rectangle.head()"
      ],
      "metadata": {
        "id": "iaSf3ogZNyw6"
      },
      "execution_count": null,
      "outputs": []
    },
    {
      "cell_type": "code",
      "source": [
        "k = 2\n",
        "Y,S, Vt = np.linalg.svd(X, full_matrices = False)\n",
        "\n",
        "Z = U[:, :k] @ np.diag(S[:k])\n",
        "\n",
        "rectangle_hat = pd.DataFrame(Z @ Vt[:k, :], columns = rectangle.columns)\n",
        "\n",
        "rectangle_hat = rectangle_hat * np.std(rectangle, axis=0) + np.mean(rectangle, axis = 0)\n",
        "\n",
        "fig = px.scatter_3d(rectangle, x=\"width\", y=\"height\", z=\"area\",\n",
        "                    width=800, height=600)\n",
        "fig.add_scatter3d(x=rectangle_hat[\"width\"],\n",
        "                  y = rectangle_hat[\"height\"],\n",
        "                  z=rectangle_hat[\"area\"],\n",
        "                  mode=\"markers\", name = \"approximation\")"
      ],
      "metadata": {
        "id": "OadKGFwoN0fE"
      },
      "execution_count": null,
      "outputs": []
    },
    {
      "cell_type": "code",
      "source": [
        "votes = pd.read_csv('data/votes.csv')\n",
        "votes = votes.astype({\"roll call\": str})\n",
        "votes"
      ],
      "metadata": {
        "id": "7NHkMsjCPDR0"
      },
      "execution_count": null,
      "outputs": []
    },
    {
      "cell_type": "code",
      "source": [
        "def was_yes(s):\n",
        "  return 1 if s.iloc[0] == \"Yes\" else 0\n",
        "vote_pivot = votes.pivot_table(index='member',\n",
        "                               columns='roll call',\n",
        "                               values='vote',\n",
        "                               aggfunc=was_yes,\n",
        "                               fill_value=0)\n",
        "print(vote_pivot.shape)\n",
        "vote_pivot.head()"
      ],
      "metadata": {
        "id": "LNmlj06QQasg"
      },
      "execution_count": null,
      "outputs": []
    },
    {
      "cell_type": "code",
      "source": [
        "vote_pivot_centered = vote_pivot - np.mean(vote_pivot, axis = 0)\n",
        "vote_pivot_centered"
      ],
      "metadata": {
        "id": "CR_1WwGPRBVV"
      },
      "execution_count": null,
      "outputs": []
    },
    {
      "cell_type": "code",
      "source": [
        "vote_pivot_centered.shape"
      ],
      "metadata": {
        "id": "iF2nTUplRM1G"
      },
      "execution_count": null,
      "outputs": []
    },
    {
      "cell_type": "code",
      "source": [
        "u, s, vt = np.linalg.svd(vote_pivot_centered, full_matrices = False)"
      ],
      "metadata": {
        "id": "rNd0gwxTRQhm"
      },
      "execution_count": null,
      "outputs": []
    },
    {
      "cell_type": "code",
      "source": [
        "print(\"u.shape\", u.shape)\n",
        "print(\"s.shape\", s.shape)\n",
        "print(\"vt.shape\", vt.shape)"
      ],
      "metadata": {
        "id": "nTqYe_YDRYRw"
      },
      "execution_count": null,
      "outputs": []
    },
    {
      "cell_type": "code",
      "source": [
        "vote_2d = pd.DataFrame(index = vote_pivot_centered.index)\n",
        "vote_2d[[\"z1\", \"z2\", \"z3\"]] = (u * s)[:, :3]\n",
        "px.scatter(vote_2d, x='z1', y='z2', title='Vote Data', width=800, height=600, rendee_mode=\"svg\")"
      ],
      "metadata": {
        "id": "n9ym96QKRgwS"
      },
      "execution_count": null,
      "outputs": []
    },
    {
      "cell_type": "code",
      "source": [
        "np.round(s**2 / sum(s**2), 2)"
      ],
      "metadata": {
        "id": "G8M6OrdNR7-x"
      },
      "execution_count": null,
      "outputs": []
    },
    {
      "cell_type": "code",
      "source": [
        "fig = px.line(y=s**2 / sum(s**2), title='Variance Explained', width=700, height=400, markers=True)\n",
        "fig.update_xaxes(title_text='Principal Component')\n",
        "fig.update_yaxes(title_text='Proportion of Variance Explained')"
      ],
      "metadata": {
        "id": "err72zVjSBTM"
      },
      "execution_count": null,
      "outputs": []
    },
    {
      "cell_type": "code",
      "source": [
        "fig = px.scatter_3d(vote_2d, x='z1', y='z2', z='z3', title='Vite Data', width=800, height=600)\n",
        "fig_update_traces(marker=dict(size=5))"
      ],
      "metadata": {
        "id": "rfgy64KXSrel"
      },
      "execution_count": null,
      "outputs": []
    },
    {
      "cell_type": "code",
      "source": [
        "legislators_data = yaml.safe_load(open('data/legislators-2019.yaml'))\n",
        "\n",
        "def to_date(s):\n",
        "  return datetime.strptime(s, '%Y-%m-%d')\n",
        "\n",
        "legs = pd.DataFrame(\n",
        "    columns=['leg_id', 'first', 'last', 'gender', 'state', 'chamber', 'party', 'birthday'],\n",
        "    data=[[x['id']['bioguide'],\n",
        "           x['name']['first'],\n",
        "           x['name']['last'],\n",
        "           x['bio']['gender'],\n",
        "           x['terms'][-1]['state'],\n",
        "           x['terms'][-1]['type'],\n",
        "           x['terms'][-1]['party'],\n",
        "           to_date(x['bio']['birthday'])] for x in legislators_data])\n",
        "legs['age'] = 2024 - legs['birthday'].dt.year\n",
        "legs.set_index(\"leg_id\")\n",
        "legs.sort_index()"
      ],
      "metadata": {
        "id": "reo2RFhZTC6U"
      },
      "execution_count": null,
      "outputs": []
    },
    {
      "cell_type": "code",
      "source": [
        "vote_2d = vote_2d.join(legs.set_index('leg_id')).dropna()"
      ],
      "metadata": {
        "id": "diEHyGFQZWTA"
      },
      "execution_count": null,
      "outputs": []
    },
    {
      "cell_type": "code",
      "source": [
        "px.scatter(vote_2d, x='z1', y='z2', color='party', symbol=\"gender\", size='age',\n",
        "           title='Vote Data', width=800, height=600, size_max=10,\n",
        "           opacity=0.7,\n",
        "           color_discrete_map={'Democrat':'blue', 'Republican':'red', \"Independant\": \"green\"},\n",
        "           hover_data=['first', 'last', 'state', 'party', 'gender', 'age'],\n",
        "           render_mode=\"svg\")"
      ],
      "metadata": {
        "id": "KP1EmY6ZZdVD"
      },
      "execution_count": null,
      "outputs": []
    },
    {
      "cell_type": "code",
      "source": [
        "np.random.seed(42)\n",
        "vote_2d['z1_jittered'] = vote_2d['z1'] + np.random.normal(0, 0.1, len(vote_2d))\n",
        "vote_2d['z2_jittered'] = vote_2d['z2'] + np.random.normal(0, 0.1, len(vote_2d))\n",
        "vote_2d['z3_jittered'] = vote_2d['z3'] + np.random.normal(0, 0.1, len(vote_2d))"
      ],
      "metadata": {
        "id": "c3nuVVJvaMUF"
      },
      "execution_count": null,
      "outputs": []
    },
    {
      "cell_type": "code",
      "source": [
        "px.scatter(vote_2d, x='z1_jittered', y='z2_jittered', color='party', symbol=\"gender\", size='age',\n",
        "           title='Vote Data', width =800, height=600, size_max=10,\n",
        "           opacity=0.7,\n",
        "           color_discrete_map={'Democrat': 'blue', 'Republican': 'red', \"Independent\": \"green\"},\n",
        "           hover_data=['first', 'last', 'state', 'party', 'gender', 'age'])"
      ],
      "metadata": {
        "id": "HQLyTLaLoDEI"
      },
      "execution_count": null,
      "outputs": []
    },
    {
      "cell_type": "code",
      "source": [
        "px.scatter_3d(\n",
        "    vote_2d, x='z1_jittered', y='z2_jittered', z='z3_jittered',\n",
        "    color='party', symbol=\"gender\", size='age',\n",
        "    title='Vote Data', width=800, height=600, size_max=10,\n",
        "    opacity=0.7,\n",
        "    color_discrete_map= {'Democrat':'blue', 'Republican':'red', \"Independant\":\"green\"},\n",
        "    hover_data=['first', 'last', 'state', 'party', 'gender', 'age']\n",
        ")"
      ],
      "metadata": {
        "id": "tPBgpRT60N4v"
      },
      "execution_count": null,
      "outputs": []
    },
    {
      "cell_type": "code",
      "source": [
        "vote_2d[\"num votes\"] = (\n",
        "    votes[votes[\"vote\"].isin([\"Yes\", \"No\"])]\n",
        "      .groupby(\"member\").size()\n",
        ")\n",
        "vote_2d.dropna(inplace=True)\n",
        "vote_2d.head()"
      ],
      "metadata": {
        "id": "jKfhULAM03ZI"
      },
      "execution_count": null,
      "outputs": []
    },
    {
      "cell_type": "code",
      "source": [
        "px.histogram(vote_2d, x=\"num votes\", log_x=True, width=800, height=600)"
      ],
      "metadata": {
        "id": "2w2KrmdR1Jbv"
      },
      "execution_count": null,
      "outputs": []
    },
    {
      "cell_type": "code",
      "source": [
        "px.scatter(vote_2d, x='z1_jittered', y='z2_jittered', color='party', symbol=\"gender\", size='num votes',\n",
        "           title='Vote Data (Size is Number of Votes)', width=800, height=600, size_max=10,\n",
        "           opcaity= 0.7,\n",
        "           color_discrete_map={'Democrat': 'blue', 'Republican':'red', \"Independant\": \"green\"},\n",
        "           hover_data=['first', 'last', 'state', 'party', 'gender', 'age'],\n",
        "           render_mode=\"svg\")"
      ],
      "metadata": {
        "id": "AssrC7Mo1Q0w"
      },
      "execution_count": null,
      "outputs": []
    },
    {
      "cell_type": "code",
      "source": [
        "fig_eig = px.bar(x=vote_pivot_centered.columns, y=vt[0,:])\n",
        "fig_eig"
      ],
      "metadata": {
        "id": "hPJ-YwvSBuHL"
      },
      "execution_count": null,
      "outputs": []
    },
    {
      "cell_type": "code",
      "source": [
        "party_line_votes = (\n",
        "    vote_pivot_centered.join(legs.set_index(\"leg_id\")['party'])\n",
        "    .groupby(\"party\").mean()\n",
        "    .T.reset_index()\n",
        "    .rename(columns={\"index\":\"call\"})\n",
        "    .melt(\"call\")\n",
        ")\n",
        "fig = px.bar(\n",
        "    party_line_votes,\n",
        "    x=\"call\", y = \"value\", facet_row=\"party\", color=\"party\",\n",
        "    color_discrete_map={'Democrat':'blue', 'Republican':'red', \"Independant\":\"green\"})\n",
        "fig.for_each_annotation(lambda a: a.update(text=a.text.split(\"=\")[-1]))"
      ],
      "metadata": {
        "id": "2S4irKHDCAbc"
      },
      "execution_count": null,
      "outputs": []
    },
    {
      "cell_type": "code",
      "source": [
        "fig_eig"
      ],
      "metadata": {
        "id": "lyluenHviyQQ"
      },
      "execution_count": null,
      "outputs": []
    },
    {
      "cell_type": "code",
      "source": [
        "loadings = pd.DataFrame(\n",
        "    {\n",
        "        \"pc1\": np.sqrt(s[0]) * vt[0,:],\n",
        "        \"pc2\": np.sqrt(s[1]) * vt[1,:]\n",
        "    },\n",
        "    index = vote_pivot_centered.columns)\n",
        "loadings.head()"
      ],
      "metadata": {
        "id": "665RFHKpjFjR"
      },
      "execution_count": null,
      "outputs": []
    },
    {
      "cell_type": "code",
      "source": [
        "fig = px.scatter(\n",
        "    vote_2d, x='z1_jittered', y='z2_jittered', color='party', symbol=\"gender\", size='num votes',\n",
        "    title='Biplot', width=800, height=600, size_max=10,\n",
        "    opacity=0.7,\n",
        "    color_discrete_map={'Democrat':'blue', 'Republican':'red', \"Independant\":\"green\"},\n",
        "    hover_data=['first', 'last', 'state', 'party', 'gender', 'age'],\n",
        "    render_mode=\"svg\")\n",
        "\n",
        "for (call, pc1, pc2) in loadings.head(50).itertuples():\n",
        "  fig.add_scatter(x=[0, pc1], y=[0, pc2], name=call,\n",
        "                  mode='lines+markers', textposition='top right',\n",
        "                  marker= dict(size=10, symbol=\"arrow-bar-up\", angleref=\"previous\"))\n",
        "fig"
      ],
      "metadata": {
        "id": "Ndx2TNDNkB6s"
      },
      "execution_count": null,
      "outputs": []
    },
    {
      "cell_type": "code",
      "source": [
        "import fashion_mnist\n",
        "\n",
        "(train_images, train_labels), (test_images, test_labels) = fashion_mnist.load_data()\n",
        "print(\"Training images\", train_images.shape)\n",
        "print(\"Test images\", test_images.shape)"
      ],
      "metadata": {
        "id": "-PAT2pVTlFy3"
      },
      "execution_count": null,
      "outputs": []
    },
    {
      "cell_type": "code",
      "source": [
        "class_names = ['T-shirt/top', 'Trouser', 'Pullover', 'Dress', 'Coat',\n",
        "               'Sandal', 'Shirt', 'Sneaker', 'Bag', 'Ankle boot']\n",
        "class_dict = {i:class_name for i, class_name in enumerate(class_names)}"
      ],
      "metadata": {
        "id": "wNccD2Y7l6C3"
      },
      "execution_count": null,
      "outputs": []
    },
    {
      "cell_type": "code",
      "source": [
        "rng = np.random.default_rng(42)\n",
        "n = 5000\n",
        "sample_idx = rng.choice(np.arange(len(train_images)), size=n, replace=False)\n",
        "\n",
        "img_mat = -1. * train_images[sample_idx]\n",
        "img_mat = pd.DataFrame({\"images\": img_mat.tolist(),\n",
        "                        \"labels\": train_labels[sample_idx],\n",
        "                        \"class\": [class_dict[x] for x in train_labels[sample_idx]]})\n",
        "images.head()"
      ],
      "metadata": {
        "id": "6acwVB3WmOL7"
      },
      "execution_count": null,
      "outputs": []
    },
    {
      "cell_type": "code",
      "source": [
        "def show_images(images, ncols=5, max_images=30):\n",
        "  img_rate = np.array(images.head(max_images)['images'].to_list())\n",
        "  fig = px.imshow(img_mat, color_continuous_scale='gray',\n",
        "                  facet_col=0, facet_col_wrap=ncols,\n",
        "                  height = 220*int(np.ceil(len(images)/ncols)))\n",
        "  fig.update_layout(coloraxis_showscale=False)\n",
        "  fig.for_each_annotation(lambda a: a.update(text=images.iloc[int(a.split(\"=\")[-1])]['class']))\n",
        "  return fig\n",
        "\n",
        "show_images(images.head(20))"
      ],
      "metadata": {
        "id": "4MTD2iN4rfJY"
      },
      "execution_count": null,
      "outputs": []
    },
    {
      "cell_type": "code",
      "source": [
        "show_images(images.groupby('class', as_index=False).sample(2), ncols=6)"
      ],
      "metadata": {
        "id": "efPhbihysq84"
      },
      "execution_count": null,
      "outputs": []
    },
    {
      "cell_type": "code",
      "source": [
        "X = np.array(images['images'].to_list())\n",
        "X.shape"
      ],
      "metadata": {
        "id": "jroFkmr7szG0"
      },
      "execution_count": null,
      "outputs": []
    },
    {
      "cell_type": "code",
      "source": [
        "X = X.reshape(X.shape[0], -1)\n",
        "X.shape"
      ],
      "metadata": {
        "id": "uLHOzxzqs6B4"
      },
      "execution_count": null,
      "outputs": []
    },
    {
      "cell_type": "code",
      "source": [
        "X = X - X.mean(axis=0)"
      ],
      "metadata": {
        "id": "zWG0manLs_rY"
      },
      "execution_count": null,
      "outputs": []
    },
    {
      "cell_type": "code",
      "source": [
        "from sklearn.decomposition import PCA\n",
        "n_comps = 50\n",
        "pca = PCA(n_components=n_comps)\n",
        "pca.fit(X)"
      ],
      "metadata": {
        "id": "sgsdjT7ltDUy"
      },
      "execution_count": null,
      "outputs": []
    },
    {
      "cell_type": "code",
      "source": [
        "px.line(y=pca.explained_variance_ratio_ *100, markers=True)"
      ],
      "metadata": {
        "id": "BBlVJxPWtM1s"
      },
      "execution_count": null,
      "outputs": []
    },
    {
      "cell_type": "code",
      "source": [
        "images[['z1', 'z2', 'z3']] = pca.transform(X)[:,:3]"
      ],
      "metadata": {
        "id": "8r0fo0D7tUKi"
      },
      "execution_count": null,
      "outputs": []
    },
    {
      "cell_type": "code",
      "source": [
        "px.scatter(images, x='z1', y='z2', hover_data=['labels'], opacity=0.7,\n",
        "           width=800, height=600, render_mode=\"svg\")"
      ],
      "metadata": {
        "id": "b1Ppg1eRtjFG"
      },
      "execution_count": null,
      "outputs": []
    },
    {
      "cell_type": "code",
      "source": [
        "px.scatter(images, x='z1', y='z2', color='class', hover_data=['labels'], opcaity=0.7,\n",
        "           width=800, height=600, render_mode=\"svg\")"
      ],
      "metadata": {
        "id": "dkMSX2SZtxov"
      },
      "execution_count": null,
      "outputs": []
    },
    {
      "cell_type": "code",
      "source": [
        "fig = px.scatter_3d(images, x='z1', y='z2', z='z3', color='class', hover_data=['labels'],\n",
        "                    width=1000, height=600)\n",
        "fig.update_traces(marker=dict(size=3))"
      ],
      "metadata": {
        "id": "-EQmo6S7uKXH"
      },
      "execution_count": null,
      "outputs": []
    }
  ]
}