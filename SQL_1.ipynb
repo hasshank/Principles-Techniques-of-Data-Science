{
  "nbformat": 4,
  "nbformat_minor": 0,
  "metadata": {
    "colab": {
      "provenance": []
    },
    "kernelspec": {
      "name": "python3",
      "display_name": "Python 3"
    },
    "language_info": {
      "name": "python"
    }
  },
  "cells": [
    {
      "cell_type": "code",
      "execution_count": 16,
      "metadata": {
        "colab": {
          "base_uri": "https://localhost:8080/"
        },
        "id": "A5Hx3WTI-lZ7",
        "outputId": "d9442cc6-e11b-480f-b63a-7cf520a5f70c"
      },
      "outputs": [
        {
          "output_type": "stream",
          "name": "stdout",
          "text": [
            "Collecting jupysql\n",
            "  Downloading jupysql-0.10.17-py3-none-any.whl.metadata (5.7 kB)\n",
            "Requirement already satisfied: prettytable>=3.12.0 in /usr/local/lib/python3.11/dist-packages (from jupysql) (3.12.0)\n",
            "Requirement already satisfied: sqlalchemy in /usr/local/lib/python3.11/dist-packages (from jupysql) (2.0.37)\n",
            "Requirement already satisfied: sqlparse in /usr/local/lib/python3.11/dist-packages (from jupysql) (0.5.3)\n",
            "Requirement already satisfied: ipython-genutils>=0.1.0 in /usr/local/lib/python3.11/dist-packages (from jupysql) (0.2.0)\n",
            "Requirement already satisfied: jinja2 in /usr/local/lib/python3.11/dist-packages (from jupysql) (3.1.5)\n",
            "Requirement already satisfied: sqlglot>=11.3.7 in /usr/local/lib/python3.11/dist-packages (from jupysql) (25.1.0)\n",
            "Collecting jupysql-plugin>=0.4.2 (from jupysql)\n",
            "  Downloading jupysql_plugin-0.4.5-py3-none-any.whl.metadata (7.8 kB)\n",
            "Collecting ploomber-core>=0.2.7 (from jupysql)\n",
            "  Downloading ploomber_core-0.2.26-py3-none-any.whl.metadata (527 bytes)\n",
            "Requirement already satisfied: pyyaml in /usr/local/lib/python3.11/dist-packages (from ploomber-core>=0.2.7->jupysql) (6.0.2)\n",
            "Collecting posthog (from ploomber-core>=0.2.7->jupysql)\n",
            "  Downloading posthog-3.8.3-py2.py3-none-any.whl.metadata (2.7 kB)\n",
            "Requirement already satisfied: wcwidth in /usr/local/lib/python3.11/dist-packages (from prettytable>=3.12.0->jupysql) (0.2.13)\n",
            "Requirement already satisfied: MarkupSafe>=2.0 in /usr/local/lib/python3.11/dist-packages (from jinja2->jupysql) (3.0.2)\n",
            "Requirement already satisfied: greenlet!=0.4.17 in /usr/local/lib/python3.11/dist-packages (from sqlalchemy->jupysql) (3.1.1)\n",
            "Requirement already satisfied: typing-extensions>=4.6.0 in /usr/local/lib/python3.11/dist-packages (from sqlalchemy->jupysql) (4.12.2)\n",
            "Requirement already satisfied: requests<3.0,>=2.7 in /usr/local/lib/python3.11/dist-packages (from posthog->ploomber-core>=0.2.7->jupysql) (2.32.3)\n",
            "Requirement already satisfied: six>=1.5 in /usr/local/lib/python3.11/dist-packages (from posthog->ploomber-core>=0.2.7->jupysql) (1.17.0)\n",
            "Collecting monotonic>=1.5 (from posthog->ploomber-core>=0.2.7->jupysql)\n",
            "  Downloading monotonic-1.6-py2.py3-none-any.whl.metadata (1.5 kB)\n",
            "Collecting backoff>=1.10.0 (from posthog->ploomber-core>=0.2.7->jupysql)\n",
            "  Downloading backoff-2.2.1-py3-none-any.whl.metadata (14 kB)\n",
            "Requirement already satisfied: python-dateutil>2.1 in /usr/local/lib/python3.11/dist-packages (from posthog->ploomber-core>=0.2.7->jupysql) (2.8.2)\n",
            "Requirement already satisfied: charset-normalizer<4,>=2 in /usr/local/lib/python3.11/dist-packages (from requests<3.0,>=2.7->posthog->ploomber-core>=0.2.7->jupysql) (3.4.1)\n",
            "Requirement already satisfied: idna<4,>=2.5 in /usr/local/lib/python3.11/dist-packages (from requests<3.0,>=2.7->posthog->ploomber-core>=0.2.7->jupysql) (3.10)\n",
            "Requirement already satisfied: urllib3<3,>=1.21.1 in /usr/local/lib/python3.11/dist-packages (from requests<3.0,>=2.7->posthog->ploomber-core>=0.2.7->jupysql) (2.3.0)\n",
            "Requirement already satisfied: certifi>=2017.4.17 in /usr/local/lib/python3.11/dist-packages (from requests<3.0,>=2.7->posthog->ploomber-core>=0.2.7->jupysql) (2024.12.14)\n",
            "Downloading jupysql-0.10.17-py3-none-any.whl (95 kB)\n",
            "\u001b[2K   \u001b[90m━━━━━━━━━━━━━━━━━━━━━━━━━━━━━━━━━━━━━━━━\u001b[0m \u001b[32m95.2/95.2 kB\u001b[0m \u001b[31m2.7 MB/s\u001b[0m eta \u001b[36m0:00:00\u001b[0m\n",
            "\u001b[?25hDownloading jupysql_plugin-0.4.5-py3-none-any.whl (192 kB)\n",
            "\u001b[2K   \u001b[90m━━━━━━━━━━━━━━━━━━━━━━━━━━━━━━━━━━━━━━━━\u001b[0m \u001b[32m192.8/192.8 kB\u001b[0m \u001b[31m8.6 MB/s\u001b[0m eta \u001b[36m0:00:00\u001b[0m\n",
            "\u001b[?25hDownloading ploomber_core-0.2.26-py3-none-any.whl (22 kB)\n",
            "Downloading posthog-3.8.3-py2.py3-none-any.whl (64 kB)\n",
            "\u001b[2K   \u001b[90m━━━━━━━━━━━━━━━━━━━━━━━━━━━━━━━━━━━━━━━━\u001b[0m \u001b[32m64.7/64.7 kB\u001b[0m \u001b[31m4.8 MB/s\u001b[0m eta \u001b[36m0:00:00\u001b[0m\n",
            "\u001b[?25hDownloading backoff-2.2.1-py3-none-any.whl (15 kB)\n",
            "Downloading monotonic-1.6-py2.py3-none-any.whl (8.2 kB)\n",
            "Installing collected packages: monotonic, backoff, posthog, ploomber-core, jupysql-plugin, jupysql\n",
            "Successfully installed backoff-2.2.1 jupysql-0.10.17 jupysql-plugin-0.4.5 monotonic-1.6 ploomber-core-0.2.26 posthog-3.8.3\n"
          ]
        }
      ],
      "source": [
        "pip install jupysql --upgrade"
      ]
    },
    {
      "cell_type": "code",
      "source": [
        "%load_ext sql"
      ],
      "metadata": {
        "id": "wsCqBPOjAB8_"
      },
      "execution_count": 17,
      "outputs": []
    },
    {
      "cell_type": "code",
      "source": [
        "%sql sqlite:///data/basic_examples.db --alias sqlite"
      ],
      "metadata": {
        "id": "CGNWqagkBGwj",
        "colab": {
          "base_uri": "https://localhost:8080/"
        },
        "outputId": "134e5969-e796-474d-a277-c9a40b1ec404"
      },
      "execution_count": 18,
      "outputs": [
        {
          "output_type": "stream",
          "name": "stderr",
          "text": [
            "RuntimeError: (sqlite3.OperationalError) unable to open database file\n",
            "(Background on this error at: https://sqlalche.me/e/20/e3q8)\n",
            "If you need help solving this issue, send us a message: https://ploomber.io/community\n"
          ]
        }
      ]
    },
    {
      "cell_type": "code",
      "source": [
        "%sql duckdb:///data/example_duck.db --alias duckdb"
      ],
      "metadata": {
        "id": "0-o4OlGWBOHv"
      },
      "execution_count": null,
      "outputs": []
    },
    {
      "cell_type": "code",
      "source": [
        "%%sql\n",
        "SELECT * FROM Dragon;\n"
      ],
      "metadata": {
        "id": "AtnctzghAHgM"
      },
      "execution_count": null,
      "outputs": []
    },
    {
      "cell_type": "code",
      "source": [
        "%%sql\n",
        "SELECT *\n",
        "FROM Dragon;\n"
      ],
      "metadata": {
        "id": "rI2bIw-fBCwF"
      },
      "execution_count": null,
      "outputs": []
    },
    {
      "cell_type": "code",
      "source": [
        "import sqlalchemy\n",
        "import pandas as pd\n",
        "\n",
        "engine = sqlalchemy.create_engine(\"duckdb:///data/example_duck.db\")"
      ],
      "metadata": {
        "id": "tZllt42yBMhW"
      },
      "execution_count": null,
      "outputs": []
    },
    {
      "cell_type": "code",
      "source": [
        "query = \"\"\"\n",
        "SELECT *\n",
        "FROM Dragon;\n",
        "\"\"\"\n",
        "\n",
        "df = pd.read_sql(query, engine)\n",
        "df"
      ],
      "metadata": {
        "id": "135bHJl-BMjw"
      },
      "execution_count": null,
      "outputs": []
    },
    {
      "cell_type": "code",
      "source": [
        "import seaborn as sns\n",
        "mpg = sns.load_dataset(\"mpg\")"
      ],
      "metadata": {
        "id": "QFBpGe_aBg6k"
      },
      "execution_count": null,
      "outputs": []
    },
    {
      "cell_type": "code",
      "source": [
        "%%sql\n",
        "SELECT * FROM mpg"
      ],
      "metadata": {
        "id": "9hRyVvm8B-V8"
      },
      "execution_count": null,
      "outputs": []
    },
    {
      "cell_type": "code",
      "source": [
        "%%sql\n",
        "SELECT * FROM information_schema.tables"
      ],
      "metadata": {
        "id": "nZvdYb6SCKzC"
      },
      "execution_count": null,
      "outputs": []
    },
    {
      "cell_type": "code",
      "source": [
        "%%sql\n",
        "SELECT * FROM information_schema.columns"
      ],
      "metadata": {
        "id": "3x-w0ePhCVVw"
      },
      "execution_count": null,
      "outputs": []
    },
    {
      "cell_type": "code",
      "source": [
        "pd.options.display.max_colwidth = None\n",
        "pd.options.display.max_rows = None\n",
        "pd.read_sql(\"SELECT * FROM sqlite_schema\", \"duckdb:///data/example_duck.db\")"
      ],
      "metadata": {
        "id": "xvFZiM75CYM3"
      },
      "execution_count": null,
      "outputs": []
    },
    {
      "cell_type": "code",
      "source": [
        "from sqlalchemy import inspect\n",
        "inspector = inspect(engine)\n",
        "inspector.get_table_names()"
      ],
      "metadata": {
        "id": "mCka9rN2CvQq"
      },
      "execution_count": null,
      "outputs": []
    },
    {
      "cell_type": "code",
      "source": [
        "inspector.get_columns('scene')"
      ],
      "metadata": {
        "id": "5vNySDaeC3v-"
      },
      "execution_count": null,
      "outputs": []
    },
    {
      "cell_type": "code",
      "source": [
        "sqlite_engine = sqlalchemy.create_engine(\"sqlite:///data/basic_examples.db\")\n",
        "inspect(sqlite_engine).get_columns(\"scene\")"
      ],
      "metadata": {
        "id": "CWj2sDDCC8eV"
      },
      "execution_count": null,
      "outputs": []
    },
    {
      "cell_type": "code",
      "source": [
        "%%sql\n",
        "\n",
        "DROP TABLE IF EXISTS grade;\n",
        "DROP TABLE IF EXISTS assigment;\n",
        "DROP TABLE IF EXISTS student;\n",
        "\n",
        "CREATE TABLE student (\n",
        "  student_id INTEGER PRIMARY KEY,\n",
        "  name VARCHAR,\n",
        "  email VARCHAR\n",
        ");\n",
        "\n",
        "CREATE TABLE grade (\n",
        "  student_id INTEGER,\n",
        "  assigment_id INTEGER,\n",
        "  score REAL CHECK (score > 0 AND score <= 100),\n",
        "  FOREIGN KEY (student_id) REFERENCES student(student_id),\n",
        "  FOREIGN KEY (assignment_id) REFERENCES assignment(assignment_id)\n",
        ");\n",
        "\n",
        "INSERT INTO student VALUES\n",
        "(123, 'J', 'j@berkeley.edu'),\n",
        "(456, 'N', 'n@berkeley.edu');\n",
        "\n",
        "INSERT INTO assignment VALUES\n",
        "(1, 'easy assignment'),\n",
        "(2, 'hard assignment');"
      ],
      "metadata": {
        "id": "SRtv9W5SEKjo"
      },
      "execution_count": null,
      "outputs": []
    },
    {
      "cell_type": "code",
      "source": [
        "%%sql\n",
        "INSERT INTO grade VALUES\n",
        "(123,1,80),\n",
        "(123,2,42),\n",
        "(456,2,100);"
      ],
      "metadata": {
        "id": "1kBxFm31FuOM"
      },
      "execution_count": null,
      "outputs": []
    },
    {
      "cell_type": "code",
      "source": [
        "%sql SELECT * FROM grade;"
      ],
      "metadata": {
        "id": "5upA6rTIHuqC"
      },
      "execution_count": null,
      "outputs": []
    },
    {
      "cell_type": "code",
      "source": [
        "%%sql\n",
        "SELECT * FROM Dragon;"
      ],
      "metadata": {
        "id": "0OiBmN-GHyaK"
      },
      "execution_count": null,
      "outputs": []
    },
    {
      "cell_type": "code",
      "source": [
        "%%sql\n",
        "SELECT cute, year FROM Dragon;"
      ],
      "metadata": {
        "id": "OexIvJiNbvSP"
      },
      "execution_count": null,
      "outputs": []
    },
    {
      "cell_type": "code",
      "source": [
        "%%sql\n",
        "SELECT cute AS cuteness,\n",
        "  year AS \"birth year\"\n",
        "FROM Dragon;"
      ],
      "metadata": {
        "id": "0vAYt3gAbzsf"
      },
      "execution_count": null,
      "outputs": []
    },
    {
      "cell_type": "code",
      "source": [
        "%%sql\n",
        "SELECT DISTINCT year\n",
        "FROM Dragon;"
      ],
      "metadata": {
        "id": "yUeXecvSb728"
      },
      "execution_count": null,
      "outputs": []
    },
    {
      "cell_type": "code",
      "source": [
        "%%sql\n",
        "SELECT name, year\n",
        "FROM Dragon\n",
        "WHERE cute > 0;"
      ],
      "metadata": {
        "id": "ezVl_K0scFPX"
      },
      "execution_count": null,
      "outputs": []
    },
    {
      "cell_type": "code",
      "source": [
        "%%sql\n",
        "SELECT name, cute, year\n",
        "FROM Dragon\n",
        "WHERE cute > 0 OR year > 2013;"
      ],
      "metadata": {
        "id": "ZeeBn7TrcNTV"
      },
      "execution_count": null,
      "outputs": []
    },
    {
      "cell_type": "code",
      "source": [
        "%%sql\n",
        "SELECT name, year\n",
        "FROM Dragon\n",
        "WHERE name IN ('puff', 'hiccup');"
      ],
      "metadata": {
        "id": "JI_NI5KIcVzc"
      },
      "execution_count": null,
      "outputs": []
    },
    {
      "cell_type": "code",
      "source": [
        "%%sql\n",
        "SELECT name, cute\n",
        "FROM Dragon\n",
        "WHERE cute IS NOT NULL;"
      ],
      "metadata": {
        "id": "d1EQxjdHcgpS"
      },
      "execution_count": null,
      "outputs": []
    },
    {
      "cell_type": "code",
      "source": [
        "%%sql\n",
        "SELECT *\n",
        "FROM Dragon\n",
        "ORDER BY cute DESC;"
      ],
      "metadata": {
        "id": "ODkROoHkcm08"
      },
      "execution_count": null,
      "outputs": []
    },
    {
      "cell_type": "code",
      "source": [
        "%%sql\n",
        "SELECT *\n",
        "FROM Dragon\n",
        "LIMIT 2;"
      ],
      "metadata": {
        "id": "mMuey-9lcsW5"
      },
      "execution_count": null,
      "outputs": []
    },
    {
      "cell_type": "code",
      "source": [
        "%%sql\n",
        "SELECT *\n",
        "FROM Dragon\n",
        "LIMIT 2\n",
        "OFFSET 1;"
      ],
      "metadata": {
        "id": "9hYXvaY8cxHW"
      },
      "execution_count": null,
      "outputs": []
    },
    {
      "cell_type": "code",
      "source": [
        "%%sql\n",
        "SELECT *\n",
        "FROM Dragon\n",
        "ORDER BY RANDOM()\n",
        "LIMIT 2"
      ],
      "metadata": {
        "id": "tmVq1Qs4c-Oj"
      },
      "execution_count": null,
      "outputs": []
    },
    {
      "cell_type": "code",
      "source": [
        "%%sql\n",
        "SELECT *\n",
        "FROM Dragon USING SAMPLE reservoir(2 ROWS) REPEATABLE (100);"
      ],
      "metadata": {
        "id": "WSXnkJo8dGNn"
      },
      "execution_count": null,
      "outputs": []
    },
    {
      "cell_type": "code",
      "source": [
        "%%sql\n",
        "SELECT *\n",
        "FROM Dish;"
      ],
      "metadata": {
        "id": "35bwOSSwdOsY"
      },
      "execution_count": null,
      "outputs": []
    },
    {
      "cell_type": "code",
      "source": [
        "%%sql\n",
        "SELECT type\n",
        "FROM Dish;"
      ],
      "metadata": {
        "id": "MbLMY6DSdSji"
      },
      "execution_count": null,
      "outputs": []
    },
    {
      "cell_type": "code",
      "source": [
        "%%sql\n",
        "SELECT type\n",
        "FROM Dish\n",
        "GROUP BY type;"
      ],
      "metadata": {
        "id": "FtioSc3rddAP"
      },
      "execution_count": null,
      "outputs": []
    },
    {
      "cell_type": "code",
      "source": [
        "%%sql\n",
        "SELECT type, SUM(cost)\n",
        "FROM Dish\n",
        "GROUP BY type;"
      ],
      "metadata": {
        "id": "XTOou8hrdjDk"
      },
      "execution_count": null,
      "outputs": []
    },
    {
      "cell_type": "code",
      "source": [
        "%%sql\n",
        "SELECT type,\n",
        "  SUM(cost),\n",
        "  MIN(cost),\n",
        "  MAX(name)\n",
        "FROM Dish\n",
        "GROUP BY type;"
      ],
      "metadata": {
        "id": "9fe5z-4VdodU"
      },
      "execution_count": null,
      "outputs": []
    },
    {
      "cell_type": "code",
      "source": [
        "%%sql\n",
        "SELECT year, COUNT(cute)\n",
        "FROM Dragon\n",
        "GROUP BY year;"
      ],
      "metadata": {
        "id": "wI_cgtTdd1g8"
      },
      "execution_count": null,
      "outputs": []
    },
    {
      "cell_type": "code",
      "source": [
        "%%sql\n",
        "SELECT year, COUNT(*)\n",
        "FROM Dragon\n",
        "GROUP BY year;"
      ],
      "metadata": {
        "id": "o_glbqQHd7mF"
      },
      "execution_count": null,
      "outputs": []
    },
    {
      "cell_type": "code",
      "source": [
        "%sql SELECT * FROM Dragon"
      ],
      "metadata": {
        "id": "-kBztEGxeBCc"
      },
      "execution_count": null,
      "outputs": []
    },
    {
      "cell_type": "code",
      "source": [
        "dragon_table = %sql SELECT * FROM Dragon\n",
        "dragon_table"
      ],
      "metadata": {
        "id": "D4V722n3eFMs"
      },
      "execution_count": null,
      "outputs": []
    },
    {
      "cell_type": "code",
      "source": [
        "type(dragon_table)"
      ],
      "metadata": {
        "id": "4oLbX2dreLSU"
      },
      "execution_count": null,
      "outputs": []
    },
    {
      "cell_type": "code",
      "source": [
        "dragon_df = dragon_table.DataFrame()\n",
        "dragon_df"
      ],
      "metadata": {
        "id": "7y6EQm_heOzF"
      },
      "execution_count": null,
      "outputs": []
    },
    {
      "cell_type": "code",
      "source": [
        "%config SqlMagic.autopandas = True"
      ],
      "metadata": {
        "id": "vcDDXlfIeTfz"
      },
      "execution_count": null,
      "outputs": []
    },
    {
      "cell_type": "code",
      "source": [
        "dragon_df = %sql SELECT * FROM Dragon\n",
        "dragon_df"
      ],
      "metadata": {
        "id": "U_wDTHcqeZWk"
      },
      "execution_count": null,
      "outputs": []
    },
    {
      "cell_type": "code",
      "source": [
        "type (dragon_df)"
      ],
      "metadata": {
        "id": "a7kkUkp6rVwN"
      },
      "execution_count": null,
      "outputs": []
    },
    {
      "cell_type": "code",
      "source": [
        "%%sql\n",
        "SELECT year, COUNT(*)\n",
        "FROM Dragon\n",
        "GROUP BY year;"
      ],
      "metadata": {
        "id": "ts1RnqGErYA8"
      },
      "execution_count": null,
      "outputs": []
    },
    {
      "cell_type": "code",
      "source": [
        "%%sql dragon_years <<\n",
        "SELECT year, COUNT(*)\n",
        "FROM Dragon\n",
        "GROUP BY year;"
      ],
      "metadata": {
        "id": "qKTyhW7erd1b"
      },
      "execution_count": null,
      "outputs": []
    },
    {
      "cell_type": "code",
      "source": [
        "dragon_years"
      ],
      "metadata": {
        "id": "UMsbuMcurnp0"
      },
      "execution_count": null,
      "outputs": []
    }
  ]
}