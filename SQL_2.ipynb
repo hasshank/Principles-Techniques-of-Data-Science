{
  "nbformat": 4,
  "nbformat_minor": 0,
  "metadata": {
    "colab": {
      "provenance": []
    },
    "kernelspec": {
      "name": "python3",
      "display_name": "Python 3"
    },
    "language_info": {
      "name": "python"
    }
  },
  "cells": [
    {
      "cell_type": "code",
      "execution_count": 62,
      "metadata": {
        "colab": {
          "base_uri": "https://localhost:8080/"
        },
        "id": "aA0pM5QVsmvG",
        "outputId": "bd9df59d-2cbb-426f-b1b0-f2f911a1de27"
      },
      "outputs": [
        {
          "output_type": "stream",
          "name": "stdout",
          "text": [
            "Requirement already satisfied: jupysql in /usr/local/lib/python3.11/dist-packages (0.10.17)\n",
            "Requirement already satisfied: prettytable>=3.12.0 in /usr/local/lib/python3.11/dist-packages (from jupysql) (3.12.0)\n",
            "Requirement already satisfied: sqlalchemy in /usr/local/lib/python3.11/dist-packages (from jupysql) (2.0.37)\n",
            "Requirement already satisfied: sqlparse in /usr/local/lib/python3.11/dist-packages (from jupysql) (0.5.3)\n",
            "Requirement already satisfied: ipython-genutils>=0.1.0 in /usr/local/lib/python3.11/dist-packages (from jupysql) (0.2.0)\n",
            "Requirement already satisfied: jinja2 in /usr/local/lib/python3.11/dist-packages (from jupysql) (3.1.5)\n",
            "Requirement already satisfied: sqlglot>=11.3.7 in /usr/local/lib/python3.11/dist-packages (from jupysql) (25.1.0)\n",
            "Requirement already satisfied: jupysql-plugin>=0.4.2 in /usr/local/lib/python3.11/dist-packages (from jupysql) (0.4.5)\n",
            "Requirement already satisfied: ploomber-core>=0.2.7 in /usr/local/lib/python3.11/dist-packages (from jupysql) (0.2.26)\n",
            "Requirement already satisfied: pyyaml in /usr/local/lib/python3.11/dist-packages (from ploomber-core>=0.2.7->jupysql) (6.0.2)\n",
            "Requirement already satisfied: posthog in /usr/local/lib/python3.11/dist-packages (from ploomber-core>=0.2.7->jupysql) (3.8.3)\n",
            "Requirement already satisfied: wcwidth in /usr/local/lib/python3.11/dist-packages (from prettytable>=3.12.0->jupysql) (0.2.13)\n",
            "Requirement already satisfied: MarkupSafe>=2.0 in /usr/local/lib/python3.11/dist-packages (from jinja2->jupysql) (3.0.2)\n",
            "Requirement already satisfied: greenlet!=0.4.17 in /usr/local/lib/python3.11/dist-packages (from sqlalchemy->jupysql) (3.1.1)\n",
            "Requirement already satisfied: typing-extensions>=4.6.0 in /usr/local/lib/python3.11/dist-packages (from sqlalchemy->jupysql) (4.12.2)\n",
            "Requirement already satisfied: requests<3.0,>=2.7 in /usr/local/lib/python3.11/dist-packages (from posthog->ploomber-core>=0.2.7->jupysql) (2.32.3)\n",
            "Requirement already satisfied: six>=1.5 in /usr/local/lib/python3.11/dist-packages (from posthog->ploomber-core>=0.2.7->jupysql) (1.17.0)\n",
            "Requirement already satisfied: monotonic>=1.5 in /usr/local/lib/python3.11/dist-packages (from posthog->ploomber-core>=0.2.7->jupysql) (1.6)\n",
            "Requirement already satisfied: backoff>=1.10.0 in /usr/local/lib/python3.11/dist-packages (from posthog->ploomber-core>=0.2.7->jupysql) (2.2.1)\n",
            "Requirement already satisfied: python-dateutil>2.1 in /usr/local/lib/python3.11/dist-packages (from posthog->ploomber-core>=0.2.7->jupysql) (2.8.2)\n",
            "Requirement already satisfied: charset-normalizer<4,>=2 in /usr/local/lib/python3.11/dist-packages (from requests<3.0,>=2.7->posthog->ploomber-core>=0.2.7->jupysql) (3.4.1)\n",
            "Requirement already satisfied: idna<4,>=2.5 in /usr/local/lib/python3.11/dist-packages (from requests<3.0,>=2.7->posthog->ploomber-core>=0.2.7->jupysql) (3.10)\n",
            "Requirement already satisfied: urllib3<3,>=1.21.1 in /usr/local/lib/python3.11/dist-packages (from requests<3.0,>=2.7->posthog->ploomber-core>=0.2.7->jupysql) (2.3.0)\n",
            "Requirement already satisfied: certifi>=2017.4.17 in /usr/local/lib/python3.11/dist-packages (from requests<3.0,>=2.7->posthog->ploomber-core>=0.2.7->jupysql) (2024.12.14)\n"
          ]
        }
      ],
      "source": [
        "pip install jupysql --upgrade"
      ]
    },
    {
      "cell_type": "code",
      "source": [
        "%load_ext sql"
      ],
      "metadata": {
        "colab": {
          "base_uri": "https://localhost:8080/"
        },
        "id": "QINgApWq16E_",
        "outputId": "4b7311b7-6f8f-4118-c60e-a3a858ba61c8"
      },
      "execution_count": 63,
      "outputs": [
        {
          "output_type": "stream",
          "name": "stdout",
          "text": [
            "The sql extension is already loaded. To reload it, use:\n",
            "  %reload_ext sql\n"
          ]
        }
      ]
    },
    {
      "cell_type": "code",
      "source": [
        "import duckdb\n",
        "conn = duckdb.connect()\n",
        "conn.query(\"INSTALL sqlite\")\n",
        "%config SqlMagic.displaylimit = 100"
      ],
      "metadata": {
        "id": "fwhN2-0b19Gm"
      },
      "execution_count": 64,
      "outputs": []
    },
    {
      "cell_type": "code",
      "source": [
        "%sql duckdb:///data/basic_examples.db --alias duckdb"
      ],
      "metadata": {
        "colab": {
          "base_uri": "https://localhost:8080/"
        },
        "id": "blcM3NRr2JZG",
        "outputId": "19fa239f-6fef-4612-ed2f-1434ded09dce"
      },
      "execution_count": 65,
      "outputs": [
        {
          "output_type": "stream",
          "name": "stderr",
          "text": [
            "MissingPackageError: Can't load plugin: sqlalchemy.dialects:duckdb\n",
            "\n",
            "To fix it, run this in your notebook: %pip install duckdb-engine --quiet\n",
            "\n",
            "For more details, see: https://jupysql.ploomber.io/en/latest/howto/db-drivers.html#duckdb\n",
            "If you need help solving this issue, send us a message: https://ploomber.io/community\n"
          ]
        }
      ]
    },
    {
      "cell_type": "code",
      "source": [
        "import os\n",
        "if os.path.exists(\"/home/shared/sql/imdb_duck.db\"):\n",
        "  imdbpath = \"duckdb:////home/shared/sql/imdb_duck.db\"\n",
        "elif os.path.exists(\"data/imdb_duck.db\"):\n",
        "  imdbpath = \"duckdb:///data/imdb_duck.db\"\n",
        "else:\n",
        "  import gdown\n",
        "  url = 'https://drive.google.com/uc?id=...'\n",
        "  output_path = 'data/imdb_duck.db'\n",
        "  gdown.download(url, output_path, quiet=False)\n",
        "  imdbpath = \"duckdb:///data/imdb_duck.db\"\n",
        "print(imdbpath)"
      ],
      "metadata": {
        "id": "XeSTDEG-2PVS"
      },
      "execution_count": null,
      "outputs": []
    },
    {
      "cell_type": "code",
      "source": [
        "from sqlalchemy import create_engine\n",
        "imdb_engine = create_engine(imdbpath, connect_args={'read_only': True})\n",
        "%sql imdb_engine --alias imdb"
      ],
      "metadata": {
        "id": "RKl4Msut3Ovm"
      },
      "execution_count": null,
      "outputs": []
    },
    {
      "cell_type": "code",
      "source": [
        "%%sql duckdb\n",
        "SELECT *\n",
        "FROM Dragon\n",
        "ORDER BY cute DESC;"
      ],
      "metadata": {
        "id": "7mdOMiYJ3sV8"
      },
      "execution_count": null,
      "outputs": []
    },
    {
      "cell_type": "code",
      "source": [
        "%%sql duckdb\n",
        "SELECT *\n",
        "FROM Dragon\n",
        "LIMIT 2;"
      ],
      "metadata": {
        "id": "EuhsluSu3yN7"
      },
      "execution_count": null,
      "outputs": []
    },
    {
      "cell_type": "code",
      "source": [
        "%%sql duckdb\n",
        "SELECT *\n",
        "FROM Dragon\n",
        "LIMIT 2\n",
        "OFFSET 1;"
      ],
      "metadata": {
        "id": "6gxO3xAN33aU"
      },
      "execution_count": null,
      "outputs": []
    },
    {
      "cell_type": "code",
      "source": [
        "%%sql duckdb\n",
        "SELECT *\n",
        "FROM Dragon\n",
        "ORDER BY RANDOM()\n",
        "LIMIT 2"
      ],
      "metadata": {
        "id": "QETS2jyc39wk"
      },
      "execution_count": null,
      "outputs": []
    },
    {
      "cell_type": "code",
      "source": [
        "%%sql duckdb\n",
        "SELECT *\n",
        "FROM Dragon USING SAMPLE reservoir(2 ROWS) REPEATABLE (100);"
      ],
      "metadata": {
        "id": "Fv7k4znS4Ev9"
      },
      "execution_count": null,
      "outputs": []
    },
    {
      "cell_type": "code",
      "source": [
        "%%sql duckdb\n",
        "SELECT *\n",
        "FROM Dish;"
      ],
      "metadata": {
        "id": "5Gi_L7U-4Nbc"
      },
      "execution_count": null,
      "outputs": []
    },
    {
      "cell_type": "code",
      "source": [
        "%%sql duckdb\n",
        "SELECT type\n",
        "FROM Dish;"
      ],
      "metadata": {
        "id": "W0OoA2KG4VPr"
      },
      "execution_count": null,
      "outputs": []
    },
    {
      "cell_type": "code",
      "source": [
        "%%sql duckdb\n",
        "SELECT type\n",
        "FROM Dish\n",
        "GROUP BY type;"
      ],
      "metadata": {
        "id": "yGKVnZuX4ZJc"
      },
      "execution_count": null,
      "outputs": []
    },
    {
      "cell_type": "code",
      "source": [
        "%%sql duckdb\n",
        "SELECT type, SUM(cost)\n",
        "FROM Dish\n",
        "GROUP BY type;"
      ],
      "metadata": {
        "id": "zHhd_AaK4f4z"
      },
      "execution_count": null,
      "outputs": []
    },
    {
      "cell_type": "code",
      "source": [
        "%%sql duckdb\n",
        "SELECT type,\n",
        "  SUM(cost),\n",
        "  MIN(cost),\n",
        "  MAX(name)\n",
        "FROM Dish\n",
        "GROUP BY type;"
      ],
      "metadata": {
        "id": "8JHHavWk4tvm"
      },
      "execution_count": null,
      "outputs": []
    },
    {
      "cell_type": "code",
      "source": [
        "%%sql duckdb\n",
        "SELECT year, COUNT(cute)\n",
        "FROM Dragon\n",
        "GROUP BY year;"
      ],
      "metadata": {
        "id": "uVtfYPcw46PL"
      },
      "execution_count": null,
      "outputs": []
    },
    {
      "cell_type": "code",
      "source": [
        "%%sql duckdb\n",
        "SELECT year, COUNT(*)\n",
        "FROM Dragon\n",
        "GROUP BY year;"
      ],
      "metadata": {
        "id": "_Lap-Nyj5CrL"
      },
      "execution_count": null,
      "outputs": []
    },
    {
      "cell_type": "code",
      "source": [
        "%%sql duckdb\n",
        "\n",
        "SELECT *\n",
        "FROM Dish;"
      ],
      "metadata": {
        "id": "tW3rVjqE5JV-"
      },
      "execution_count": null,
      "outputs": []
    },
    {
      "cell_type": "code",
      "source": [
        "%%sql duckdb\n",
        "\n",
        "SELECT type, COUNT(*)\n",
        "FROM Dish\n",
        "GROUP BY type\n",
        "HAVING MAX(cost) < 8;"
      ],
      "metadata": {
        "id": "au01TmVy6D5s"
      },
      "execution_count": null,
      "outputs": []
    },
    {
      "cell_type": "code",
      "source": [
        "%%sql duckdb\n",
        "\n",
        "SELECT type, COUNT(*)\n",
        "FROM Dish\n",
        "WHERE cost < 8\n",
        "GROUP BY type"
      ],
      "metadata": {
        "id": "0LjQKrrk6Q7j"
      },
      "execution_count": null,
      "outputs": []
    },
    {
      "cell_type": "code",
      "source": [
        "%%sql duckdb\n",
        "\n",
        "SELECT type, MAX(name)\n",
        "FROM DishDietary\n",
        "WHERE notes == 'gf'\n",
        "GROUP BY type\n",
        "HAVING MAX(cost) <= 7;"
      ],
      "metadata": {
        "id": "vN4jLO9t6Ziz"
      },
      "execution_count": null,
      "outputs": []
    },
    {
      "cell_type": "code",
      "source": [
        "%%sql imdb\n",
        "SELECT setseed(0.42);\n",
        "\n",
        "SELECT *\n",
        "FROM Title\n",
        "ORDER BY RANDOM()\n",
        "LIMIT 10;"
      ],
      "metadata": {
        "id": "Y3Kix6Zf6qd7"
      },
      "execution_count": null,
      "outputs": []
    },
    {
      "cell_type": "code",
      "source": [
        "%%sql imdb\n",
        "\n",
        "SELECT titleType, primaryTitle\n",
        "FROM Title\n",
        "WHERE primaryTitle LIKE '%Star Wars%'"
      ],
      "metadata": {
        "id": "aqFxWOn_60u0"
      },
      "execution_count": null,
      "outputs": []
    },
    {
      "cell_type": "code",
      "source": [
        "%%sql imdb\n",
        "\n",
        "SELECT titleType, primaryTitle\n",
        "FROM Title\n",
        "WHERE primaryTitle SIMILAR TO '.*Star Wars.*'"
      ],
      "metadata": {
        "id": "q09slPSt7D3k"
      },
      "execution_count": null,
      "outputs": []
    },
    {
      "cell_type": "code",
      "source": [
        "%%sql imdb\n",
        "\n",
        "SELECT titleType, primaryTitle\n",
        "FROM Title\n",
        "WHERE primaryTitle LIKE 'Harry Potter and the Deathly Hallows: Part _'"
      ],
      "metadata": {
        "id": "yPnX6XnQ7azd"
      },
      "execution_count": null,
      "outputs": []
    },
    {
      "cell_type": "code",
      "source": [
        "%%sql imdb\n",
        "\n",
        "SELECT primaryTitle, CAST(runtimeMinutes AS REAL)\n",
        "FROM Title\n",
        "LIMIT 10;"
      ],
      "metadata": {
        "id": "FAi6C20795ys"
      },
      "execution_count": null,
      "outputs": []
    },
    {
      "cell_type": "code",
      "source": [
        "%%sql imdb\n",
        "\n",
        "SELECT setseed(0.42);\n",
        "\n",
        "SELECT titleType, startYear,\n",
        "CASE WHEN startYear < '1950' THEN 'old'\n",
        "  WHEN startYear < '2000' THEN 'mid-aged'\n",
        "  ELSE 'new'\n",
        "  END AS movie_age\n",
        "FROM Title\n",
        "ORDER BY RANDOM()\n",
        "LIMIT 10;"
      ],
      "metadata": {
        "id": "xNAb5z0e-Agr"
      },
      "execution_count": null,
      "outputs": []
    },
    {
      "cell_type": "code",
      "source": [
        "%%sql duckdb\n",
        "SELECT * FROM s;"
      ],
      "metadata": {
        "id": "rQHckKZy-gDM"
      },
      "execution_count": null,
      "outputs": []
    },
    {
      "cell_type": "code",
      "source": [
        "%%sql duckdb\n",
        "SELECT * FROM t;"
      ],
      "metadata": {
        "id": "AoLJuN4A-rGr"
      },
      "execution_count": null,
      "outputs": []
    },
    {
      "cell_type": "code",
      "source": [
        "%%sql duckdb\n",
        "SELECT s.id, name, breed\n",
        "FROM s INNER JOIN t ON s.id = t.id;"
      ],
      "metadata": {
        "id": "bChvDNyl_9A9"
      },
      "execution_count": null,
      "outputs": []
    },
    {
      "cell_type": "code",
      "source": [
        "%%sql duckdb\n",
        "SELECT s.id, name, breed\n",
        "FROM s JOIN t ON s.id = t.id;"
      ],
      "metadata": {
        "id": "thQrY7kkAEK8"
      },
      "execution_count": null,
      "outputs": []
    },
    {
      "cell_type": "code",
      "source": [
        "%%sql duckdb\n",
        "SELECT *\n",
        "FROM s CROSS JOIN t;"
      ],
      "metadata": {
        "id": "OkaIrmTvAMTj"
      },
      "execution_count": null,
      "outputs": []
    },
    {
      "cell_type": "code",
      "source": [
        "%%sql duckdb\n",
        "SELECT *\n",
        "FROM s,t"
      ],
      "metadata": {
        "id": "Ti8ZWInQAXvm"
      },
      "execution_count": null,
      "outputs": []
    },
    {
      "cell_type": "code",
      "source": [
        "%%sql duckdb\n",
        "SELECT * CROSS JOIN t\n",
        "WHERE s.id = t.id;"
      ],
      "metadata": {
        "id": "hYDSS9N5AdSK"
      },
      "execution_count": null,
      "outputs": []
    },
    {
      "cell_type": "code",
      "source": [
        "%%sql duckdb\n",
        "\n",
        "SELECT *\n",
        "FROM s LEFT JOIN t ON s.id = t.id;"
      ],
      "metadata": {
        "id": "mNPGwNSbAjIG"
      },
      "execution_count": null,
      "outputs": []
    },
    {
      "cell_type": "code",
      "source": [
        "%%sql duckdb\n",
        "\n",
        "SELECT *\n",
        "FROM s RIGHT JOIN t ON s.id = t.id;"
      ],
      "metadata": {
        "id": "YPCNtOt2AscS"
      },
      "execution_count": null,
      "outputs": []
    },
    {
      "cell_type": "code",
      "source": [
        "%%sql duckdb\n",
        "\n",
        "SELECT *\n",
        "FROM s FULL JOIN t ON s.id = t.id;"
      ],
      "metadata": {
        "id": "zZV0yijcA3Jk"
      },
      "execution_count": null,
      "outputs": []
    },
    {
      "cell_type": "code",
      "source": [
        "%%sql imdb\n",
        "\n",
        "SELECT primaryTitle, averageRating, genres,\n",
        "FROM Title AS T INNER JOIN Rating AS R\n",
        "  ON T.tconst = R.tconst\n",
        "WHERE numVotes > 100\n",
        "ORDER BY averageRating DESC\n",
        "LIMIT 10;"
      ],
      "metadata": {
        "id": "XXKZupvZBS2w"
      },
      "execution_count": null,
      "outputs": []
    },
    {
      "cell_type": "code",
      "source": [
        "%%sql imdb\n",
        "\n",
        "SELECT primaryTitle, averageRating\n",
        "FROM Title T INNER JOIN Rating R\n",
        "  ON T.tconst = R.tconst\n",
        "WHERE numVotes > 100\n",
        "ORDER BY averageRating DESC\n",
        "LIMIT 10;"
      ],
      "metadata": {
        "id": "5S4grrIiBrTr"
      },
      "execution_count": null,
      "outputs": []
    },
    {
      "cell_type": "code",
      "source": [
        "%%sql imdb\n",
        "\n",
        "SELECT tbl_name, sql FROM sqlite_master WHERE type='table'"
      ],
      "metadata": {
        "id": "QncXisFxB7kq"
      },
      "execution_count": null,
      "outputs": []
    },
    {
      "cell_type": "code",
      "source": [
        "%%sql imdb\n",
        "\n",
        "SELECT *\n",
        "FROM Title\n",
        "WHERE primaryTitle IN ('Ginny & Georgia', 'What If...?', 'Succession', 'Veep', 'Tenet')\n",
        "LIMIT 50;"
      ],
      "metadata": {
        "id": "ewnMUHz3CC-N"
      },
      "execution_count": null,
      "outputs": []
    },
    {
      "cell_type": "code",
      "source": [
        "%%sql imdb\n",
        "\n",
        "SELECT\n",
        "  tconst AS id,\n",
        "  primaryTitle AS title,\n",
        "  titleType,\n",
        "  runtimeMinutes,\n",
        "  startYear\n",
        "FROM Title\n",
        "WHERE\n",
        "  runtimeMinutes > 0 AND runtimeMinutes < 300\n",
        "  AND startYear > 0\n",
        "LIMIT 10"
      ],
      "metadata": {
        "id": "9TRtJWcMCWLj"
      },
      "execution_count": null,
      "outputs": []
    },
    {
      "cell_type": "code",
      "source": [
        "%%sql imdb\n",
        "\n",
        "SELECT\n",
        "  T.tconst AS id,\n",
        "  primaryTitle AS title,\n",
        "  titleType,\n",
        "  runtimeMinutes,\n",
        "  startYear,\n",
        "  genres,\n",
        "  averageRating,\n",
        "  numVotes\n",
        "FROM Title T, Rating R\n",
        "WHERE\n",
        "  T.tconst = R.tconst\n",
        "  AND runtimeMinutes > 0 AND runtimeMinutes < 300\n",
        "  AND startYear > 0\n",
        "  AND titleType = 'movie'\n",
        "  AND numVotes >= 1000\n",
        "  AND genres LIKE '%Action%'\n",
        "ORDER BY averageRating DESC\n",
        "LIMIT 10"
      ],
      "metadata": {
        "id": "Z9E8gMp3C2gq"
      },
      "execution_count": null,
      "outputs": []
    },
    {
      "cell_type": "code",
      "source": [
        "%%sql\n",
        "WITH good_action_movies AS(\n",
        "  SELECT *\n",
        "  FROM Title T JOIN Rating R ON T.tconst = R.tconst\n",
        "  WHERE genres LIKE '%Action%' AND averageRating > 7 AND numVotes > 5000\n",
        "),\n",
        "prolific_actors AS (\n",
        "  SELECT N.nconst, primaryName, COUNT(*) as numRoles\n",
        "  FROM Name N JOIN Principal P ON N.nconst = P.const\n",
        "  WHERE category = 'actor'\n",
        "  GROUP BY N.nconst, primaryName\n",
        ")\n",
        "SELECT primaryTitle, primaryName, numRoles, ROUND(averageRating) AS rating\n",
        "FROM good_action_movies m, prolific_actors a, principal p\n",
        "WHERE p.tconst = m.tconst AND p.nconst = a.nconst\n",
        "ORDER BY rating DESC, numRoles DESC\n",
        "LIMIT 10"
      ],
      "metadata": {
        "id": "j5xA3LQfEXHT"
      },
      "execution_count": null,
      "outputs": []
    },
    {
      "cell_type": "code",
      "source": [
        "%%sql imdb\n",
        "%config SqlMagic.autopandas = True"
      ],
      "metadata": {
        "id": "VxzyE4nWJML1"
      },
      "execution_count": null,
      "outputs": []
    },
    {
      "cell_type": "code",
      "source": [
        "%%sql action_movies_df <<\n",
        "SELECT\n",
        "  T.tconst AS id,\n",
        "  primaryTitle AS title,\n",
        "  titleType,\n",
        "  runtimeMinutes AS time,\n",
        "  startYear AS year,\n",
        "  genres,\n",
        "  averageRating AS rating,\n",
        "  numVotes\n",
        "FROM Title T, Rating R\n",
        "WHERE\n",
        "  T.tconst = R.tconst\n",
        "  AND time > 0 AND time < 300\n",
        "  AND year > 0\n",
        "  AND titleType = 'movie'\n",
        "  AND numVites >= 1000\n",
        "  AND genres LIKE '%Action%'\n",
        "ORDER BY startYear"
      ],
      "metadata": {
        "id": "qevglztnJSy7"
      },
      "execution_count": null,
      "outputs": []
    },
    {
      "cell_type": "code",
      "source": [
        "action_movies_df"
      ],
      "metadata": {
        "id": "JMLHp9orKC9Q"
      },
      "execution_count": null,
      "outputs": []
    },
    {
      "cell_type": "code",
      "source": [
        "import plotly.express as px\n",
        "px.scatter(action_movies_df, x = \"year\", y= \"rating\", opacity = 0.5)"
      ],
      "metadata": {
        "id": "efNTimfuKENV"
      },
      "execution_count": null,
      "outputs": []
    },
    {
      "cell_type": "code",
      "source": [
        "%%sql action_grouped_df <<\n",
        "\n",
        "WITH action_movies AS (\n",
        "  SELECT\n",
        "    T.tconst AS id,\n",
        "    primaryTitle AS title,\n",
        "    titleType,\n",
        "    runtimeMinutes AS time,\n",
        "    startYear AS year,\n",
        "    genres,\n",
        "    averageRating AS rating,\n",
        "    numVotes\n",
        "  FROM Title T, Rating R\n",
        "  WHERE\n",
        "    T.tconst = R.tconst\n",
        "    AND time > 0 AND time < 300\n",
        "    AND year > 0\n",
        "    AND titleType = 'movie'\n",
        "    AND numVotes >= 1000\n",
        "  AND genres LIKE '%Action%'\n",
        ")\n",
        "SELECT\n",
        "  year,\n",
        "  median(rating) AS median_rating,\n",
        "  quantile_cont(rating, .25) AS lower_q,\n",
        "  quantile_cont(rating, .75) AS upper_q,\n",
        "FROM action_movies\n",
        "GROUP BY year\n",
        "ORDER BY year"
      ],
      "metadata": {
        "id": "3eROEdHvKaa9"
      },
      "execution_count": null,
      "outputs": []
    },
    {
      "cell_type": "code",
      "source": [
        "import plotly.express as px\n",
        "action_grouped_df['error_p'] = action_grouped_df['upper_q'] - action_grouped_df['median_rating']\n",
        "action_grouped_df['error_m'] = action_grouped_df['median_rating'] - action_grouped_df['lower_q']\n",
        "fig = px.line(action_grouped_df, x=\"year\", y=\"median_rating\",\n",
        "              error_y=\"error_p\", error_y_minus=\"error_m\")\n",
        "fig"
      ],
      "metadata": {
        "id": "Ytk5BF0GL807"
      },
      "execution_count": null,
      "outputs": []
    },
    {
      "cell_type": "code",
      "source": [
        "px.scatter(action_movies_df, x=\"time\", y=\"rating\", opacity=0.1)"
      ],
      "metadata": {
        "id": "vM0hGfVmM_as"
      },
      "execution_count": null,
      "outputs": []
    },
    {
      "cell_type": "code",
      "source": [
        "px.density_heatmap(action_movies_df, x=\"time\", y=\"rating\", nbinsx=100, nbinsy=100)"
      ],
      "metadata": {
        "id": "-TCb3yCjNM0I"
      },
      "execution_count": null,
      "outputs": []
    },
    {
      "cell_type": "code",
      "source": [
        "%%sql action_movies_df <<\n",
        "WITH action_movies AS (\n",
        "  SELECT\n",
        "    T.tconst AS id,\n",
        "    primaryTitle AS title,\n",
        "    titleType,\n",
        "    runtimeMinutes AS time,\n",
        "    startYear AS year,\n",
        "    genres,\n",
        "    averageRating AS rating,\n",
        "    numVotes\n",
        "  FROM Title T, Rating R\n",
        "  WHERE\n",
        "    T.tconst = R.tconst\n",
        "    AND time > 0 AND time < 300\n",
        "    AND year > 0\n",
        "    AND titleType = 'movie'\n",
        "    AND numVotes >= 1000\n",
        "  AND genres LIKE '%Action%'\n",
        ")\n",
        "SELECT\n",
        "  ceil(time / 10) * 10 as time_desc,\n",
        "  median(rating) AS median_rating,\n",
        "  quantile_cont(rating, .25) AS lower_q,\n",
        "  quantile_cont(rating, .75) AS upper_q,\n",
        "FROM action_movies\n",
        "GROUP BY time_desc\n",
        "ORDER BY time_desc"
      ],
      "metadata": {
        "id": "tTPm4gXENnW_"
      },
      "execution_count": null,
      "outputs": []
    },
    {
      "cell_type": "code",
      "source": [
        "import plotly.express as px\n",
        "action_grouped_df['error_p'] = action_grouped_df['upper_q'] - action_grouped_df['median_rating']\n",
        "action_grouped_df['error_m'] = action_grouped_df['median_rating'] - action_grouped_df['lower_q']\n",
        "fig = px.line(action_grouped_df, x=\"time_dexc\", y=\"median_rating\",\n",
        "              error_y=\"error_p\", error_y_minus=\"error_m\")\n",
        "fig"
      ],
      "metadata": {
        "id": "_9SWaiq2Prhb"
      },
      "execution_count": null,
      "outputs": []
    },
    {
      "cell_type": "code",
      "source": [
        "import sklearn.linear_model as lm\n",
        "import numpy as np\n",
        "X, Y = action_grouped_df[\"time\"].to_numpy(), action_grouped_df[\"rating\"].to_numpy()\n",
        "\n",
        "model = lm.LinearRegression()\n",
        "model.fit(X[..., np.newaxis], Y)\n",
        "\n",
        "xs = np.linspace(X.min(), X.max())\n",
        "xhats = model.predict(xs[:, np.newaxis])"
      ],
      "metadata": {
        "id": "0FVBWyPORkXN"
      },
      "execution_count": null,
      "outputs": []
    },
    {
      "cell_type": "code",
      "source": [
        "fig = px.scatter(x=X, y=Y, opacity=0.1)\n",
        "fig.add_scatter(x=xs, y=yhats)"
      ],
      "metadata": {
        "id": "vyz61EBESjLk"
      },
      "execution_count": null,
      "outputs": []
    },
    {
      "cell_type": "code",
      "source": [
        "px.scatter(x=X, y=Y, opacity=0.1, trendline=\"ols\")"
      ],
      "metadata": {
        "id": "2p42glirS81r"
      },
      "execution_count": null,
      "outputs": []
    },
    {
      "cell_type": "code",
      "source": [],
      "metadata": {
        "id": "JCnObnsJTEoL"
      },
      "execution_count": null,
      "outputs": []
    }
  ]
}