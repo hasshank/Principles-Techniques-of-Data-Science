{
  "nbformat": 4,
  "nbformat_minor": 0,
  "metadata": {
    "colab": {
      "provenance": []
    },
    "kernelspec": {
      "name": "python3",
      "display_name": "Python 3"
    },
    "language_info": {
      "name": "python"
    }
  },
  "cells": [
    {
      "cell_type": "code",
      "execution_count": 1,
      "metadata": {
        "id": "VVqkctEV6v3q"
      },
      "outputs": [],
      "source": [
        "import numpy as np\n",
        "import pandas as pd"
      ]
    },
    {
      "cell_type": "code",
      "source": [
        "elections = pd.read_csv(\"data/elections.csv\")\n",
        "\n",
        "elections.head()"
      ],
      "metadata": {
        "id": "trHf-CsL60H6"
      },
      "execution_count": null,
      "outputs": []
    },
    {
      "cell_type": "code",
      "source": [
        "elections.iloc[[1,2,3], [0,1,2]]"
      ],
      "metadata": {
        "id": "oad-60_t6-AZ"
      },
      "execution_count": null,
      "outputs": []
    },
    {
      "cell_type": "code",
      "source": [
        "elections.iloc[[1,2,3], 0:3]"
      ],
      "metadata": {
        "id": "3YnX2RzQ6_u7"
      },
      "execution_count": null,
      "outputs": []
    },
    {
      "cell_type": "code",
      "source": [
        "elections.iloc[:,0:3]"
      ],
      "metadata": {
        "id": "JXd7mWX77GJa"
      },
      "execution_count": null,
      "outputs": []
    },
    {
      "cell_type": "code",
      "source": [
        "elections.iloc[[1,2,3], 1]"
      ],
      "metadata": {
        "id": "evIuyBmo7JZy"
      },
      "execution_count": null,
      "outputs": []
    },
    {
      "cell_type": "code",
      "source": [
        "elections.iloc[0,1]"
      ],
      "metadata": {
        "id": "heXV6o1l7QiX"
      },
      "execution_count": null,
      "outputs": []
    },
    {
      "cell_type": "code",
      "source": [
        "elections[3:7]"
      ],
      "metadata": {
        "id": "bG3NTjjD7SjD"
      },
      "execution_count": null,
      "outputs": []
    },
    {
      "cell_type": "code",
      "source": [
        "elections[[\"Year\", \"Candidate\", \"Result\"]]"
      ],
      "metadata": {
        "id": "7xJiOz3W7VLB"
      },
      "execution_count": null,
      "outputs": []
    },
    {
      "cell_type": "code",
      "source": [
        "elections[\"Candidate\"]"
      ],
      "metadata": {
        "id": "JBYJ56ve7YzH"
      },
      "execution_count": null,
      "outputs": []
    },
    {
      "cell_type": "code",
      "source": [
        "weird = pd.DataFrame({\"a\":[\"one fish\", \"two fish\"],\n",
        "                      \"b\": [\"red fish\", \"blue fish\"]})\n",
        "weird"
      ],
      "metadata": {
        "id": "8X57i-qz7bOp"
      },
      "execution_count": null,
      "outputs": []
    },
    {
      "cell_type": "code",
      "source": [
        "weird.iloc[1,1]"
      ],
      "metadata": {
        "id": "UelVwseu7mVI"
      },
      "execution_count": null,
      "outputs": []
    },
    {
      "cell_type": "code",
      "source": [
        "weird.iloc[1,'b']"
      ],
      "metadata": {
        "id": "SOCwgcF87pEc"
      },
      "execution_count": null,
      "outputs": []
    },
    {
      "cell_type": "code",
      "source": [
        "weird.iloc[1,0]"
      ],
      "metadata": {
        "id": "tPtCWpf07uZG"
      },
      "execution_count": null,
      "outputs": []
    },
    {
      "cell_type": "code",
      "source": [
        "import urllib.request\n",
        "import os.path\n",
        "import zipfile\n",
        "\n",
        "data_url = \"https://www.ssa.gov/oact/babynames/state/namesbystate.zip\"\n",
        "local_filename = \"data/babynamesbystate.zip\"\n",
        "if not os.path.exists(local_filename):\n",
        "  with urllib.request.urlopen(data_url) as resp, open(local_filename, 'wb') as f:\n",
        "    f.write(resp.read())\n",
        "\n",
        "zf = zipfile.ZipFile(local_filename,'r')\n",
        "\n",
        "ca_name = 'STATE.CA.TXT'\n",
        "field_names = ['State', 'Sex', 'Year', 'Name', 'Count']\n",
        "with zf.open(ca_name) as fh:\n",
        "  babynames = pd.read_csv(fh, header=None, names=field_names)\n",
        "\n",
        "babynames.head()"
      ],
      "metadata": {
        "id": "T1lFG9sT8vRW"
      },
      "execution_count": null,
      "outputs": []
    },
    {
      "cell_type": "code",
      "source": [
        "babynames_first_10_rows = babynames.loc[:9,:]\n",
        "\n",
        "babynames_first_10_rows"
      ],
      "metadata": {
        "id": "Os-M6jns81ao"
      },
      "execution_count": null,
      "outputs": []
    },
    {
      "cell_type": "code",
      "source": [
        "babynames_first_10_rows[[True, False, True, False, True, False, True, False, True , False]]"
      ],
      "metadata": {
        "id": "oFpG4Ll687yP"
      },
      "execution_count": null,
      "outputs": []
    },
    {
      "cell_type": "code",
      "source": [
        "babynames_first_10_rows.loc[[True, False, True, False, True, False, True, False, True, False], :]"
      ],
      "metadata": {
        "id": "kVh4gNra9GTQ"
      },
      "execution_count": null,
      "outputs": []
    },
    {
      "cell_type": "code",
      "source": [
        "logical_operator = (babynames[\"Sex\"] == \"F\")\n",
        "logical_operator"
      ],
      "metadata": {
        "id": "aTKt7JsN9S0_"
      },
      "execution_count": null,
      "outputs": []
    },
    {
      "cell_type": "code",
      "source": [
        "babynames[logical_operator]"
      ],
      "metadata": {
        "id": "__ewQKDa9Zvv"
      },
      "execution_count": null,
      "outputs": []
    },
    {
      "cell_type": "code",
      "source": [
        "babynames.loc[babynames[\"Sex\"] == \"F\"]"
      ],
      "metadata": {
        "id": "2m_2gDnh9cOG"
      },
      "execution_count": null,
      "outputs": []
    },
    {
      "cell_type": "code",
      "source": [
        "babynames[(babynames[\"Sex\"] == \"F\") & (babynames[\"Year\"] < 2000)]"
      ],
      "metadata": {
        "id": "QSLjAk0a9h3G"
      },
      "execution_count": null,
      "outputs": []
    },
    {
      "cell_type": "code",
      "source": [
        "babynames[(babynames[\"Sex\"] == \"F\") | (babynames[\"Year\"] < 2000)]"
      ],
      "metadata": {
        "id": "ofiz3hZG9qHD"
      },
      "execution_count": null,
      "outputs": []
    },
    {
      "cell_type": "code",
      "source": [
        "babynames.iloc[[0,233,484], [3,4]]"
      ],
      "metadata": {
        "id": "AY58RowF9xup"
      },
      "execution_count": null,
      "outputs": []
    },
    {
      "cell_type": "code",
      "source": [
        "babynames.loc[[0,233,484]]"
      ],
      "metadata": {
        "id": "J05TnhCF95rE"
      },
      "execution_count": null,
      "outputs": []
    },
    {
      "cell_type": "code",
      "source": [
        "babynames.loc[babynames[\"Count\"] > 250, [\"Name\", \"Count\"]].head(3)"
      ],
      "metadata": {
        "id": "oN3t-Wjk-LjQ"
      },
      "execution_count": null,
      "outputs": []
    },
    {
      "cell_type": "code",
      "source": [
        "babynames.loc[babynames[\"Count\"] > 250, [\"Name\", \"Count\"]].iloc[0:2,:]"
      ],
      "metadata": {
        "id": "scn7IYEf-SPu"
      },
      "execution_count": null,
      "outputs": []
    },
    {
      "cell_type": "code",
      "source": [
        "(\n",
        "    babynames[(babynames[\"Name\"] == \"Bella\") |\n",
        "              (babynames[\"Name\"] == \"Alex\") |\n",
        "              (babynames[\"Name\"] == \"Narges\"  |\n",
        "               (babynames[\"Name\"] == \"Lisa\")]\n",
        ")"
      ],
      "metadata": {
        "id": "7QzOB3_9-cL_"
      },
      "execution_count": null,
      "outputs": []
    },
    {
      "cell_type": "code",
      "source": [
        "names = [\"Bella\", \"Alex\", \"Narges\", \"Lisa\"]\n",
        "display(babynames[\"Name\".isin(names)])\n",
        "display(babynames[babynames[\"Name\"].isin(names)])"
      ],
      "metadata": {
        "id": "qQsAxlQ6-5zp"
      },
      "execution_count": null,
      "outputs": []
    },
    {
      "cell_type": "code",
      "source": [
        "display(babynames[\"Name\"].str.startswith(\"N\"))\n",
        "\n",
        "display(babynames[babynames[\"Name\"].str.startwith(\"N\")])"
      ],
      "metadata": {
        "id": "sx5E51QL_Gxc"
      },
      "execution_count": null,
      "outputs": []
    },
    {
      "cell_type": "code",
      "source": [
        "babyname_lengths = babynames[\"Name\"].str.len()\n",
        "\n",
        "babynames[\"name_lengths\"] = babyname_lengths\n",
        "\n",
        "babynames"
      ],
      "metadata": {
        "id": "63iTX3br_XEU"
      },
      "execution_count": null,
      "outputs": []
    },
    {
      "cell_type": "code",
      "source": [
        "babynames[\"name_lengths\"] = babynames[\"name_lengths\"] - 1\n",
        "babynames"
      ],
      "metadata": {
        "id": "26BhoX4p_t7m"
      },
      "execution_count": null,
      "outputs": []
    },
    {
      "cell_type": "code",
      "source": [
        "babynames = babynames.rename(colums={\"name_lengths\":\"Length\"})\n",
        "babynames"
      ],
      "metadata": {
        "id": "fBLKPgRi_2FC"
      },
      "execution_count": null,
      "outputs": []
    },
    {
      "cell_type": "code",
      "source": [
        "babynames = babynames.drop(\"Length\", axis=\"columns\")\n",
        "babynames"
      ],
      "metadata": {
        "id": "cZcQnuCIAOAR"
      },
      "execution_count": null,
      "outputs": []
    },
    {
      "cell_type": "code",
      "source": [
        "yash_counts = babynames[babynames[\"Name\"] == \"Yash\"][\"Count\"]\n",
        "yash_counts"
      ],
      "metadata": {
        "id": "Sbf78bVmAS78"
      },
      "execution_count": null,
      "outputs": []
    },
    {
      "cell_type": "code",
      "source": [
        "np.mean(yash_counts)"
      ],
      "metadata": {
        "id": "x23izfKkAaO8"
      },
      "execution_count": null,
      "outputs": []
    },
    {
      "cell_type": "code",
      "source": [
        "max(yash_counts)"
      ],
      "metadata": {
        "id": "iYO2z_eSAdZl"
      },
      "execution_count": null,
      "outputs": []
    },
    {
      "cell_type": "code",
      "source": [
        "babynames.shape"
      ],
      "metadata": {
        "id": "SfoIsUxeAfvm"
      },
      "execution_count": null,
      "outputs": []
    },
    {
      "cell_type": "code",
      "source": [
        "babynames.size"
      ],
      "metadata": {
        "id": "u211uZsnAhEQ"
      },
      "execution_count": null,
      "outputs": []
    },
    {
      "cell_type": "code",
      "source": [
        "babynames.describe()"
      ],
      "metadata": {
        "id": "ZOLI_TXlAkRz"
      },
      "execution_count": null,
      "outputs": []
    },
    {
      "cell_type": "code",
      "source": [
        "babynames[\"Sex\"].describe()"
      ],
      "metadata": {
        "id": "JP-um59KAmyO"
      },
      "execution_count": null,
      "outputs": []
    },
    {
      "cell_type": "code",
      "source": [
        "babynames.sample()"
      ],
      "metadata": {
        "id": "0Q8pBcWFAprY"
      },
      "execution_count": null,
      "outputs": []
    },
    {
      "cell_type": "code",
      "source": [
        "babynames.sample(5).iloc[:,2:]"
      ],
      "metadata": {
        "id": "R-HDY4XNAsY3"
      },
      "execution_count": null,
      "outputs": []
    },
    {
      "cell_type": "code",
      "source": [
        "babynames[babynames[\"Year\"] == 2000].sample(4, replace=True).iloc[:,2:]"
      ],
      "metadata": {
        "id": "tLUUa-VUAzIL"
      },
      "execution_count": null,
      "outputs": []
    },
    {
      "cell_type": "code",
      "source": [
        "babynames[\"Name\"].value_counts()"
      ],
      "metadata": {
        "id": "bnwecPBoA66b"
      },
      "execution_count": null,
      "outputs": []
    },
    {
      "cell_type": "code",
      "source": [
        "babynames[\"Name\"].unique()"
      ],
      "metadata": {
        "id": "fH_J8g1lBBJ-"
      },
      "execution_count": null,
      "outputs": []
    },
    {
      "cell_type": "code",
      "source": [
        "babynames[\"Name\"].sort_values()"
      ],
      "metadata": {
        "id": "VRg_itfLBDdI"
      },
      "execution_count": null,
      "outputs": []
    },
    {
      "cell_type": "code",
      "source": [
        "babynames.sort_values(by=\"Count\", ascending=False)"
      ],
      "metadata": {
        "id": "Qa8pUcomBHpv"
      },
      "execution_count": null,
      "outputs": []
    },
    {
      "cell_type": "code",
      "source": [
        "babynames_lengths = babynames[\"Name\"].str.len()\n",
        "\n",
        "babynames[\"name_lengths\"] = babyname_lengths\n",
        "babynames.head(5)"
      ],
      "metadata": {
        "id": "5lx-84YKBMBZ"
      },
      "execution_count": null,
      "outputs": []
    },
    {
      "cell_type": "code",
      "source": [
        "babynames = babynames.sort_values(by=\"name_lengths\", ascending=False)\n",
        "babynames.head(5)"
      ],
      "metadata": {
        "id": "pm8W-cQ7BVbl"
      },
      "execution_count": null,
      "outputs": []
    },
    {
      "cell_type": "code",
      "source": [
        "babynames = babynames.drop(\"name_lengths\", axis=\"columns\")\n",
        "babynames.head(5)"
      ],
      "metadata": {
        "id": "VLxDzHOaBbsv"
      },
      "execution_count": null,
      "outputs": []
    },
    {
      "cell_type": "code",
      "source": [
        "babynames.sort_values(\"Name\", key=lambda x:x.str.len(), ascending=False).head()"
      ],
      "metadata": {
        "id": "T2nl-bRpBh7O"
      },
      "execution_count": null,
      "outputs": []
    },
    {
      "cell_type": "code",
      "source": [
        "def dr_ea_count(string):\n",
        "  return string.count('dr') + string.count('ea')\n",
        "\n",
        "babynames[\"dr_ea_count\"] = babynames[\"Name\"].map(dr_ea_count)\n",
        "\n",
        "babynames = babynames.sort_values(by=\"dr_ea_count\", ascending=False)\n",
        "babynames.head()"
      ],
      "metadata": {
        "id": "d02zJanjB6WP"
      },
      "execution_count": null,
      "outputs": []
    },
    {
      "cell_type": "code",
      "source": [
        "babynames = babynames.drop(\"dr_ea_count\", axis=\"columns\")\n",
        "babynames.head(5)"
      ],
      "metadata": {
        "id": "ovsU8nKNCQuA"
      },
      "execution_count": null,
      "outputs": []
    },
    {
      "cell_type": "code",
      "source": [
        "babynames[[\"Year\", \"Count\"]].groupby(\"Year\").agg(sum)"
      ],
      "metadata": {
        "id": "NsXLX976CZrA"
      },
      "execution_count": null,
      "outputs": []
    },
    {
      "cell_type": "code",
      "source": [
        "babynames.groupby(\"Name\")[[\"Year\"]].agg(min)"
      ],
      "metadata": {
        "id": "sWUygHUWCj7m"
      },
      "execution_count": null,
      "outputs": []
    },
    {
      "cell_type": "code",
      "source": [
        "babynames.groupby(\"Name\")[[\"Count\"]].agg(max)"
      ],
      "metadata": {
        "id": "3Oy1t1lLCodN"
      },
      "execution_count": null,
      "outputs": []
    },
    {
      "cell_type": "code",
      "source": [],
      "metadata": {
        "id": "cVMRJdGeCtQj"
      },
      "execution_count": null,
      "outputs": []
    }
  ]
}