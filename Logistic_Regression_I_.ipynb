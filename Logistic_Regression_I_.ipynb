{
  "nbformat": 4,
  "nbformat_minor": 0,
  "metadata": {
    "colab": {
      "provenance": []
    },
    "kernelspec": {
      "name": "python3",
      "display_name": "Python 3"
    },
    "language_info": {
      "name": "python"
    }
  },
  "cells": [
    {
      "cell_type": "code",
      "execution_count": null,
      "metadata": {
        "id": "D2tNi3z7COQl"
      },
      "outputs": [],
      "source": [
        "import numpy as np\n",
        "import pandas as pd\n",
        "import plotly.express as px\n",
        "import plotly.graph_objects as go\n",
        "import plotly.io as pio\n",
        "pio.templates[\"plotly\"].layout.colorway = px.colors.qualitative.Vivid\n",
        "px.defauts.width = 800\n",
        "\n",
        "from scipy.optimize import minimize\n",
        "import sklearn.linear_model as lm\n",
        "from sklearn.metrics import r2_score"
      ]
    },
    {
      "cell_type": "code",
      "source": [
        "basketball = pd.read_csv(\"data/nba.csv\")\n",
        "basketball.head()"
      ],
      "metadata": {
        "id": "MlT9dvwaE4Sk"
      },
      "execution_count": null,
      "outputs": []
    },
    {
      "cell_type": "code",
      "source": [
        "basketball = pd.read_csv(\"data/nba.csv\")\n",
        "first_team = basketball.groupby(\"GAME_ID\").first()\n",
        "secont_team = basketball.groupby(\"GAME_ID\").last()\n",
        "games = first_team.merge(second_team, left_index = True, right_index = True, suffixes = [\"\", \"_OPP\"])\n",
        "games['GOAL_DIFF'] = games[\"FG_PCT\"] - games[\"FG_PCT_OPP\"]\n",
        "games['WON'] = (games['WL'] == \"W\").astype(int)\n",
        "games = games[['TEAM_NAME', 'TEAM_NAME_OPP', 'MATCHUP', 'WON', 'WL', 'GOAL_DIFF']]\n",
        "games"
      ],
      "metadata": {
        "id": "uFr6wJ9FE_AT"
      },
      "execution_count": null,
      "outputs": []
    },
    {
      "cell_type": "code",
      "source": [
        "px.scatter(games,\n",
        "           x = \"GOAL_DIFF\", y=\"WON\", color=\"WL\",\n",
        "           hover_data=['TEAM_NAME', 'TEAM_NAME_OPP'])"
      ],
      "metadata": {
        "id": "Lr3SeUq3GC1r"
      },
      "execution_count": null,
      "outputs": []
    },
    {
      "cell_type": "code",
      "source": [
        "px.strip(games, x=\"GOAL_DIFF\", y=\"WL\", color=\"WL\",\n",
        "         hover_data=['TEAM_NAME', 'TEAM_NAME_OPP'],\n",
        "         category_orders={\"WL\": [\"W\", \"L\"]})"
      ],
      "metadata": {
        "id": "Dwxe1rXdGTGL"
      },
      "execution_count": null,
      "outputs": []
    },
    {
      "cell_type": "code",
      "source": [
        "np.random.seed(42)\n",
        "games[\"JitterWON\"] = games[\"WON\"] + np.random.uniform(-0.1, 0.1, len(games))\n",
        "px.scatter(games,\n",
        "           x=\"GOAL_DIFF\", y=\"JitterWON\", color=\"WL\",\n",
        "           hover_data=['TEAM_NAME', 'TEAM_NAME_OPP'])"
      ],
      "metadata": {
        "id": "DHZyl2WrTBLK"
      },
      "execution_count": null,
      "outputs": []
    },
    {
      "cell_type": "code",
      "source": [
        "X = games[[\"GOAL_DIFF\"]]\n",
        "Y = games[\"WON\"]\n",
        "least_squares_model = lm.LinearRegression()\n",
        "least_squares_model.fit(X,Y)\n",
        "\n",
        "pred = pd.DataFrame({\"GOAL_DIFF\": np.linspace(-0.3, 0.3)})\n",
        "pred[\"LS_Pred\"] = least_squares_model.predict(pred)\n",
        "\n",
        "fig = px.scatter(games,\n",
        "                 x=\"GOAL_DIFF\", y=\"JitterWON\", color=\"WL\",\n",
        "                 hover_data=['TEAM_NAME', 'TEAM_NAME_OPP'])\n",
        "fig.add_trace(go.Scatter(x=pred[\"GOAL_DIFF\"], y=pred[\"LS_Pred\"],\n",
        "                         mode=\"lines\", name=\"Least Squares Fit\"))"
      ],
      "metadata": {
        "id": "ePRRZ7NXTXs4"
      },
      "execution_count": null,
      "outputs": []
    },
    {
      "cell_type": "code",
      "source": [
        "bins, cut = pd.cut(games[\"GOAL_DIFF\"], 20, retbins=True)\n",
        "\n",
        "games.join(bins, rsuffix=\"_bins\").head()"
      ],
      "metadata": {
        "id": "F-9KFTGrUEzF"
      },
      "execution_count": null,
      "outputs": []
    },
    {
      "cell_type": "code",
      "source": [
        "fig = px.scatter(games,\n",
        "                 x=\"GOAL_DIFF\", y=\"JitterWON\", color=\"WL\",\n",
        "                 hover_data=['TEAM_NAME', 'TEAM_NAME_OPP'])\n",
        "for cut in cuts:\n",
        "  fig.add_vline(x=cut, line_dash=\"dash\", line_color=\"black\")\n",
        "\n",
        "  fig.show()"
      ],
      "metadata": {
        "id": "zNqbG2f9UPaK"
      },
      "execution_count": null,
      "outputs": []
    },
    {
      "cell_type": "code",
      "source": [
        "games['bin_center'] = bins.apply(lambda x: (x.left + x.right)/2).astype(float)\n",
        "\n",
        "win_rates_by_bin = (\n",
        "    games[[\"bin_center\", \"WON\"]]\n",
        "    .groupby(\"bin_center\")\n",
        "    .mean()\n",
        "    .rename(columns={\"WON\": \"Win Rate\"})\n",
        ")\n",
        "win_rates_by_bin"
      ],
      "metadata": {
        "id": "Kqk6IP5WUjvA"
      },
      "execution_count": null,
      "outputs": []
    },
    {
      "cell_type": "code",
      "source": [
        "fig = px.scatter(games,\n",
        "                 x=\"GOAL_DIFF\", y=\"JitterWON\", color=\"WL\",\n",
        "                 hover_data=['TEAM_NAME', 'TEAM_NAME_OPP'])\n",
        "fig.add_trace(go.Scatter(x=win_rates_by_bin.index, y=win_rates_by_bin['Win Rate'],\n",
        "                         mode=\"markers+lines\", name=\"Win Rate by Bin\"))\n",
        "for cut in cuts:\n",
        "  fig.add_vline(x=cut, line_dash=\"dash\", line_color=\"black\")\n",
        "\n",
        "fig.show()"
      ],
      "metadata": {
        "id": "GCJACDhcU7EU"
      },
      "execution_count": null,
      "outputs": []
    },
    {
      "cell_type": "code",
      "source": [
        "win_rates_by_bin.index.name = \"GOAL_DIFF\"\n",
        "win_rates_by_bin[\"odds\"] = win_rates_by_bin[\"Win Rate\"]/(1 - win_rates_by_bin[\"Win Rate\"])\n",
        "win_rates_by_bin"
      ],
      "metadata": {
        "id": "1pkAAKUaVZ8z"
      },
      "execution_count": null,
      "outputs": []
    },
    {
      "cell_type": "code",
      "source": [
        "px.line(win_rates_by_bin, y=\"odds\")"
      ],
      "metadata": {
        "id": "10gSGVtfVwz4"
      },
      "execution_count": null,
      "outputs": []
    },
    {
      "cell_type": "code",
      "source": [
        "win_rates_by_bin[\"log(odds)\"] = np.log(win_rates_by_bin[\"odds\"])\n",
        "px.line(win_rates_by_bin, y=\"log(odds)\")"
      ],
      "metadata": {
        "id": "wqsRhd7vhXcf"
      },
      "execution_count": null,
      "outputs": []
    },
    {
      "cell_type": "code",
      "source": [
        "from plotly.subplots import make_subplots\n",
        "fig = make_subplots(rows=1, cols=3, subplots_title=(\"Win Rates\", \"Odds\", \"Log(Odds)\"))\n",
        "fig.add_trace(go.Scatter(x=win_rates_by_bin.index, y=win_rates_by_bin['Win Rate'], mode=\"markers+lines\"), row=1, col=1)\n",
        "fig.add_trace(go.Scatter(x=win_rates_by_bin.index, y=win_rates_by_bin['odds'], mode=\"markers+lines\"), row=1, col=2)\n",
        "fig.add_trace(go.Scatter(x=win_rates_by_bin.index, y=win_rates_by_bin['log(odds)'], mode=\"markers+lines\"), row=1, col=3)\n",
        "fig.update_layout(showlegend=False)"
      ],
      "metadata": {
        "id": "FObOIocOhn6j"
      },
      "execution_count": null,
      "outputs": []
    },
    {
      "cell_type": "code",
      "source": [
        "logistic_model = lm.LogisticRegression(C=20)\n",
        "logistic_model.fit(X, Y)\n",
        "pred[\"Logistic_Pred\"] = logistic_model.predict_proba(pred[[\"GOAL_DIFF\"]])[:,1]"
      ],
      "metadata": {
        "id": "p-rU5Ztfigyx"
      },
      "execution_count": null,
      "outputs": []
    },
    {
      "cell_type": "code",
      "source": [
        "fig = px.scatter(games,\n",
        "                 x=\"GOAL_DIFF\", y=\"JitterWON\", color=\"WL\",\n",
        "                 hover_data=['TEAM_NAME', 'TEAM_NAME_OPP'])\n",
        "\n",
        "fig.add_trace(go.Scatter(x=win_rates_by_bin.index, y=win_rates_by_bin['Win Rate'],\n",
        "                         mode=\"markers+lines\", name=\"Win Rate by Bin\"))\n",
        "fig.add_trace(go.Scatter(x=pred[\"GOAL_DIFF\"], y=pred[\"Logistic_Pred\"],\n",
        "                         mode=\"lines\", name=\"Logistic Regression Model\",\n",
        "                         line_color=\"black\", line_width=5, line_dash=\"dash\"))\n",
        "\n",
        "fig.show()"
      ],
      "metadata": {
        "id": "YEr__fEWi9aB"
      },
      "execution_count": null,
      "outputs": []
    },
    {
      "cell_type": "code",
      "source": [
        "toy_df = pd.DataFrame({\n",
        "    \"x\":[-4, -2, -0.5, 1, 3, 5],\n",
        "    \"y\": [0,0,1,0,1,1]\n",
        "})\n",
        "toy_df[\"str_y\"] = toy_df[\"y\"].astype(str)\n",
        "toy_df.sort_values(\"x\")"
      ],
      "metadata": {
        "id": "IK3rCy56julb"
      },
      "execution_count": null,
      "outputs": []
    },
    {
      "cell_type": "code",
      "source": [
        "fig = px.scatter(toy_df, x=\"x\", y=\"y\", color=\"str_y\", width=800)\n",
        "fig.update_traces(marker_size=20)"
      ],
      "metadata": {
        "id": "SnfqxqB7kFSg"
      },
      "execution_count": null,
      "outputs": []
    },
    {
      "cell_type": "code",
      "source": [
        "def sigmoid(z):\n",
        "  return 1/(1+np.e**-z)\n",
        "\n",
        "def mse_on_toy_data(theta):\n",
        "  p_hat = sigmoid(toy_df['x'] * theta)\n",
        "  return np.mean((toy_df['y'] - p_hat)**2)\n",
        "\n",
        "theta_loss = pd.DataFrame({\"theta\": np.linspace(-10,10,100)})\n",
        "theta_loss[\"MSE\"] = theta_loss[\"theta\"].apply(mse_on_toy_data)\n",
        "px.line(theta_loss, x=\"theta\", y=\"MSE\", width=800,\n",
        "        title=\"MSE on Toy Classification Data\")"
      ],
      "metadata": {
        "id": "XMq_JSubkZ-M"
      },
      "execution_count": null,
      "outputs": []
    },
    {
      "cell_type": "code",
      "source": [
        "best_theta = minimize(mse_on_toy_data, x0=0)[\"x\"][0]\n",
        "best_theta"
      ],
      "metadata": {
        "id": "fuwln_kZlBTX"
      },
      "execution_count": null,
      "outputs": []
    },
    {
      "cell_type": "code",
      "source": [
        "fig = px.scatter(toy_df, x=\"x\", y=\"y\", color=\"str_y\", width=800)\n",
        "xs = linspace(-10, 10, 100)\n",
        "fig.add_space(go.Scatter(\n",
        "    x=xs, y=sigmoid(xs * best_theta),\n",
        "    mode=\"lines\", line_color=\"black\",\n",
        "    name=f\"LR Model: theta = {best_theta:.2f}\"))\n",
        "fig.udpate_traces(marker_size=20)"
      ],
      "metadata": {
        "id": "WMsdxDVSlJhN"
      },
      "execution_count": null,
      "outputs": []
    },
    {
      "cell_type": "code",
      "source": [
        "best_theta_2 = minimize(mse_on_toy_data, x0 = -5)[\"x\"][0]\n",
        "best_theta_2"
      ],
      "metadata": {
        "id": "L0T1UxjBlmlo"
      },
      "execution_count": null,
      "outputs": []
    },
    {
      "cell_type": "code",
      "source": [
        "fig = px.scatter(toy_df, x=\"x\", y=\"y\", color=\"str_y\", width=800)\n",
        "xs = np.linspace(-10,10, 100)\n",
        "fig.add_trace(go.Scatter(\n",
        "    x=xs, y=sigmoid(xs * best_theta_2),\n",
        "    mode=\"lines\", line_color=\"black\",\n",
        "    name=f\"LR Model: theta = {best_theta_2:.2f}\"))\n",
        "fig.update_traces(marker_size=20)"
      ],
      "metadata": {
        "id": "CRgFB2j5lusf"
      },
      "execution_count": null,
      "outputs": []
    },
    {
      "cell_type": "code",
      "source": [
        "fig = px.line(theta_loss, x=\"theta\", y=\"MSE\", width=800,\n",
        "              title=\"MSE on Toy Classification Data\")\n",
        "fig.add_scatter(x=[best_theta], y=[mse_on_toy_data(best_theta)],\n",
        "                mode=\"markers\", marker_size=10, marker_color=\"red\",\n",
        "                name=f\"Theta_1: {best_theta:.2f}\")\n",
        "fig.add_scatter(x=[best_theta_2], y=[mse_on_toy_data(best_theta_2)],\n",
        "                mode=\"markers\", marker_size=10, marker_color=\"red\",\n",
        "                name=f\"Theta_2: {best_theta_2:.2f}\")"
      ],
      "metadata": {
        "id": "2w8wStdrmWDb"
      },
      "execution_count": null,
      "outputs": []
    },
    {
      "cell_type": "code",
      "source": [
        "p_hat_loss = pd.DataFrame({\"p_hat\": np.arange(0.001, 0.999, 0.01)})\n",
        "p_hat_loss[\"L2 Loss\"] = (1 - p_hat_loss[\"p_hat\"])**2\n",
        "px.line(p_hat_loss, x=\"p_hat\", y=\"L2 Loss\", width=800,\n",
        "        title=\"Squared Loss for One Individual when y=1\")"
      ],
      "metadata": {
        "id": "WuJW5A6av8Hc"
      },
      "execution_count": null,
      "outputs": []
    },
    {
      "cell_type": "code",
      "source": [
        "p_hat_loss[\"Neg Log Loss\"] = -np.log(p_hat_loss[\"p_hat\"])"
      ],
      "metadata": {
        "id": "YOQxoZgVwgxF"
      },
      "execution_count": null,
      "outputs": []
    },
    {
      "cell_type": "code",
      "source": [
        "px.line(p_hat_loss.melt(id_vars=\"p_hat\", value_name=\"Loss\"),\n",
        "        x=\"p_hat\", y=\"Loss\", color=\"variable\", width=800,\n",
        "        title=\"Loss Comparison for One Observation when y = 1\")"
      ],
      "metadata": {
        "id": "0aC2Ejcjwvnw"
      },
      "execution_count": null,
      "outputs": []
    },
    {
      "cell_type": "code",
      "source": [
        "p_hat_loss = pd.DataFrame({\"p_hat\": np.arange(0.001, 0.999, 0.01)})\n",
        "p_hat_loss[\"L2 Loss\"] = (1 - (1-p_hat_loss[\"p_hat\"]))*2\n",
        "p_hat_loss[\"Neg Log Loss\"] = -np.log(1- p_hat_loss[\"p_hat\"])\n",
        "px.line(p_hat_loss.melt(id_vars=\"p_hat\", value_name=\"Loss\"),\n",
        "        x=\"p_hat\", y=\"Loss\", color=\"variable\", width=800,\n",
        "        title=\"Loss Comparison for One Observation when y = 0\")"
      ],
      "metadata": {
        "id": "ehNosVs9EBmE"
      },
      "execution_count": null,
      "outputs": []
    },
    {
      "cell_type": "code",
      "source": [
        "def cross_entropy(y, p_hat):\n",
        "  return - y * np.log(p_hat) - (1 - y) * np.log(1 - p_hat)\n",
        "def mean_cross_entropy_on_toy_data(theta):\n",
        "  p_hat = sigmoid(toy_df[\"x\"] * theta)\n",
        "  return np.mean(cross_entropy(toy_df[\"y\"], p_hat))"
      ],
      "metadata": {
        "id": "FCN7bWxbLwWm"
      },
      "execution_count": null,
      "outputs": []
    },
    {
      "cell_type": "code",
      "source": [
        "theta_loss[\"Cross-Entropy\"] = theta_loss[\"theta\"].apply(mean_cross_entropy_on_toy_data).dropna()\n",
        "px.line(theta_loss, x=\"theta\", y=\"Cross-Entropy\", width=800,\n",
        "        title=\"Cross-Entropy on Toy Classification Data\")"
      ],
      "metadata": {
        "id": "ib3lMuLbNys1"
      },
      "execution_count": null,
      "outputs": []
    },
    {
      "cell_type": "code",
      "source": [
        "def mean_cross_entropy_on_toy_data(theta):\n",
        "  y = toy_df[\"y\"]\n",
        "  z = toy_df[\"x\"] * theta\n",
        "  return -np.mean((y-1) * z - np.log1p(np.exp(-z)))"
      ],
      "metadata": {
        "id": "3BRAZvEBOJfY"
      },
      "execution_count": null,
      "outputs": []
    },
    {
      "cell_type": "code",
      "source": [
        "theta_loss[\"Cross-Entropy\"] = theta_loss[\"theta\"].apply(mean_cross_entropy_on_toy_data).dropna()\n",
        "px.line(theta_loss.melt(id_vars=\"theta\", value_name=\"Loss\"),\n",
        "        x=\"theta\", y=\"Loss\", color=\"variable\",\n",
        "        title=\"Cross-Entropy on Toy Classification Data\")"
      ],
      "metadata": {
        "id": "-YNic4L5OdKb"
      },
      "execution_count": null,
      "outputs": []
    },
    {
      "cell_type": "code",
      "source": [
        "best_ce_theta = minimize(mean_cross_entropy_on_toy_data, x0 = -5)[\"x\"][0]\n",
        "best_ce_theta"
      ],
      "metadata": {
        "id": "lCAJkTWEO5Ld"
      },
      "execution_count": null,
      "outputs": []
    },
    {
      "cell_type": "code",
      "source": [
        "fig = px.line(theta_loss.melt(id_vars=\"theta\", value_name=\"Loss\"),\n",
        "              x=\"theta\", y=\"Loss\", color=\"variable\",\n",
        "              title=\"Cross-Entropy on Toy Classification Data\")\n",
        "fig.add_scatter(x=[best_theta], y=[mse_on_toy_data(best_theta)],\n",
        "                mode=\"markers\", marker_size=10, marker_color=\"red\",\n",
        "                name=f\"Theta_1: {best_theta:.2f}\")\n",
        "fig.add_trace(go.Scatter(x=[best_ce_theta], y=[mean_cross_entropy_on_toy_data(best_ce_theta)],\n",
        "                         mode=\"markers\", marker_size=10, marker_color=\"Blue\",\n",
        "                         name=f\"CE Theta: {best_ce_theta:.2f}\"))"
      ],
      "metadata": {
        "id": "9xCMtmTnPHEp"
      },
      "execution_count": null,
      "outputs": []
    },
    {
      "cell_type": "code",
      "source": [
        "fig = px.scatter(toy_df, x=\"x\", y=\"y\", color=\"str_y\", width=800)\n",
        "xs = np.linspace(-10,10, 100)\n",
        "fig.add_trace(go.Scatter(\n",
        "    x=xs, y=sigmoid(xs * best_theta),\n",
        "    mode=\"lines\", line_color=\"red\",\n",
        "    name=f\"LR + MSE Loss\"))\n",
        "fig.add_trace(go.Scatter(\n",
        "    x=xs, y=sigmoid(xs * best_ce_theta),\n",
        "    mode=\"lines\", line_color=\"blue\",\n",
        "    name=f\"LR + CE Loss\"))\n",
        "\n",
        "fig.update_traces(marker_size=20)"
      ],
      "metadata": {
        "id": "6VJCaSg9G6MW"
      },
      "execution_count": null,
      "outputs": []
    }
  ]
}