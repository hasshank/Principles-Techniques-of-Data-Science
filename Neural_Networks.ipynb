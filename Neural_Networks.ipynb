{
  "nbformat": 4,
  "nbformat_minor": 0,
  "metadata": {
    "colab": {
      "provenance": []
    },
    "kernelspec": {
      "name": "python3",
      "display_name": "Python 3"
    },
    "language_info": {
      "name": "python"
    },
    "widgets": {
      "application/vnd.jupyter.widget-state+json": {
        "6834527a17684fc2989359762121f4dc": {
          "model_module": "@jupyter-widgets/controls",
          "model_name": "VBoxModel",
          "model_module_version": "1.5.0",
          "state": {
            "_dom_classes": [
              "widget-interact"
            ],
            "_model_module": "@jupyter-widgets/controls",
            "_model_module_version": "1.5.0",
            "_model_name": "VBoxModel",
            "_view_count": null,
            "_view_module": "@jupyter-widgets/controls",
            "_view_module_version": "1.5.0",
            "_view_name": "VBoxView",
            "box_style": "",
            "children": [
              "IPY_MODEL_9ac3da23e59e489aa479e1b491fa197a",
              "IPY_MODEL_d5fabd7f37cb4c1aaec7ebee1b6bfb1d",
              "IPY_MODEL_c7a9b25df89e461799370079748b8890",
              "IPY_MODEL_8c4a7bc891934da7bcf4ebcb5c194d77"
            ],
            "layout": "IPY_MODEL_b87d85d610a34c319b51b7127fd2e0e0"
          }
        },
        "9ac3da23e59e489aa479e1b491fa197a": {
          "model_module": "@jupyter-widgets/controls",
          "model_name": "FloatSliderModel",
          "model_module_version": "1.5.0",
          "state": {
            "_dom_classes": [],
            "_model_module": "@jupyter-widgets/controls",
            "_model_module_version": "1.5.0",
            "_model_name": "FloatSliderModel",
            "_view_count": null,
            "_view_module": "@jupyter-widgets/controls",
            "_view_module_version": "1.5.0",
            "_view_name": "FloatSliderView",
            "continuous_update": true,
            "description": "Samples",
            "description_tooltip": null,
            "disabled": false,
            "layout": "IPY_MODEL_8984d9d7edd241fda32e835e04b276f4",
            "max": 1000,
            "min": 100,
            "orientation": "horizontal",
            "readout": true,
            "readout_format": ".2f",
            "step": 100,
            "style": "IPY_MODEL_61b9e3b75e6f48c282cf9c9b5d8242c5",
            "value": 400
          }
        },
        "d5fabd7f37cb4c1aaec7ebee1b6bfb1d": {
          "model_module": "@jupyter-widgets/controls",
          "model_name": "DropdownModel",
          "model_module_version": "1.5.0",
          "state": {
            "_dom_classes": [],
            "_model_module": "@jupyter-widgets/controls",
            "_model_module_version": "1.5.0",
            "_model_name": "DropdownModel",
            "_options_labels": [
              "AND",
              "OR",
              "XOR"
            ],
            "_view_count": null,
            "_view_module": "@jupyter-widgets/controls",
            "_view_module_version": "1.5.0",
            "_view_name": "DropdownView",
            "description": "Gate",
            "description_tooltip": null,
            "disabled": false,
            "index": 1,
            "layout": "IPY_MODEL_8b9cd74dfcac4058a18073de85987c89",
            "style": "IPY_MODEL_01e4d2035c8e426d87b153a0ddf74dc4"
          }
        },
        "c7a9b25df89e461799370079748b8890": {
          "model_module": "@jupyter-widgets/controls",
          "model_name": "FloatSliderModel",
          "model_module_version": "1.5.0",
          "state": {
            "_dom_classes": [],
            "_model_module": "@jupyter-widgets/controls",
            "_model_module_version": "1.5.0",
            "_model_name": "FloatSliderModel",
            "_view_count": null,
            "_view_module": "@jupyter-widgets/controls",
            "_view_module_version": "1.5.0",
            "_view_name": "FloatSliderView",
            "continuous_update": true,
            "description": "Noise Level",
            "description_tooltip": null,
            "disabled": false,
            "layout": "IPY_MODEL_88026d54c6084c2786df7fb95d8f062e",
            "max": 1,
            "min": 0,
            "orientation": "horizontal",
            "readout": true,
            "readout_format": ".2f",
            "step": 0.01,
            "style": "IPY_MODEL_5c598d21bd024c88bb56da1b22c1f1da",
            "value": 0.43
          }
        },
        "8c4a7bc891934da7bcf4ebcb5c194d77": {
          "model_module": "@jupyter-widgets/output",
          "model_name": "OutputModel",
          "model_module_version": "1.0.0",
          "state": {
            "_dom_classes": [],
            "_model_module": "@jupyter-widgets/output",
            "_model_module_version": "1.0.0",
            "_model_name": "OutputModel",
            "_view_count": null,
            "_view_module": "@jupyter-widgets/output",
            "_view_module_version": "1.0.0",
            "_view_name": "OutputView",
            "layout": "IPY_MODEL_03920cc70d0a45389e8433176a0c40eb",
            "msg_id": "",
            "outputs": []
          }
        },
        "b87d85d610a34c319b51b7127fd2e0e0": {
          "model_module": "@jupyter-widgets/base",
          "model_name": "LayoutModel",
          "model_module_version": "1.2.0",
          "state": {
            "_model_module": "@jupyter-widgets/base",
            "_model_module_version": "1.2.0",
            "_model_name": "LayoutModel",
            "_view_count": null,
            "_view_module": "@jupyter-widgets/base",
            "_view_module_version": "1.2.0",
            "_view_name": "LayoutView",
            "align_content": null,
            "align_items": null,
            "align_self": null,
            "border": null,
            "bottom": null,
            "display": null,
            "flex": null,
            "flex_flow": null,
            "grid_area": null,
            "grid_auto_columns": null,
            "grid_auto_flow": null,
            "grid_auto_rows": null,
            "grid_column": null,
            "grid_gap": null,
            "grid_row": null,
            "grid_template_areas": null,
            "grid_template_columns": null,
            "grid_template_rows": null,
            "height": null,
            "justify_content": null,
            "justify_items": null,
            "left": null,
            "margin": null,
            "max_height": null,
            "max_width": null,
            "min_height": null,
            "min_width": null,
            "object_fit": null,
            "object_position": null,
            "order": null,
            "overflow": null,
            "overflow_x": null,
            "overflow_y": null,
            "padding": null,
            "right": null,
            "top": null,
            "visibility": null,
            "width": null
          }
        },
        "8984d9d7edd241fda32e835e04b276f4": {
          "model_module": "@jupyter-widgets/base",
          "model_name": "LayoutModel",
          "model_module_version": "1.2.0",
          "state": {
            "_model_module": "@jupyter-widgets/base",
            "_model_module_version": "1.2.0",
            "_model_name": "LayoutModel",
            "_view_count": null,
            "_view_module": "@jupyter-widgets/base",
            "_view_module_version": "1.2.0",
            "_view_name": "LayoutView",
            "align_content": null,
            "align_items": null,
            "align_self": null,
            "border": null,
            "bottom": null,
            "display": null,
            "flex": null,
            "flex_flow": null,
            "grid_area": null,
            "grid_auto_columns": null,
            "grid_auto_flow": null,
            "grid_auto_rows": null,
            "grid_column": null,
            "grid_gap": null,
            "grid_row": null,
            "grid_template_areas": null,
            "grid_template_columns": null,
            "grid_template_rows": null,
            "height": null,
            "justify_content": null,
            "justify_items": null,
            "left": null,
            "margin": null,
            "max_height": null,
            "max_width": null,
            "min_height": null,
            "min_width": null,
            "object_fit": null,
            "object_position": null,
            "order": null,
            "overflow": null,
            "overflow_x": null,
            "overflow_y": null,
            "padding": null,
            "right": null,
            "top": null,
            "visibility": null,
            "width": null
          }
        },
        "61b9e3b75e6f48c282cf9c9b5d8242c5": {
          "model_module": "@jupyter-widgets/controls",
          "model_name": "SliderStyleModel",
          "model_module_version": "1.5.0",
          "state": {
            "_model_module": "@jupyter-widgets/controls",
            "_model_module_version": "1.5.0",
            "_model_name": "SliderStyleModel",
            "_view_count": null,
            "_view_module": "@jupyter-widgets/base",
            "_view_module_version": "1.2.0",
            "_view_name": "StyleView",
            "description_width": "",
            "handle_color": null
          }
        },
        "8b9cd74dfcac4058a18073de85987c89": {
          "model_module": "@jupyter-widgets/base",
          "model_name": "LayoutModel",
          "model_module_version": "1.2.0",
          "state": {
            "_model_module": "@jupyter-widgets/base",
            "_model_module_version": "1.2.0",
            "_model_name": "LayoutModel",
            "_view_count": null,
            "_view_module": "@jupyter-widgets/base",
            "_view_module_version": "1.2.0",
            "_view_name": "LayoutView",
            "align_content": null,
            "align_items": null,
            "align_self": null,
            "border": null,
            "bottom": null,
            "display": null,
            "flex": null,
            "flex_flow": null,
            "grid_area": null,
            "grid_auto_columns": null,
            "grid_auto_flow": null,
            "grid_auto_rows": null,
            "grid_column": null,
            "grid_gap": null,
            "grid_row": null,
            "grid_template_areas": null,
            "grid_template_columns": null,
            "grid_template_rows": null,
            "height": null,
            "justify_content": null,
            "justify_items": null,
            "left": null,
            "margin": null,
            "max_height": null,
            "max_width": null,
            "min_height": null,
            "min_width": null,
            "object_fit": null,
            "object_position": null,
            "order": null,
            "overflow": null,
            "overflow_x": null,
            "overflow_y": null,
            "padding": null,
            "right": null,
            "top": null,
            "visibility": null,
            "width": null
          }
        },
        "01e4d2035c8e426d87b153a0ddf74dc4": {
          "model_module": "@jupyter-widgets/controls",
          "model_name": "DescriptionStyleModel",
          "model_module_version": "1.5.0",
          "state": {
            "_model_module": "@jupyter-widgets/controls",
            "_model_module_version": "1.5.0",
            "_model_name": "DescriptionStyleModel",
            "_view_count": null,
            "_view_module": "@jupyter-widgets/base",
            "_view_module_version": "1.2.0",
            "_view_name": "StyleView",
            "description_width": ""
          }
        },
        "88026d54c6084c2786df7fb95d8f062e": {
          "model_module": "@jupyter-widgets/base",
          "model_name": "LayoutModel",
          "model_module_version": "1.2.0",
          "state": {
            "_model_module": "@jupyter-widgets/base",
            "_model_module_version": "1.2.0",
            "_model_name": "LayoutModel",
            "_view_count": null,
            "_view_module": "@jupyter-widgets/base",
            "_view_module_version": "1.2.0",
            "_view_name": "LayoutView",
            "align_content": null,
            "align_items": null,
            "align_self": null,
            "border": null,
            "bottom": null,
            "display": null,
            "flex": null,
            "flex_flow": null,
            "grid_area": null,
            "grid_auto_columns": null,
            "grid_auto_flow": null,
            "grid_auto_rows": null,
            "grid_column": null,
            "grid_gap": null,
            "grid_row": null,
            "grid_template_areas": null,
            "grid_template_columns": null,
            "grid_template_rows": null,
            "height": null,
            "justify_content": null,
            "justify_items": null,
            "left": null,
            "margin": null,
            "max_height": null,
            "max_width": null,
            "min_height": null,
            "min_width": null,
            "object_fit": null,
            "object_position": null,
            "order": null,
            "overflow": null,
            "overflow_x": null,
            "overflow_y": null,
            "padding": null,
            "right": null,
            "top": null,
            "visibility": null,
            "width": null
          }
        },
        "5c598d21bd024c88bb56da1b22c1f1da": {
          "model_module": "@jupyter-widgets/controls",
          "model_name": "SliderStyleModel",
          "model_module_version": "1.5.0",
          "state": {
            "_model_module": "@jupyter-widgets/controls",
            "_model_module_version": "1.5.0",
            "_model_name": "SliderStyleModel",
            "_view_count": null,
            "_view_module": "@jupyter-widgets/base",
            "_view_module_version": "1.2.0",
            "_view_name": "StyleView",
            "description_width": "",
            "handle_color": null
          }
        },
        "03920cc70d0a45389e8433176a0c40eb": {
          "model_module": "@jupyter-widgets/base",
          "model_name": "LayoutModel",
          "model_module_version": "1.2.0",
          "state": {
            "_model_module": "@jupyter-widgets/base",
            "_model_module_version": "1.2.0",
            "_model_name": "LayoutModel",
            "_view_count": null,
            "_view_module": "@jupyter-widgets/base",
            "_view_module_version": "1.2.0",
            "_view_name": "LayoutView",
            "align_content": null,
            "align_items": null,
            "align_self": null,
            "border": null,
            "bottom": null,
            "display": null,
            "flex": null,
            "flex_flow": null,
            "grid_area": null,
            "grid_auto_columns": null,
            "grid_auto_flow": null,
            "grid_auto_rows": null,
            "grid_column": null,
            "grid_gap": null,
            "grid_row": null,
            "grid_template_areas": null,
            "grid_template_columns": null,
            "grid_template_rows": null,
            "height": null,
            "justify_content": null,
            "justify_items": null,
            "left": null,
            "margin": null,
            "max_height": null,
            "max_width": null,
            "min_height": null,
            "min_width": null,
            "object_fit": null,
            "object_position": null,
            "order": null,
            "overflow": null,
            "overflow_x": null,
            "overflow_y": null,
            "padding": null,
            "right": null,
            "top": null,
            "visibility": null,
            "width": null
          }
        },
        "20f2a98e106542368aacd7d98e56b154": {
          "model_module": "jupyterlab-plotly",
          "model_name": "FigureModel",
          "model_module_version": "^5.24.1",
          "state": {
            "_config": {
              "plotlyServerURL": "https://plot.ly"
            },
            "_data": [],
            "_dom_classes": [],
            "_js2py_layoutDelta": {},
            "_js2py_pointsCallback": {},
            "_js2py_relayout": {},
            "_js2py_restyle": {},
            "_js2py_traceDeltas": {},
            "_js2py_update": {},
            "_last_layout_edit_id": 13,
            "_last_trace_edit_id": 13,
            "_layout": {},
            "_model_module": "jupyterlab-plotly",
            "_model_module_version": "^5.24.1",
            "_model_name": "FigureModel",
            "_py2js_addTraces": null,
            "_py2js_animate": {},
            "_py2js_deleteTraces": {},
            "_py2js_moveTraces": {},
            "_py2js_relayout": null,
            "_py2js_removeLayoutProps": {},
            "_py2js_removeTraceProps": {},
            "_py2js_restyle": {},
            "_py2js_update": null,
            "_view_count": 0,
            "_view_module": "jupyterlab-plotly",
            "_view_module_version": "^5.24.1",
            "_view_name": "FigureView"
          }
        },
        "62f845dbac004b9c9acc4f285f9c90b9": {
          "model_module": "@jupyter-widgets/controls",
          "model_name": "VBoxModel",
          "model_module_version": "1.5.0",
          "state": {
            "_dom_classes": [
              "widget-interact"
            ],
            "_model_module": "@jupyter-widgets/controls",
            "_model_module_version": "1.5.0",
            "_model_name": "VBoxModel",
            "_view_count": null,
            "_view_module": "@jupyter-widgets/controls",
            "_view_module_version": "1.5.0",
            "_view_name": "VBoxView",
            "box_style": "",
            "children": [
              "IPY_MODEL_1824fbe976914c95bfd57e9a7526c57e",
              "IPY_MODEL_edabbb4fc75e48eead4643ccf19ef0b0",
              "IPY_MODEL_a9bd43c5a1f14d44b010f85698810909",
              "IPY_MODEL_2e74f263da0246d79d5e7a4606e39116",
              "IPY_MODEL_c9b47e3342a341fb884b22059fc9c3b8"
            ],
            "layout": "IPY_MODEL_7ff29b07c33c4684ad09a7513d821331"
          }
        },
        "1824fbe976914c95bfd57e9a7526c57e": {
          "model_module": "@jupyter-widgets/controls",
          "model_name": "FloatSliderModel",
          "model_module_version": "1.5.0",
          "state": {
            "_dom_classes": [],
            "_model_module": "@jupyter-widgets/controls",
            "_model_module_version": "1.5.0",
            "_model_name": "FloatSliderModel",
            "_view_count": null,
            "_view_module": "@jupyter-widgets/controls",
            "_view_module_version": "1.5.0",
            "_view_name": "FloatSliderView",
            "continuous_update": true,
            "description": "Samples",
            "description_tooltip": null,
            "disabled": false,
            "layout": "IPY_MODEL_75db87574809401095d4df5184b7405f",
            "max": 1000,
            "min": 100,
            "orientation": "horizontal",
            "readout": true,
            "readout_format": ".2f",
            "step": 100,
            "style": "IPY_MODEL_51016b68491f4c4794a687f713a86c2d",
            "value": 300
          }
        },
        "edabbb4fc75e48eead4643ccf19ef0b0": {
          "model_module": "@jupyter-widgets/controls",
          "model_name": "DropdownModel",
          "model_module_version": "1.5.0",
          "state": {
            "_dom_classes": [],
            "_model_module": "@jupyter-widgets/controls",
            "_model_module_version": "1.5.0",
            "_model_name": "DropdownModel",
            "_options_labels": [
              "AND",
              "OR",
              "XOR"
            ],
            "_view_count": null,
            "_view_module": "@jupyter-widgets/controls",
            "_view_module_version": "1.5.0",
            "_view_name": "DropdownView",
            "description": "Gate",
            "description_tooltip": null,
            "disabled": false,
            "index": 1,
            "layout": "IPY_MODEL_187831c161344a21ae0f5c3b6615efcb",
            "style": "IPY_MODEL_f5a3439e694e4af7a7feefa379d12141"
          }
        },
        "a9bd43c5a1f14d44b010f85698810909": {
          "model_module": "@jupyter-widgets/controls",
          "model_name": "FloatSliderModel",
          "model_module_version": "1.5.0",
          "state": {
            "_dom_classes": [],
            "_model_module": "@jupyter-widgets/controls",
            "_model_module_version": "1.5.0",
            "_model_name": "FloatSliderModel",
            "_view_count": null,
            "_view_module": "@jupyter-widgets/controls",
            "_view_module_version": "1.5.0",
            "_view_name": "FloatSliderView",
            "continuous_update": true,
            "description": "Noise Level",
            "description_tooltip": null,
            "disabled": false,
            "layout": "IPY_MODEL_8873df13c8604064849d4389f9fec173",
            "max": 1,
            "min": 0,
            "orientation": "horizontal",
            "readout": true,
            "readout_format": ".2f",
            "step": 0.01,
            "style": "IPY_MODEL_3510631face8412ba8f538066905ecc1",
            "value": 0.21
          }
        },
        "2e74f263da0246d79d5e7a4606e39116": {
          "model_module": "@jupyter-widgets/controls",
          "model_name": "CheckboxModel",
          "model_module_version": "1.5.0",
          "state": {
            "_dom_classes": [],
            "_model_module": "@jupyter-widgets/controls",
            "_model_module_version": "1.5.0",
            "_model_name": "CheckboxModel",
            "_view_count": null,
            "_view_module": "@jupyter-widgets/controls",
            "_view_module_version": "1.5.0",
            "_view_name": "CheckboxView",
            "description": "Show Probabilities",
            "description_tooltip": null,
            "disabled": false,
            "indent": true,
            "layout": "IPY_MODEL_83ba1d0459d54d209c2845d587f3fade",
            "style": "IPY_MODEL_f6b7e69a0043491aa96bb23ebdcce429",
            "value": true
          }
        },
        "c9b47e3342a341fb884b22059fc9c3b8": {
          "model_module": "@jupyter-widgets/output",
          "model_name": "OutputModel",
          "model_module_version": "1.0.0",
          "state": {
            "_dom_classes": [],
            "_model_module": "@jupyter-widgets/output",
            "_model_module_version": "1.0.0",
            "_model_name": "OutputModel",
            "_view_count": null,
            "_view_module": "@jupyter-widgets/output",
            "_view_module_version": "1.0.0",
            "_view_name": "OutputView",
            "layout": "IPY_MODEL_69fe6bf82af64cc4b28fa71d8b80cf2b",
            "msg_id": "",
            "outputs": []
          }
        },
        "7ff29b07c33c4684ad09a7513d821331": {
          "model_module": "@jupyter-widgets/base",
          "model_name": "LayoutModel",
          "model_module_version": "1.2.0",
          "state": {
            "_model_module": "@jupyter-widgets/base",
            "_model_module_version": "1.2.0",
            "_model_name": "LayoutModel",
            "_view_count": null,
            "_view_module": "@jupyter-widgets/base",
            "_view_module_version": "1.2.0",
            "_view_name": "LayoutView",
            "align_content": null,
            "align_items": null,
            "align_self": null,
            "border": null,
            "bottom": null,
            "display": null,
            "flex": null,
            "flex_flow": null,
            "grid_area": null,
            "grid_auto_columns": null,
            "grid_auto_flow": null,
            "grid_auto_rows": null,
            "grid_column": null,
            "grid_gap": null,
            "grid_row": null,
            "grid_template_areas": null,
            "grid_template_columns": null,
            "grid_template_rows": null,
            "height": null,
            "justify_content": null,
            "justify_items": null,
            "left": null,
            "margin": null,
            "max_height": null,
            "max_width": null,
            "min_height": null,
            "min_width": null,
            "object_fit": null,
            "object_position": null,
            "order": null,
            "overflow": null,
            "overflow_x": null,
            "overflow_y": null,
            "padding": null,
            "right": null,
            "top": null,
            "visibility": null,
            "width": null
          }
        },
        "75db87574809401095d4df5184b7405f": {
          "model_module": "@jupyter-widgets/base",
          "model_name": "LayoutModel",
          "model_module_version": "1.2.0",
          "state": {
            "_model_module": "@jupyter-widgets/base",
            "_model_module_version": "1.2.0",
            "_model_name": "LayoutModel",
            "_view_count": null,
            "_view_module": "@jupyter-widgets/base",
            "_view_module_version": "1.2.0",
            "_view_name": "LayoutView",
            "align_content": null,
            "align_items": null,
            "align_self": null,
            "border": null,
            "bottom": null,
            "display": null,
            "flex": null,
            "flex_flow": null,
            "grid_area": null,
            "grid_auto_columns": null,
            "grid_auto_flow": null,
            "grid_auto_rows": null,
            "grid_column": null,
            "grid_gap": null,
            "grid_row": null,
            "grid_template_areas": null,
            "grid_template_columns": null,
            "grid_template_rows": null,
            "height": null,
            "justify_content": null,
            "justify_items": null,
            "left": null,
            "margin": null,
            "max_height": null,
            "max_width": null,
            "min_height": null,
            "min_width": null,
            "object_fit": null,
            "object_position": null,
            "order": null,
            "overflow": null,
            "overflow_x": null,
            "overflow_y": null,
            "padding": null,
            "right": null,
            "top": null,
            "visibility": null,
            "width": null
          }
        },
        "51016b68491f4c4794a687f713a86c2d": {
          "model_module": "@jupyter-widgets/controls",
          "model_name": "SliderStyleModel",
          "model_module_version": "1.5.0",
          "state": {
            "_model_module": "@jupyter-widgets/controls",
            "_model_module_version": "1.5.0",
            "_model_name": "SliderStyleModel",
            "_view_count": null,
            "_view_module": "@jupyter-widgets/base",
            "_view_module_version": "1.2.0",
            "_view_name": "StyleView",
            "description_width": "",
            "handle_color": null
          }
        },
        "187831c161344a21ae0f5c3b6615efcb": {
          "model_module": "@jupyter-widgets/base",
          "model_name": "LayoutModel",
          "model_module_version": "1.2.0",
          "state": {
            "_model_module": "@jupyter-widgets/base",
            "_model_module_version": "1.2.0",
            "_model_name": "LayoutModel",
            "_view_count": null,
            "_view_module": "@jupyter-widgets/base",
            "_view_module_version": "1.2.0",
            "_view_name": "LayoutView",
            "align_content": null,
            "align_items": null,
            "align_self": null,
            "border": null,
            "bottom": null,
            "display": null,
            "flex": null,
            "flex_flow": null,
            "grid_area": null,
            "grid_auto_columns": null,
            "grid_auto_flow": null,
            "grid_auto_rows": null,
            "grid_column": null,
            "grid_gap": null,
            "grid_row": null,
            "grid_template_areas": null,
            "grid_template_columns": null,
            "grid_template_rows": null,
            "height": null,
            "justify_content": null,
            "justify_items": null,
            "left": null,
            "margin": null,
            "max_height": null,
            "max_width": null,
            "min_height": null,
            "min_width": null,
            "object_fit": null,
            "object_position": null,
            "order": null,
            "overflow": null,
            "overflow_x": null,
            "overflow_y": null,
            "padding": null,
            "right": null,
            "top": null,
            "visibility": null,
            "width": null
          }
        },
        "f5a3439e694e4af7a7feefa379d12141": {
          "model_module": "@jupyter-widgets/controls",
          "model_name": "DescriptionStyleModel",
          "model_module_version": "1.5.0",
          "state": {
            "_model_module": "@jupyter-widgets/controls",
            "_model_module_version": "1.5.0",
            "_model_name": "DescriptionStyleModel",
            "_view_count": null,
            "_view_module": "@jupyter-widgets/base",
            "_view_module_version": "1.2.0",
            "_view_name": "StyleView",
            "description_width": ""
          }
        },
        "8873df13c8604064849d4389f9fec173": {
          "model_module": "@jupyter-widgets/base",
          "model_name": "LayoutModel",
          "model_module_version": "1.2.0",
          "state": {
            "_model_module": "@jupyter-widgets/base",
            "_model_module_version": "1.2.0",
            "_model_name": "LayoutModel",
            "_view_count": null,
            "_view_module": "@jupyter-widgets/base",
            "_view_module_version": "1.2.0",
            "_view_name": "LayoutView",
            "align_content": null,
            "align_items": null,
            "align_self": null,
            "border": null,
            "bottom": null,
            "display": null,
            "flex": null,
            "flex_flow": null,
            "grid_area": null,
            "grid_auto_columns": null,
            "grid_auto_flow": null,
            "grid_auto_rows": null,
            "grid_column": null,
            "grid_gap": null,
            "grid_row": null,
            "grid_template_areas": null,
            "grid_template_columns": null,
            "grid_template_rows": null,
            "height": null,
            "justify_content": null,
            "justify_items": null,
            "left": null,
            "margin": null,
            "max_height": null,
            "max_width": null,
            "min_height": null,
            "min_width": null,
            "object_fit": null,
            "object_position": null,
            "order": null,
            "overflow": null,
            "overflow_x": null,
            "overflow_y": null,
            "padding": null,
            "right": null,
            "top": null,
            "visibility": null,
            "width": null
          }
        },
        "3510631face8412ba8f538066905ecc1": {
          "model_module": "@jupyter-widgets/controls",
          "model_name": "SliderStyleModel",
          "model_module_version": "1.5.0",
          "state": {
            "_model_module": "@jupyter-widgets/controls",
            "_model_module_version": "1.5.0",
            "_model_name": "SliderStyleModel",
            "_view_count": null,
            "_view_module": "@jupyter-widgets/base",
            "_view_module_version": "1.2.0",
            "_view_name": "StyleView",
            "description_width": "",
            "handle_color": null
          }
        },
        "83ba1d0459d54d209c2845d587f3fade": {
          "model_module": "@jupyter-widgets/base",
          "model_name": "LayoutModel",
          "model_module_version": "1.2.0",
          "state": {
            "_model_module": "@jupyter-widgets/base",
            "_model_module_version": "1.2.0",
            "_model_name": "LayoutModel",
            "_view_count": null,
            "_view_module": "@jupyter-widgets/base",
            "_view_module_version": "1.2.0",
            "_view_name": "LayoutView",
            "align_content": null,
            "align_items": null,
            "align_self": null,
            "border": null,
            "bottom": null,
            "display": null,
            "flex": null,
            "flex_flow": null,
            "grid_area": null,
            "grid_auto_columns": null,
            "grid_auto_flow": null,
            "grid_auto_rows": null,
            "grid_column": null,
            "grid_gap": null,
            "grid_row": null,
            "grid_template_areas": null,
            "grid_template_columns": null,
            "grid_template_rows": null,
            "height": null,
            "justify_content": null,
            "justify_items": null,
            "left": null,
            "margin": null,
            "max_height": null,
            "max_width": null,
            "min_height": null,
            "min_width": null,
            "object_fit": null,
            "object_position": null,
            "order": null,
            "overflow": null,
            "overflow_x": null,
            "overflow_y": null,
            "padding": null,
            "right": null,
            "top": null,
            "visibility": null,
            "width": null
          }
        },
        "f6b7e69a0043491aa96bb23ebdcce429": {
          "model_module": "@jupyter-widgets/controls",
          "model_name": "DescriptionStyleModel",
          "model_module_version": "1.5.0",
          "state": {
            "_model_module": "@jupyter-widgets/controls",
            "_model_module_version": "1.5.0",
            "_model_name": "DescriptionStyleModel",
            "_view_count": null,
            "_view_module": "@jupyter-widgets/base",
            "_view_module_version": "1.2.0",
            "_view_name": "StyleView",
            "description_width": ""
          }
        },
        "69fe6bf82af64cc4b28fa71d8b80cf2b": {
          "model_module": "@jupyter-widgets/base",
          "model_name": "LayoutModel",
          "model_module_version": "1.2.0",
          "state": {
            "_model_module": "@jupyter-widgets/base",
            "_model_module_version": "1.2.0",
            "_model_name": "LayoutModel",
            "_view_count": null,
            "_view_module": "@jupyter-widgets/base",
            "_view_module_version": "1.2.0",
            "_view_name": "LayoutView",
            "align_content": null,
            "align_items": null,
            "align_self": null,
            "border": null,
            "bottom": null,
            "display": null,
            "flex": null,
            "flex_flow": null,
            "grid_area": null,
            "grid_auto_columns": null,
            "grid_auto_flow": null,
            "grid_auto_rows": null,
            "grid_column": null,
            "grid_gap": null,
            "grid_row": null,
            "grid_template_areas": null,
            "grid_template_columns": null,
            "grid_template_rows": null,
            "height": null,
            "justify_content": null,
            "justify_items": null,
            "left": null,
            "margin": null,
            "max_height": null,
            "max_width": null,
            "min_height": null,
            "min_width": null,
            "object_fit": null,
            "object_position": null,
            "order": null,
            "overflow": null,
            "overflow_x": null,
            "overflow_y": null,
            "padding": null,
            "right": null,
            "top": null,
            "visibility": null,
            "width": null
          }
        },
        "5bb6a9376d6a49d8855046497c332793": {
          "model_module": "jupyterlab-plotly",
          "model_name": "FigureModel",
          "model_module_version": "^5.24.1",
          "state": {
            "_config": {
              "plotlyServerURL": "https://plot.ly"
            },
            "_data": [
              {
                "marker": {
                  "color": "red"
                },
                "mode": "markers",
                "name": "0",
                "uid": "ad2a7be8-c7a0-48a6-a856-ea32f8b06b88",
                "x": {
                  "dtype": "float64",
                  "shape": [
                    100
                  ]
                },
                "y": {
                  "dtype": "float64",
                  "shape": [
                    100
                  ]
                },
                "type": "scatter"
              },
              {
                "marker": {
                  "color": "blue"
                },
                "mode": "markers",
                "name": "1",
                "uid": "d60a6121-b1bc-4bcc-b917-f0b2bd3c8fd3",
                "x": {
                  "dtype": "float64",
                  "shape": [
                    300
                  ]
                },
                "y": {
                  "dtype": "float64",
                  "shape": [
                    300
                  ]
                },
                "type": "scatter"
              }
            ],
            "_dom_classes": [],
            "_js2py_layoutDelta": {},
            "_js2py_pointsCallback": {},
            "_js2py_relayout": {},
            "_js2py_restyle": {},
            "_js2py_traceDeltas": {},
            "_js2py_update": {},
            "_last_layout_edit_id": 8,
            "_last_trace_edit_id": 8,
            "_layout": {
              "height": 500,
              "template": {
                "data": {
                  "barpolar": [
                    {
                      "marker": {
                        "line": {
                          "color": "#E5ECF6",
                          "width": 0.5
                        },
                        "pattern": {
                          "fillmode": "overlay",
                          "size": 10,
                          "solidity": 0.2
                        }
                      },
                      "type": "barpolar"
                    }
                  ],
                  "bar": [
                    {
                      "error_x": {
                        "color": "#2a3f5f"
                      },
                      "error_y": {
                        "color": "#2a3f5f"
                      },
                      "marker": {
                        "line": {
                          "color": "#E5ECF6",
                          "width": 0.5
                        },
                        "pattern": {
                          "fillmode": "overlay",
                          "size": 10,
                          "solidity": 0.2
                        }
                      },
                      "type": "bar"
                    }
                  ],
                  "carpet": [
                    {
                      "aaxis": {
                        "endlinecolor": "#2a3f5f",
                        "gridcolor": "white",
                        "linecolor": "white",
                        "minorgridcolor": "white",
                        "startlinecolor": "#2a3f5f"
                      },
                      "baxis": {
                        "endlinecolor": "#2a3f5f",
                        "gridcolor": "white",
                        "linecolor": "white",
                        "minorgridcolor": "white",
                        "startlinecolor": "#2a3f5f"
                      },
                      "type": "carpet"
                    }
                  ],
                  "choropleth": [
                    {
                      "colorbar": {
                        "outlinewidth": 0,
                        "ticks": ""
                      },
                      "type": "choropleth"
                    }
                  ],
                  "contourcarpet": [
                    {
                      "colorbar": {
                        "outlinewidth": 0,
                        "ticks": ""
                      },
                      "type": "contourcarpet"
                    }
                  ],
                  "contour": [
                    {
                      "colorbar": {
                        "outlinewidth": 0,
                        "ticks": ""
                      },
                      "colorscale": [
                        [
                          0,
                          "#0d0887"
                        ],
                        [
                          0.1111111111111111,
                          "#46039f"
                        ],
                        [
                          0.2222222222222222,
                          "#7201a8"
                        ],
                        [
                          0.3333333333333333,
                          "#9c179e"
                        ],
                        [
                          0.4444444444444444,
                          "#bd3786"
                        ],
                        [
                          0.5555555555555556,
                          "#d8576b"
                        ],
                        [
                          0.6666666666666666,
                          "#ed7953"
                        ],
                        [
                          0.7777777777777778,
                          "#fb9f3a"
                        ],
                        [
                          0.8888888888888888,
                          "#fdca26"
                        ],
                        [
                          1,
                          "#f0f921"
                        ]
                      ],
                      "type": "contour"
                    }
                  ],
                  "heatmapgl": [
                    {
                      "colorbar": {
                        "outlinewidth": 0,
                        "ticks": ""
                      },
                      "colorscale": [
                        [
                          0,
                          "#0d0887"
                        ],
                        [
                          0.1111111111111111,
                          "#46039f"
                        ],
                        [
                          0.2222222222222222,
                          "#7201a8"
                        ],
                        [
                          0.3333333333333333,
                          "#9c179e"
                        ],
                        [
                          0.4444444444444444,
                          "#bd3786"
                        ],
                        [
                          0.5555555555555556,
                          "#d8576b"
                        ],
                        [
                          0.6666666666666666,
                          "#ed7953"
                        ],
                        [
                          0.7777777777777778,
                          "#fb9f3a"
                        ],
                        [
                          0.8888888888888888,
                          "#fdca26"
                        ],
                        [
                          1,
                          "#f0f921"
                        ]
                      ],
                      "type": "heatmapgl"
                    }
                  ],
                  "heatmap": [
                    {
                      "colorbar": {
                        "outlinewidth": 0,
                        "ticks": ""
                      },
                      "colorscale": [
                        [
                          0,
                          "#0d0887"
                        ],
                        [
                          0.1111111111111111,
                          "#46039f"
                        ],
                        [
                          0.2222222222222222,
                          "#7201a8"
                        ],
                        [
                          0.3333333333333333,
                          "#9c179e"
                        ],
                        [
                          0.4444444444444444,
                          "#bd3786"
                        ],
                        [
                          0.5555555555555556,
                          "#d8576b"
                        ],
                        [
                          0.6666666666666666,
                          "#ed7953"
                        ],
                        [
                          0.7777777777777778,
                          "#fb9f3a"
                        ],
                        [
                          0.8888888888888888,
                          "#fdca26"
                        ],
                        [
                          1,
                          "#f0f921"
                        ]
                      ],
                      "type": "heatmap"
                    }
                  ],
                  "histogram2dcontour": [
                    {
                      "colorbar": {
                        "outlinewidth": 0,
                        "ticks": ""
                      },
                      "colorscale": [
                        [
                          0,
                          "#0d0887"
                        ],
                        [
                          0.1111111111111111,
                          "#46039f"
                        ],
                        [
                          0.2222222222222222,
                          "#7201a8"
                        ],
                        [
                          0.3333333333333333,
                          "#9c179e"
                        ],
                        [
                          0.4444444444444444,
                          "#bd3786"
                        ],
                        [
                          0.5555555555555556,
                          "#d8576b"
                        ],
                        [
                          0.6666666666666666,
                          "#ed7953"
                        ],
                        [
                          0.7777777777777778,
                          "#fb9f3a"
                        ],
                        [
                          0.8888888888888888,
                          "#fdca26"
                        ],
                        [
                          1,
                          "#f0f921"
                        ]
                      ],
                      "type": "histogram2dcontour"
                    }
                  ],
                  "histogram2d": [
                    {
                      "colorbar": {
                        "outlinewidth": 0,
                        "ticks": ""
                      },
                      "colorscale": [
                        [
                          0,
                          "#0d0887"
                        ],
                        [
                          0.1111111111111111,
                          "#46039f"
                        ],
                        [
                          0.2222222222222222,
                          "#7201a8"
                        ],
                        [
                          0.3333333333333333,
                          "#9c179e"
                        ],
                        [
                          0.4444444444444444,
                          "#bd3786"
                        ],
                        [
                          0.5555555555555556,
                          "#d8576b"
                        ],
                        [
                          0.6666666666666666,
                          "#ed7953"
                        ],
                        [
                          0.7777777777777778,
                          "#fb9f3a"
                        ],
                        [
                          0.8888888888888888,
                          "#fdca26"
                        ],
                        [
                          1,
                          "#f0f921"
                        ]
                      ],
                      "type": "histogram2d"
                    }
                  ],
                  "histogram": [
                    {
                      "marker": {
                        "pattern": {
                          "fillmode": "overlay",
                          "size": 10,
                          "solidity": 0.2
                        }
                      },
                      "type": "histogram"
                    }
                  ],
                  "mesh3d": [
                    {
                      "colorbar": {
                        "outlinewidth": 0,
                        "ticks": ""
                      },
                      "type": "mesh3d"
                    }
                  ],
                  "parcoords": [
                    {
                      "line": {
                        "colorbar": {
                          "outlinewidth": 0,
                          "ticks": ""
                        }
                      },
                      "type": "parcoords"
                    }
                  ],
                  "pie": [
                    {
                      "automargin": true,
                      "type": "pie"
                    }
                  ],
                  "scatter3d": [
                    {
                      "line": {
                        "colorbar": {
                          "outlinewidth": 0,
                          "ticks": ""
                        }
                      },
                      "marker": {
                        "colorbar": {
                          "outlinewidth": 0,
                          "ticks": ""
                        }
                      },
                      "type": "scatter3d"
                    }
                  ],
                  "scattercarpet": [
                    {
                      "marker": {
                        "colorbar": {
                          "outlinewidth": 0,
                          "ticks": ""
                        }
                      },
                      "type": "scattercarpet"
                    }
                  ],
                  "scattergeo": [
                    {
                      "marker": {
                        "colorbar": {
                          "outlinewidth": 0,
                          "ticks": ""
                        }
                      },
                      "type": "scattergeo"
                    }
                  ],
                  "scattergl": [
                    {
                      "marker": {
                        "colorbar": {
                          "outlinewidth": 0,
                          "ticks": ""
                        }
                      },
                      "type": "scattergl"
                    }
                  ],
                  "scattermapbox": [
                    {
                      "marker": {
                        "colorbar": {
                          "outlinewidth": 0,
                          "ticks": ""
                        }
                      },
                      "type": "scattermapbox"
                    }
                  ],
                  "scatterpolargl": [
                    {
                      "marker": {
                        "colorbar": {
                          "outlinewidth": 0,
                          "ticks": ""
                        }
                      },
                      "type": "scatterpolargl"
                    }
                  ],
                  "scatterpolar": [
                    {
                      "marker": {
                        "colorbar": {
                          "outlinewidth": 0,
                          "ticks": ""
                        }
                      },
                      "type": "scatterpolar"
                    }
                  ],
                  "scatter": [
                    {
                      "fillpattern": {
                        "fillmode": "overlay",
                        "size": 10,
                        "solidity": 0.2
                      },
                      "type": "scatter"
                    }
                  ],
                  "scatterternary": [
                    {
                      "marker": {
                        "colorbar": {
                          "outlinewidth": 0,
                          "ticks": ""
                        }
                      },
                      "type": "scatterternary"
                    }
                  ],
                  "surface": [
                    {
                      "colorbar": {
                        "outlinewidth": 0,
                        "ticks": ""
                      },
                      "colorscale": [
                        [
                          0,
                          "#0d0887"
                        ],
                        [
                          0.1111111111111111,
                          "#46039f"
                        ],
                        [
                          0.2222222222222222,
                          "#7201a8"
                        ],
                        [
                          0.3333333333333333,
                          "#9c179e"
                        ],
                        [
                          0.4444444444444444,
                          "#bd3786"
                        ],
                        [
                          0.5555555555555556,
                          "#d8576b"
                        ],
                        [
                          0.6666666666666666,
                          "#ed7953"
                        ],
                        [
                          0.7777777777777778,
                          "#fb9f3a"
                        ],
                        [
                          0.8888888888888888,
                          "#fdca26"
                        ],
                        [
                          1,
                          "#f0f921"
                        ]
                      ],
                      "type": "surface"
                    }
                  ],
                  "table": [
                    {
                      "cells": {
                        "fill": {
                          "color": "#EBF0F8"
                        },
                        "line": {
                          "color": "white"
                        }
                      },
                      "header": {
                        "fill": {
                          "color": "#C8D4E3"
                        },
                        "line": {
                          "color": "white"
                        }
                      },
                      "type": "table"
                    }
                  ]
                },
                "layout": {
                  "annotationdefaults": {
                    "arrowcolor": "#2a3f5f",
                    "arrowhead": 0,
                    "arrowwidth": 1
                  },
                  "autotypenumbers": "strict",
                  "coloraxis": {
                    "colorbar": {
                      "outlinewidth": 0,
                      "ticks": ""
                    }
                  },
                  "colorscale": {
                    "diverging": [
                      [
                        0,
                        "#8e0152"
                      ],
                      [
                        0.1,
                        "#c51b7d"
                      ],
                      [
                        0.2,
                        "#de77ae"
                      ],
                      [
                        0.3,
                        "#f1b6da"
                      ],
                      [
                        0.4,
                        "#fde0ef"
                      ],
                      [
                        0.5,
                        "#f7f7f7"
                      ],
                      [
                        0.6,
                        "#e6f5d0"
                      ],
                      [
                        0.7,
                        "#b8e186"
                      ],
                      [
                        0.8,
                        "#7fbc41"
                      ],
                      [
                        0.9,
                        "#4d9221"
                      ],
                      [
                        1,
                        "#276419"
                      ]
                    ],
                    "sequential": [
                      [
                        0,
                        "#0d0887"
                      ],
                      [
                        0.1111111111111111,
                        "#46039f"
                      ],
                      [
                        0.2222222222222222,
                        "#7201a8"
                      ],
                      [
                        0.3333333333333333,
                        "#9c179e"
                      ],
                      [
                        0.4444444444444444,
                        "#bd3786"
                      ],
                      [
                        0.5555555555555556,
                        "#d8576b"
                      ],
                      [
                        0.6666666666666666,
                        "#ed7953"
                      ],
                      [
                        0.7777777777777778,
                        "#fb9f3a"
                      ],
                      [
                        0.8888888888888888,
                        "#fdca26"
                      ],
                      [
                        1,
                        "#f0f921"
                      ]
                    ],
                    "sequentialminus": [
                      [
                        0,
                        "#0d0887"
                      ],
                      [
                        0.1111111111111111,
                        "#46039f"
                      ],
                      [
                        0.2222222222222222,
                        "#7201a8"
                      ],
                      [
                        0.3333333333333333,
                        "#9c179e"
                      ],
                      [
                        0.4444444444444444,
                        "#bd3786"
                      ],
                      [
                        0.5555555555555556,
                        "#d8576b"
                      ],
                      [
                        0.6666666666666666,
                        "#ed7953"
                      ],
                      [
                        0.7777777777777778,
                        "#fb9f3a"
                      ],
                      [
                        0.8888888888888888,
                        "#fdca26"
                      ],
                      [
                        1,
                        "#f0f921"
                      ]
                    ]
                  },
                  "colorway": [
                    "#636efa",
                    "#EF553B",
                    "#00cc96",
                    "#ab63fa",
                    "#FFA15A",
                    "#19d3f3",
                    "#FF6692",
                    "#B6E880",
                    "#FF97FF",
                    "#FECB52"
                  ],
                  "font": {
                    "color": "#2a3f5f"
                  },
                  "geo": {
                    "bgcolor": "white",
                    "lakecolor": "white",
                    "landcolor": "#E5ECF6",
                    "showlakes": true,
                    "showland": true,
                    "subunitcolor": "white"
                  },
                  "hoverlabel": {
                    "align": "left"
                  },
                  "hovermode": "closest",
                  "mapbox": {
                    "style": "light"
                  },
                  "paper_bgcolor": "white",
                  "plot_bgcolor": "#E5ECF6",
                  "polar": {
                    "angularaxis": {
                      "gridcolor": "white",
                      "linecolor": "white",
                      "ticks": ""
                    },
                    "bgcolor": "#E5ECF6",
                    "radialaxis": {
                      "gridcolor": "white",
                      "linecolor": "white",
                      "ticks": ""
                    }
                  },
                  "scene": {
                    "xaxis": {
                      "backgroundcolor": "#E5ECF6",
                      "gridcolor": "white",
                      "gridwidth": 2,
                      "linecolor": "white",
                      "showbackground": true,
                      "ticks": "",
                      "zerolinecolor": "white"
                    },
                    "yaxis": {
                      "backgroundcolor": "#E5ECF6",
                      "gridcolor": "white",
                      "gridwidth": 2,
                      "linecolor": "white",
                      "showbackground": true,
                      "ticks": "",
                      "zerolinecolor": "white"
                    },
                    "zaxis": {
                      "backgroundcolor": "#E5ECF6",
                      "gridcolor": "white",
                      "gridwidth": 2,
                      "linecolor": "white",
                      "showbackground": true,
                      "ticks": "",
                      "zerolinecolor": "white"
                    }
                  },
                  "shapedefaults": {
                    "line": {
                      "color": "#2a3f5f"
                    }
                  },
                  "ternary": {
                    "aaxis": {
                      "gridcolor": "white",
                      "linecolor": "white",
                      "ticks": ""
                    },
                    "baxis": {
                      "gridcolor": "white",
                      "linecolor": "white",
                      "ticks": ""
                    },
                    "bgcolor": "#E5ECF6",
                    "caxis": {
                      "gridcolor": "white",
                      "linecolor": "white",
                      "ticks": ""
                    }
                  },
                  "title": {
                    "x": 0.05
                  },
                  "xaxis": {
                    "automargin": true,
                    "gridcolor": "white",
                    "linecolor": "white",
                    "ticks": "",
                    "title": {
                      "standoff": 15
                    },
                    "zerolinecolor": "white",
                    "zerolinewidth": 2
                  },
                  "yaxis": {
                    "automargin": true,
                    "gridcolor": "white",
                    "linecolor": "white",
                    "ticks": "",
                    "title": {
                      "standoff": 15
                    },
                    "zerolinecolor": "white",
                    "zerolinewidth": 2
                  }
                }
              },
              "title": {
                "text": "Dataset for OR Gate with Noise Level 0.43"
              },
              "width": 800,
              "xaxis": {
                "range": [
                  -1,
                  2
                ]
              },
              "yaxis": {
                "range": [
                  -1,
                  2
                ]
              }
            },
            "_model_module": "jupyterlab-plotly",
            "_model_module_version": "^5.24.1",
            "_model_name": "FigureModel",
            "_py2js_addTraces": null,
            "_py2js_animate": {},
            "_py2js_deleteTraces": {},
            "_py2js_moveTraces": {},
            "_py2js_relayout": {},
            "_py2js_removeLayoutProps": {},
            "_py2js_removeTraceProps": {},
            "_py2js_restyle": {},
            "_py2js_update": null,
            "_view_count": 0,
            "_view_module": "jupyterlab-plotly",
            "_view_module_version": "^5.24.1",
            "_view_name": "FigureView"
          }
        },
        "3dab048b19da4071b6f471b8f36b06bf": {
          "model_module": "jupyterlab-plotly",
          "model_name": "FigureModel",
          "model_module_version": "^5.24.1",
          "state": {
            "_config": {
              "plotlyServerURL": "https://plot.ly"
            },
            "_data": [
              {
                "marker": {
                  "color": "red"
                },
                "mode": "markers",
                "name": "0",
                "uid": "cf075fd1-80a8-41a7-a0fa-a903c41b0a47",
                "x": {
                  "dtype": "float64",
                  "shape": [
                    100
                  ]
                },
                "y": {
                  "dtype": "float64",
                  "shape": [
                    100
                  ]
                },
                "type": "scatter"
              },
              {
                "marker": {
                  "color": "blue"
                },
                "mode": "markers",
                "name": "1",
                "uid": "d9213c2b-6b71-4e33-9d4b-f6854c6db8c2",
                "x": {
                  "dtype": "float64",
                  "shape": [
                    300
                  ]
                },
                "y": {
                  "dtype": "float64",
                  "shape": [
                    300
                  ]
                },
                "type": "scatter"
              }
            ],
            "_dom_classes": [],
            "_js2py_layoutDelta": {},
            "_js2py_pointsCallback": {},
            "_js2py_relayout": {},
            "_js2py_restyle": {},
            "_js2py_traceDeltas": {},
            "_js2py_update": {},
            "_last_layout_edit_id": 2,
            "_last_trace_edit_id": 2,
            "_layout": {
              "height": 500,
              "template": {
                "data": {
                  "barpolar": [
                    {
                      "marker": {
                        "line": {
                          "color": "#E5ECF6",
                          "width": 0.5
                        },
                        "pattern": {
                          "fillmode": "overlay",
                          "size": 10,
                          "solidity": 0.2
                        }
                      },
                      "type": "barpolar"
                    }
                  ],
                  "bar": [
                    {
                      "error_x": {
                        "color": "#2a3f5f"
                      },
                      "error_y": {
                        "color": "#2a3f5f"
                      },
                      "marker": {
                        "line": {
                          "color": "#E5ECF6",
                          "width": 0.5
                        },
                        "pattern": {
                          "fillmode": "overlay",
                          "size": 10,
                          "solidity": 0.2
                        }
                      },
                      "type": "bar"
                    }
                  ],
                  "carpet": [
                    {
                      "aaxis": {
                        "endlinecolor": "#2a3f5f",
                        "gridcolor": "white",
                        "linecolor": "white",
                        "minorgridcolor": "white",
                        "startlinecolor": "#2a3f5f"
                      },
                      "baxis": {
                        "endlinecolor": "#2a3f5f",
                        "gridcolor": "white",
                        "linecolor": "white",
                        "minorgridcolor": "white",
                        "startlinecolor": "#2a3f5f"
                      },
                      "type": "carpet"
                    }
                  ],
                  "choropleth": [
                    {
                      "colorbar": {
                        "outlinewidth": 0,
                        "ticks": ""
                      },
                      "type": "choropleth"
                    }
                  ],
                  "contourcarpet": [
                    {
                      "colorbar": {
                        "outlinewidth": 0,
                        "ticks": ""
                      },
                      "type": "contourcarpet"
                    }
                  ],
                  "contour": [
                    {
                      "colorbar": {
                        "outlinewidth": 0,
                        "ticks": ""
                      },
                      "colorscale": [
                        [
                          0,
                          "#0d0887"
                        ],
                        [
                          0.1111111111111111,
                          "#46039f"
                        ],
                        [
                          0.2222222222222222,
                          "#7201a8"
                        ],
                        [
                          0.3333333333333333,
                          "#9c179e"
                        ],
                        [
                          0.4444444444444444,
                          "#bd3786"
                        ],
                        [
                          0.5555555555555556,
                          "#d8576b"
                        ],
                        [
                          0.6666666666666666,
                          "#ed7953"
                        ],
                        [
                          0.7777777777777778,
                          "#fb9f3a"
                        ],
                        [
                          0.8888888888888888,
                          "#fdca26"
                        ],
                        [
                          1,
                          "#f0f921"
                        ]
                      ],
                      "type": "contour"
                    }
                  ],
                  "heatmapgl": [
                    {
                      "colorbar": {
                        "outlinewidth": 0,
                        "ticks": ""
                      },
                      "colorscale": [
                        [
                          0,
                          "#0d0887"
                        ],
                        [
                          0.1111111111111111,
                          "#46039f"
                        ],
                        [
                          0.2222222222222222,
                          "#7201a8"
                        ],
                        [
                          0.3333333333333333,
                          "#9c179e"
                        ],
                        [
                          0.4444444444444444,
                          "#bd3786"
                        ],
                        [
                          0.5555555555555556,
                          "#d8576b"
                        ],
                        [
                          0.6666666666666666,
                          "#ed7953"
                        ],
                        [
                          0.7777777777777778,
                          "#fb9f3a"
                        ],
                        [
                          0.8888888888888888,
                          "#fdca26"
                        ],
                        [
                          1,
                          "#f0f921"
                        ]
                      ],
                      "type": "heatmapgl"
                    }
                  ],
                  "heatmap": [
                    {
                      "colorbar": {
                        "outlinewidth": 0,
                        "ticks": ""
                      },
                      "colorscale": [
                        [
                          0,
                          "#0d0887"
                        ],
                        [
                          0.1111111111111111,
                          "#46039f"
                        ],
                        [
                          0.2222222222222222,
                          "#7201a8"
                        ],
                        [
                          0.3333333333333333,
                          "#9c179e"
                        ],
                        [
                          0.4444444444444444,
                          "#bd3786"
                        ],
                        [
                          0.5555555555555556,
                          "#d8576b"
                        ],
                        [
                          0.6666666666666666,
                          "#ed7953"
                        ],
                        [
                          0.7777777777777778,
                          "#fb9f3a"
                        ],
                        [
                          0.8888888888888888,
                          "#fdca26"
                        ],
                        [
                          1,
                          "#f0f921"
                        ]
                      ],
                      "type": "heatmap"
                    }
                  ],
                  "histogram2dcontour": [
                    {
                      "colorbar": {
                        "outlinewidth": 0,
                        "ticks": ""
                      },
                      "colorscale": [
                        [
                          0,
                          "#0d0887"
                        ],
                        [
                          0.1111111111111111,
                          "#46039f"
                        ],
                        [
                          0.2222222222222222,
                          "#7201a8"
                        ],
                        [
                          0.3333333333333333,
                          "#9c179e"
                        ],
                        [
                          0.4444444444444444,
                          "#bd3786"
                        ],
                        [
                          0.5555555555555556,
                          "#d8576b"
                        ],
                        [
                          0.6666666666666666,
                          "#ed7953"
                        ],
                        [
                          0.7777777777777778,
                          "#fb9f3a"
                        ],
                        [
                          0.8888888888888888,
                          "#fdca26"
                        ],
                        [
                          1,
                          "#f0f921"
                        ]
                      ],
                      "type": "histogram2dcontour"
                    }
                  ],
                  "histogram2d": [
                    {
                      "colorbar": {
                        "outlinewidth": 0,
                        "ticks": ""
                      },
                      "colorscale": [
                        [
                          0,
                          "#0d0887"
                        ],
                        [
                          0.1111111111111111,
                          "#46039f"
                        ],
                        [
                          0.2222222222222222,
                          "#7201a8"
                        ],
                        [
                          0.3333333333333333,
                          "#9c179e"
                        ],
                        [
                          0.4444444444444444,
                          "#bd3786"
                        ],
                        [
                          0.5555555555555556,
                          "#d8576b"
                        ],
                        [
                          0.6666666666666666,
                          "#ed7953"
                        ],
                        [
                          0.7777777777777778,
                          "#fb9f3a"
                        ],
                        [
                          0.8888888888888888,
                          "#fdca26"
                        ],
                        [
                          1,
                          "#f0f921"
                        ]
                      ],
                      "type": "histogram2d"
                    }
                  ],
                  "histogram": [
                    {
                      "marker": {
                        "pattern": {
                          "fillmode": "overlay",
                          "size": 10,
                          "solidity": 0.2
                        }
                      },
                      "type": "histogram"
                    }
                  ],
                  "mesh3d": [
                    {
                      "colorbar": {
                        "outlinewidth": 0,
                        "ticks": ""
                      },
                      "type": "mesh3d"
                    }
                  ],
                  "parcoords": [
                    {
                      "line": {
                        "colorbar": {
                          "outlinewidth": 0,
                          "ticks": ""
                        }
                      },
                      "type": "parcoords"
                    }
                  ],
                  "pie": [
                    {
                      "automargin": true,
                      "type": "pie"
                    }
                  ],
                  "scatter3d": [
                    {
                      "line": {
                        "colorbar": {
                          "outlinewidth": 0,
                          "ticks": ""
                        }
                      },
                      "marker": {
                        "colorbar": {
                          "outlinewidth": 0,
                          "ticks": ""
                        }
                      },
                      "type": "scatter3d"
                    }
                  ],
                  "scattercarpet": [
                    {
                      "marker": {
                        "colorbar": {
                          "outlinewidth": 0,
                          "ticks": ""
                        }
                      },
                      "type": "scattercarpet"
                    }
                  ],
                  "scattergeo": [
                    {
                      "marker": {
                        "colorbar": {
                          "outlinewidth": 0,
                          "ticks": ""
                        }
                      },
                      "type": "scattergeo"
                    }
                  ],
                  "scattergl": [
                    {
                      "marker": {
                        "colorbar": {
                          "outlinewidth": 0,
                          "ticks": ""
                        }
                      },
                      "type": "scattergl"
                    }
                  ],
                  "scattermapbox": [
                    {
                      "marker": {
                        "colorbar": {
                          "outlinewidth": 0,
                          "ticks": ""
                        }
                      },
                      "type": "scattermapbox"
                    }
                  ],
                  "scatterpolargl": [
                    {
                      "marker": {
                        "colorbar": {
                          "outlinewidth": 0,
                          "ticks": ""
                        }
                      },
                      "type": "scatterpolargl"
                    }
                  ],
                  "scatterpolar": [
                    {
                      "marker": {
                        "colorbar": {
                          "outlinewidth": 0,
                          "ticks": ""
                        }
                      },
                      "type": "scatterpolar"
                    }
                  ],
                  "scatter": [
                    {
                      "fillpattern": {
                        "fillmode": "overlay",
                        "size": 10,
                        "solidity": 0.2
                      },
                      "type": "scatter"
                    }
                  ],
                  "scatterternary": [
                    {
                      "marker": {
                        "colorbar": {
                          "outlinewidth": 0,
                          "ticks": ""
                        }
                      },
                      "type": "scatterternary"
                    }
                  ],
                  "surface": [
                    {
                      "colorbar": {
                        "outlinewidth": 0,
                        "ticks": ""
                      },
                      "colorscale": [
                        [
                          0,
                          "#0d0887"
                        ],
                        [
                          0.1111111111111111,
                          "#46039f"
                        ],
                        [
                          0.2222222222222222,
                          "#7201a8"
                        ],
                        [
                          0.3333333333333333,
                          "#9c179e"
                        ],
                        [
                          0.4444444444444444,
                          "#bd3786"
                        ],
                        [
                          0.5555555555555556,
                          "#d8576b"
                        ],
                        [
                          0.6666666666666666,
                          "#ed7953"
                        ],
                        [
                          0.7777777777777778,
                          "#fb9f3a"
                        ],
                        [
                          0.8888888888888888,
                          "#fdca26"
                        ],
                        [
                          1,
                          "#f0f921"
                        ]
                      ],
                      "type": "surface"
                    }
                  ],
                  "table": [
                    {
                      "cells": {
                        "fill": {
                          "color": "#EBF0F8"
                        },
                        "line": {
                          "color": "white"
                        }
                      },
                      "header": {
                        "fill": {
                          "color": "#C8D4E3"
                        },
                        "line": {
                          "color": "white"
                        }
                      },
                      "type": "table"
                    }
                  ]
                },
                "layout": {
                  "annotationdefaults": {
                    "arrowcolor": "#2a3f5f",
                    "arrowhead": 0,
                    "arrowwidth": 1
                  },
                  "autotypenumbers": "strict",
                  "coloraxis": {
                    "colorbar": {
                      "outlinewidth": 0,
                      "ticks": ""
                    }
                  },
                  "colorscale": {
                    "diverging": [
                      [
                        0,
                        "#8e0152"
                      ],
                      [
                        0.1,
                        "#c51b7d"
                      ],
                      [
                        0.2,
                        "#de77ae"
                      ],
                      [
                        0.3,
                        "#f1b6da"
                      ],
                      [
                        0.4,
                        "#fde0ef"
                      ],
                      [
                        0.5,
                        "#f7f7f7"
                      ],
                      [
                        0.6,
                        "#e6f5d0"
                      ],
                      [
                        0.7,
                        "#b8e186"
                      ],
                      [
                        0.8,
                        "#7fbc41"
                      ],
                      [
                        0.9,
                        "#4d9221"
                      ],
                      [
                        1,
                        "#276419"
                      ]
                    ],
                    "sequential": [
                      [
                        0,
                        "#0d0887"
                      ],
                      [
                        0.1111111111111111,
                        "#46039f"
                      ],
                      [
                        0.2222222222222222,
                        "#7201a8"
                      ],
                      [
                        0.3333333333333333,
                        "#9c179e"
                      ],
                      [
                        0.4444444444444444,
                        "#bd3786"
                      ],
                      [
                        0.5555555555555556,
                        "#d8576b"
                      ],
                      [
                        0.6666666666666666,
                        "#ed7953"
                      ],
                      [
                        0.7777777777777778,
                        "#fb9f3a"
                      ],
                      [
                        0.8888888888888888,
                        "#fdca26"
                      ],
                      [
                        1,
                        "#f0f921"
                      ]
                    ],
                    "sequentialminus": [
                      [
                        0,
                        "#0d0887"
                      ],
                      [
                        0.1111111111111111,
                        "#46039f"
                      ],
                      [
                        0.2222222222222222,
                        "#7201a8"
                      ],
                      [
                        0.3333333333333333,
                        "#9c179e"
                      ],
                      [
                        0.4444444444444444,
                        "#bd3786"
                      ],
                      [
                        0.5555555555555556,
                        "#d8576b"
                      ],
                      [
                        0.6666666666666666,
                        "#ed7953"
                      ],
                      [
                        0.7777777777777778,
                        "#fb9f3a"
                      ],
                      [
                        0.8888888888888888,
                        "#fdca26"
                      ],
                      [
                        1,
                        "#f0f921"
                      ]
                    ]
                  },
                  "colorway": [
                    "#636efa",
                    "#EF553B",
                    "#00cc96",
                    "#ab63fa",
                    "#FFA15A",
                    "#19d3f3",
                    "#FF6692",
                    "#B6E880",
                    "#FF97FF",
                    "#FECB52"
                  ],
                  "font": {
                    "color": "#2a3f5f"
                  },
                  "geo": {
                    "bgcolor": "white",
                    "lakecolor": "white",
                    "landcolor": "#E5ECF6",
                    "showlakes": true,
                    "showland": true,
                    "subunitcolor": "white"
                  },
                  "hoverlabel": {
                    "align": "left"
                  },
                  "hovermode": "closest",
                  "mapbox": {
                    "style": "light"
                  },
                  "paper_bgcolor": "white",
                  "plot_bgcolor": "#E5ECF6",
                  "polar": {
                    "angularaxis": {
                      "gridcolor": "white",
                      "linecolor": "white",
                      "ticks": ""
                    },
                    "bgcolor": "#E5ECF6",
                    "radialaxis": {
                      "gridcolor": "white",
                      "linecolor": "white",
                      "ticks": ""
                    }
                  },
                  "scene": {
                    "xaxis": {
                      "backgroundcolor": "#E5ECF6",
                      "gridcolor": "white",
                      "gridwidth": 2,
                      "linecolor": "white",
                      "showbackground": true,
                      "ticks": "",
                      "zerolinecolor": "white"
                    },
                    "yaxis": {
                      "backgroundcolor": "#E5ECF6",
                      "gridcolor": "white",
                      "gridwidth": 2,
                      "linecolor": "white",
                      "showbackground": true,
                      "ticks": "",
                      "zerolinecolor": "white"
                    },
                    "zaxis": {
                      "backgroundcolor": "#E5ECF6",
                      "gridcolor": "white",
                      "gridwidth": 2,
                      "linecolor": "white",
                      "showbackground": true,
                      "ticks": "",
                      "zerolinecolor": "white"
                    }
                  },
                  "shapedefaults": {
                    "line": {
                      "color": "#2a3f5f"
                    }
                  },
                  "ternary": {
                    "aaxis": {
                      "gridcolor": "white",
                      "linecolor": "white",
                      "ticks": ""
                    },
                    "baxis": {
                      "gridcolor": "white",
                      "linecolor": "white",
                      "ticks": ""
                    },
                    "bgcolor": "#E5ECF6",
                    "caxis": {
                      "gridcolor": "white",
                      "linecolor": "white",
                      "ticks": ""
                    }
                  },
                  "title": {
                    "x": 0.05
                  },
                  "xaxis": {
                    "automargin": true,
                    "gridcolor": "white",
                    "linecolor": "white",
                    "ticks": "",
                    "title": {
                      "standoff": 15
                    },
                    "zerolinecolor": "white",
                    "zerolinewidth": 2
                  },
                  "yaxis": {
                    "automargin": true,
                    "gridcolor": "white",
                    "linecolor": "white",
                    "ticks": "",
                    "title": {
                      "standoff": 15
                    },
                    "zerolinecolor": "white",
                    "zerolinewidth": 2
                  }
                }
              },
              "title": {
                "text": "Dataset for OR Gate with Noise Level 0.43"
              },
              "width": 800,
              "xaxis": {
                "range": [
                  -1,
                  2
                ]
              },
              "yaxis": {
                "range": [
                  -1,
                  2
                ]
              }
            },
            "_model_module": "jupyterlab-plotly",
            "_model_module_version": "^5.24.1",
            "_model_name": "FigureModel",
            "_py2js_addTraces": null,
            "_py2js_animate": {},
            "_py2js_deleteTraces": {},
            "_py2js_moveTraces": {},
            "_py2js_relayout": {},
            "_py2js_removeLayoutProps": {},
            "_py2js_removeTraceProps": {},
            "_py2js_restyle": {},
            "_py2js_update": null,
            "_view_count": 0,
            "_view_module": "jupyterlab-plotly",
            "_view_module_version": "^5.24.1",
            "_view_name": "FigureView"
          }
        },
        "55f360e81c904365a386fc884234cf70": {
          "model_module": "@jupyter-widgets/controls",
          "model_name": "VBoxModel",
          "model_module_version": "1.5.0",
          "state": {
            "_dom_classes": [
              "widget-interact"
            ],
            "_model_module": "@jupyter-widgets/controls",
            "_model_module_version": "1.5.0",
            "_model_name": "VBoxModel",
            "_view_count": null,
            "_view_module": "@jupyter-widgets/controls",
            "_view_module_version": "1.5.0",
            "_view_name": "VBoxView",
            "box_style": "",
            "children": [
              "IPY_MODEL_af62e7c7bf034fcabff4aa4eec5afbc4",
              "IPY_MODEL_196df3543b86432f8b9443c2027ea209",
              "IPY_MODEL_3feb119790ff41deabda3ba02147783d",
              "IPY_MODEL_a872c12939a34f96bf3bd3c331d9b80c",
              "IPY_MODEL_5369b7656c304201a48546e3b01528f0"
            ],
            "layout": "IPY_MODEL_23865ede9c0f445e8abaedf992ff37c2"
          }
        },
        "af62e7c7bf034fcabff4aa4eec5afbc4": {
          "model_module": "@jupyter-widgets/controls",
          "model_name": "FloatSliderModel",
          "model_module_version": "1.5.0",
          "state": {
            "_dom_classes": [],
            "_model_module": "@jupyter-widgets/controls",
            "_model_module_version": "1.5.0",
            "_model_name": "FloatSliderModel",
            "_view_count": null,
            "_view_module": "@jupyter-widgets/controls",
            "_view_module_version": "1.5.0",
            "_view_name": "FloatSliderView",
            "continuous_update": true,
            "description": "Samples",
            "description_tooltip": null,
            "disabled": false,
            "layout": "IPY_MODEL_436d132f95234804b38ab7590f107ed4",
            "max": 1000,
            "min": 100,
            "orientation": "horizontal",
            "readout": true,
            "readout_format": ".2f",
            "step": 100,
            "style": "IPY_MODEL_691cc4580db54d3cb9bb0b592e5e80f0",
            "value": 500
          }
        },
        "196df3543b86432f8b9443c2027ea209": {
          "model_module": "@jupyter-widgets/controls",
          "model_name": "DropdownModel",
          "model_module_version": "1.5.0",
          "state": {
            "_dom_classes": [],
            "_model_module": "@jupyter-widgets/controls",
            "_model_module_version": "1.5.0",
            "_model_name": "DropdownModel",
            "_options_labels": [
              "AND",
              "OR",
              "XOR"
            ],
            "_view_count": null,
            "_view_module": "@jupyter-widgets/controls",
            "_view_module_version": "1.5.0",
            "_view_name": "DropdownView",
            "description": "Gate",
            "description_tooltip": null,
            "disabled": false,
            "index": 0,
            "layout": "IPY_MODEL_356e7750530d4bba9bfa03c8814106fb",
            "style": "IPY_MODEL_d9772ca138f248ab81cccbd8d3196208"
          }
        },
        "3feb119790ff41deabda3ba02147783d": {
          "model_module": "@jupyter-widgets/controls",
          "model_name": "FloatSliderModel",
          "model_module_version": "1.5.0",
          "state": {
            "_dom_classes": [],
            "_model_module": "@jupyter-widgets/controls",
            "_model_module_version": "1.5.0",
            "_model_name": "FloatSliderModel",
            "_view_count": null,
            "_view_module": "@jupyter-widgets/controls",
            "_view_module_version": "1.5.0",
            "_view_name": "FloatSliderView",
            "continuous_update": true,
            "description": "Noise Level",
            "description_tooltip": null,
            "disabled": false,
            "layout": "IPY_MODEL_b220944fbed3445d882ac3efb2da3a13",
            "max": 1,
            "min": 0,
            "orientation": "horizontal",
            "readout": true,
            "readout_format": ".2f",
            "step": 0.01,
            "style": "IPY_MODEL_079ff6cf91f04a868b92411652c71517",
            "value": 0.05
          }
        },
        "a872c12939a34f96bf3bd3c331d9b80c": {
          "model_module": "@jupyter-widgets/controls",
          "model_name": "CheckboxModel",
          "model_module_version": "1.5.0",
          "state": {
            "_dom_classes": [],
            "_model_module": "@jupyter-widgets/controls",
            "_model_module_version": "1.5.0",
            "_model_name": "CheckboxModel",
            "_view_count": null,
            "_view_module": "@jupyter-widgets/controls",
            "_view_module_version": "1.5.0",
            "_view_name": "CheckboxView",
            "description": "Show Probabilities",
            "description_tooltip": null,
            "disabled": false,
            "indent": true,
            "layout": "IPY_MODEL_8dd257c38a764df2a8203dc845e16fdf",
            "style": "IPY_MODEL_8d770aceca5d4641bf3c46352a472d6e",
            "value": false
          }
        },
        "5369b7656c304201a48546e3b01528f0": {
          "model_module": "@jupyter-widgets/output",
          "model_name": "OutputModel",
          "model_module_version": "1.0.0",
          "state": {
            "_dom_classes": [],
            "_model_module": "@jupyter-widgets/output",
            "_model_module_version": "1.0.0",
            "_model_name": "OutputModel",
            "_view_count": null,
            "_view_module": "@jupyter-widgets/output",
            "_view_module_version": "1.0.0",
            "_view_name": "OutputView",
            "layout": "IPY_MODEL_95cacd1179594a24938e11c0e8e73e36",
            "msg_id": "",
            "outputs": [
              {
                "output_type": "stream",
                "name": "stdout",
                "text": [
                  "Epoch 0, Loss: 0.6723229885101318, Test Loss: 0.5493162870407104\n",
                  "Epoch 1, Loss: 0.4623449146747589, Test Loss: 0.45094969868659973\n",
                  "Epoch 2, Loss: 0.45952239632606506, Test Loss: 0.4051673263311386\n",
                  "Epoch 3, Loss: 0.43343955278396606, Test Loss: 0.36974993348121643\n",
                  "Epoch 4, Loss: 0.3103679418563843, Test Loss: 0.34074829518795013\n",
                  "Epoch 5, Loss: 0.2729734480381012, Test Loss: 0.31707869470119476\n",
                  "Epoch 6, Loss: 0.3649311363697052, Test Loss: 0.29554682970046997\n",
                  "Epoch 7, Loss: 0.3370780944824219, Test Loss: 0.2771964818239212\n",
                  "Epoch 8, Loss: 0.2654189169406891, Test Loss: 0.26222146302461624\n",
                  "Epoch 9, Loss: 0.2689360976219177, Test Loss: 0.248799629509449\n",
                  "Epoch 10, Loss: 0.2158411145210266, Test Loss: 0.2367890700697899\n",
                  "Epoch 11, Loss: 0.23853425681591034, Test Loss: 0.22414807230234146\n",
                  "Epoch 12, Loss: 0.22951121628284454, Test Loss: 0.21408990025520325\n",
                  "Epoch 13, Loss: 0.20645514130592346, Test Loss: 0.205990768969059\n",
                  "Epoch 14, Loss: 0.175301656126976, Test Loss: 0.19684530049562454\n",
                  "Epoch 15, Loss: 0.22546789050102234, Test Loss: 0.18902914226055145\n",
                  "Epoch 16, Loss: 0.24610614776611328, Test Loss: 0.18185142427682877\n",
                  "Epoch 17, Loss: 0.226770281791687, Test Loss: 0.1753498613834381\n",
                  "Epoch 18, Loss: 0.22023947536945343, Test Loss: 0.16915826499462128\n",
                  "Epoch 19, Loss: 0.1478768289089203, Test Loss: 0.16370593011379242\n"
                ]
              }
            ]
          }
        },
        "23865ede9c0f445e8abaedf992ff37c2": {
          "model_module": "@jupyter-widgets/base",
          "model_name": "LayoutModel",
          "model_module_version": "1.2.0",
          "state": {
            "_model_module": "@jupyter-widgets/base",
            "_model_module_version": "1.2.0",
            "_model_name": "LayoutModel",
            "_view_count": null,
            "_view_module": "@jupyter-widgets/base",
            "_view_module_version": "1.2.0",
            "_view_name": "LayoutView",
            "align_content": null,
            "align_items": null,
            "align_self": null,
            "border": null,
            "bottom": null,
            "display": null,
            "flex": null,
            "flex_flow": null,
            "grid_area": null,
            "grid_auto_columns": null,
            "grid_auto_flow": null,
            "grid_auto_rows": null,
            "grid_column": null,
            "grid_gap": null,
            "grid_row": null,
            "grid_template_areas": null,
            "grid_template_columns": null,
            "grid_template_rows": null,
            "height": null,
            "justify_content": null,
            "justify_items": null,
            "left": null,
            "margin": null,
            "max_height": null,
            "max_width": null,
            "min_height": null,
            "min_width": null,
            "object_fit": null,
            "object_position": null,
            "order": null,
            "overflow": null,
            "overflow_x": null,
            "overflow_y": null,
            "padding": null,
            "right": null,
            "top": null,
            "visibility": null,
            "width": null
          }
        },
        "436d132f95234804b38ab7590f107ed4": {
          "model_module": "@jupyter-widgets/base",
          "model_name": "LayoutModel",
          "model_module_version": "1.2.0",
          "state": {
            "_model_module": "@jupyter-widgets/base",
            "_model_module_version": "1.2.0",
            "_model_name": "LayoutModel",
            "_view_count": null,
            "_view_module": "@jupyter-widgets/base",
            "_view_module_version": "1.2.0",
            "_view_name": "LayoutView",
            "align_content": null,
            "align_items": null,
            "align_self": null,
            "border": null,
            "bottom": null,
            "display": null,
            "flex": null,
            "flex_flow": null,
            "grid_area": null,
            "grid_auto_columns": null,
            "grid_auto_flow": null,
            "grid_auto_rows": null,
            "grid_column": null,
            "grid_gap": null,
            "grid_row": null,
            "grid_template_areas": null,
            "grid_template_columns": null,
            "grid_template_rows": null,
            "height": null,
            "justify_content": null,
            "justify_items": null,
            "left": null,
            "margin": null,
            "max_height": null,
            "max_width": null,
            "min_height": null,
            "min_width": null,
            "object_fit": null,
            "object_position": null,
            "order": null,
            "overflow": null,
            "overflow_x": null,
            "overflow_y": null,
            "padding": null,
            "right": null,
            "top": null,
            "visibility": null,
            "width": null
          }
        },
        "691cc4580db54d3cb9bb0b592e5e80f0": {
          "model_module": "@jupyter-widgets/controls",
          "model_name": "SliderStyleModel",
          "model_module_version": "1.5.0",
          "state": {
            "_model_module": "@jupyter-widgets/controls",
            "_model_module_version": "1.5.0",
            "_model_name": "SliderStyleModel",
            "_view_count": null,
            "_view_module": "@jupyter-widgets/base",
            "_view_module_version": "1.2.0",
            "_view_name": "StyleView",
            "description_width": "",
            "handle_color": null
          }
        },
        "356e7750530d4bba9bfa03c8814106fb": {
          "model_module": "@jupyter-widgets/base",
          "model_name": "LayoutModel",
          "model_module_version": "1.2.0",
          "state": {
            "_model_module": "@jupyter-widgets/base",
            "_model_module_version": "1.2.0",
            "_model_name": "LayoutModel",
            "_view_count": null,
            "_view_module": "@jupyter-widgets/base",
            "_view_module_version": "1.2.0",
            "_view_name": "LayoutView",
            "align_content": null,
            "align_items": null,
            "align_self": null,
            "border": null,
            "bottom": null,
            "display": null,
            "flex": null,
            "flex_flow": null,
            "grid_area": null,
            "grid_auto_columns": null,
            "grid_auto_flow": null,
            "grid_auto_rows": null,
            "grid_column": null,
            "grid_gap": null,
            "grid_row": null,
            "grid_template_areas": null,
            "grid_template_columns": null,
            "grid_template_rows": null,
            "height": null,
            "justify_content": null,
            "justify_items": null,
            "left": null,
            "margin": null,
            "max_height": null,
            "max_width": null,
            "min_height": null,
            "min_width": null,
            "object_fit": null,
            "object_position": null,
            "order": null,
            "overflow": null,
            "overflow_x": null,
            "overflow_y": null,
            "padding": null,
            "right": null,
            "top": null,
            "visibility": null,
            "width": null
          }
        },
        "d9772ca138f248ab81cccbd8d3196208": {
          "model_module": "@jupyter-widgets/controls",
          "model_name": "DescriptionStyleModel",
          "model_module_version": "1.5.0",
          "state": {
            "_model_module": "@jupyter-widgets/controls",
            "_model_module_version": "1.5.0",
            "_model_name": "DescriptionStyleModel",
            "_view_count": null,
            "_view_module": "@jupyter-widgets/base",
            "_view_module_version": "1.2.0",
            "_view_name": "StyleView",
            "description_width": ""
          }
        },
        "b220944fbed3445d882ac3efb2da3a13": {
          "model_module": "@jupyter-widgets/base",
          "model_name": "LayoutModel",
          "model_module_version": "1.2.0",
          "state": {
            "_model_module": "@jupyter-widgets/base",
            "_model_module_version": "1.2.0",
            "_model_name": "LayoutModel",
            "_view_count": null,
            "_view_module": "@jupyter-widgets/base",
            "_view_module_version": "1.2.0",
            "_view_name": "LayoutView",
            "align_content": null,
            "align_items": null,
            "align_self": null,
            "border": null,
            "bottom": null,
            "display": null,
            "flex": null,
            "flex_flow": null,
            "grid_area": null,
            "grid_auto_columns": null,
            "grid_auto_flow": null,
            "grid_auto_rows": null,
            "grid_column": null,
            "grid_gap": null,
            "grid_row": null,
            "grid_template_areas": null,
            "grid_template_columns": null,
            "grid_template_rows": null,
            "height": null,
            "justify_content": null,
            "justify_items": null,
            "left": null,
            "margin": null,
            "max_height": null,
            "max_width": null,
            "min_height": null,
            "min_width": null,
            "object_fit": null,
            "object_position": null,
            "order": null,
            "overflow": null,
            "overflow_x": null,
            "overflow_y": null,
            "padding": null,
            "right": null,
            "top": null,
            "visibility": null,
            "width": null
          }
        },
        "079ff6cf91f04a868b92411652c71517": {
          "model_module": "@jupyter-widgets/controls",
          "model_name": "SliderStyleModel",
          "model_module_version": "1.5.0",
          "state": {
            "_model_module": "@jupyter-widgets/controls",
            "_model_module_version": "1.5.0",
            "_model_name": "SliderStyleModel",
            "_view_count": null,
            "_view_module": "@jupyter-widgets/base",
            "_view_module_version": "1.2.0",
            "_view_name": "StyleView",
            "description_width": "",
            "handle_color": null
          }
        },
        "8dd257c38a764df2a8203dc845e16fdf": {
          "model_module": "@jupyter-widgets/base",
          "model_name": "LayoutModel",
          "model_module_version": "1.2.0",
          "state": {
            "_model_module": "@jupyter-widgets/base",
            "_model_module_version": "1.2.0",
            "_model_name": "LayoutModel",
            "_view_count": null,
            "_view_module": "@jupyter-widgets/base",
            "_view_module_version": "1.2.0",
            "_view_name": "LayoutView",
            "align_content": null,
            "align_items": null,
            "align_self": null,
            "border": null,
            "bottom": null,
            "display": null,
            "flex": null,
            "flex_flow": null,
            "grid_area": null,
            "grid_auto_columns": null,
            "grid_auto_flow": null,
            "grid_auto_rows": null,
            "grid_column": null,
            "grid_gap": null,
            "grid_row": null,
            "grid_template_areas": null,
            "grid_template_columns": null,
            "grid_template_rows": null,
            "height": null,
            "justify_content": null,
            "justify_items": null,
            "left": null,
            "margin": null,
            "max_height": null,
            "max_width": null,
            "min_height": null,
            "min_width": null,
            "object_fit": null,
            "object_position": null,
            "order": null,
            "overflow": null,
            "overflow_x": null,
            "overflow_y": null,
            "padding": null,
            "right": null,
            "top": null,
            "visibility": null,
            "width": null
          }
        },
        "8d770aceca5d4641bf3c46352a472d6e": {
          "model_module": "@jupyter-widgets/controls",
          "model_name": "DescriptionStyleModel",
          "model_module_version": "1.5.0",
          "state": {
            "_model_module": "@jupyter-widgets/controls",
            "_model_module_version": "1.5.0",
            "_model_name": "DescriptionStyleModel",
            "_view_count": null,
            "_view_module": "@jupyter-widgets/base",
            "_view_module_version": "1.2.0",
            "_view_name": "StyleView",
            "description_width": ""
          }
        },
        "95cacd1179594a24938e11c0e8e73e36": {
          "model_module": "@jupyter-widgets/base",
          "model_name": "LayoutModel",
          "model_module_version": "1.2.0",
          "state": {
            "_model_module": "@jupyter-widgets/base",
            "_model_module_version": "1.2.0",
            "_model_name": "LayoutModel",
            "_view_count": null,
            "_view_module": "@jupyter-widgets/base",
            "_view_module_version": "1.2.0",
            "_view_name": "LayoutView",
            "align_content": null,
            "align_items": null,
            "align_self": null,
            "border": null,
            "bottom": null,
            "display": null,
            "flex": null,
            "flex_flow": null,
            "grid_area": null,
            "grid_auto_columns": null,
            "grid_auto_flow": null,
            "grid_auto_rows": null,
            "grid_column": null,
            "grid_gap": null,
            "grid_row": null,
            "grid_template_areas": null,
            "grid_template_columns": null,
            "grid_template_rows": null,
            "height": null,
            "justify_content": null,
            "justify_items": null,
            "left": null,
            "margin": null,
            "max_height": null,
            "max_width": null,
            "min_height": null,
            "min_width": null,
            "object_fit": null,
            "object_position": null,
            "order": null,
            "overflow": null,
            "overflow_x": null,
            "overflow_y": null,
            "padding": null,
            "right": null,
            "top": null,
            "visibility": null,
            "width": null
          }
        }
      }
    }
  },
  "cells": [
    {
      "cell_type": "code",
      "execution_count": 1,
      "metadata": {
        "id": "uL3wk7pkKoRU"
      },
      "outputs": [],
      "source": [
        "import numpy as np\n",
        "import pandas as pd"
      ]
    },
    {
      "cell_type": "code",
      "source": [
        "def generate_data_with_noise(num_samples = 500, gate = \"AND\", noise_level = 0.05):\n",
        "\n",
        "    if gate == 'AND':\n",
        "      base_X = np.array([[0, 0], [0,1], [1,0], [1,1]])\n",
        "      base_y = np.array([0,0,0,1])\n",
        "    elif gate == 'OR':\n",
        "      base_X = np.array([[0,0], [0,1], [1,0], [1,1]])\n",
        "      base_y = np.array([0,1,1,1])\n",
        "    elif gate == 'XOR':\n",
        "      base_X = np.array([[0,0],[0,1], [1,0], [1,1]])\n",
        "      base_y = np.array([0,1,1,0])\n",
        "    else:\n",
        "      raise ValueError(\"Gate must be 'And', 'OR', or 'XOR' .\")\n",
        "\n",
        "    X = np.repeat(base_X, num_samples // len(base_X), axis=0)\n",
        "    y = np.repeat(base_y, num_samples // len(base_y), axis=0)\n",
        "\n",
        "    X = X + np.random.normal(0, noise_level, X.shape)\n",
        "\n",
        "    indices = np.arange(X.shape[0])\n",
        "    np.random.shuffle(indices)\n",
        "    X = X[indices]\n",
        "    y = y[indices]\n",
        "\n",
        "    return X,y\n"
      ],
      "metadata": {
        "id": "JgYaB0vFKwZ_"
      },
      "execution_count": 5,
      "outputs": []
    },
    {
      "cell_type": "code",
      "source": [
        "from typing_extensions import dataclass_transform\n",
        "from ipywidgets import interact, FloatSlider, Dropdown, Checkbox\n",
        "import plotly.express as px\n",
        "import plotly.graph_objects as go\n",
        "\n",
        "X, y = generate_data_with_noise(500, 'AND', 0.05)\n",
        "\n",
        "data_fig = go.FigureWidget()\n",
        "data_fig.add_trace(go.Scatter(x=X[y == 0,0], y=X[y == 0,1], mode='markers', marker=dict(color='red'), name ='0'))\n",
        "data_fig.add_trace(go.Scatter(x=X[y == 1, 0], y=X[y == 1,1], mode='markers', marker = dict(color='blue'), name='1'))\n",
        "data_fig.update_layout(width=800, height=500,\n",
        "                       xaxis_range=[-1, 2], yaxis_range=[-1, 2])\n",
        "\n",
        "@interact(num_samples=FloatSlider(min=100, max=1000, step=100, value=500, description='Samples'),\n",
        "          gate=Dropdown(options=['AND', 'OR', 'XOR'], value='AND', description='Gate'),\n",
        "          noise_level=FloatSlider(min=0.0, max=1.0, step=0.01, value=0.05, description='Noise Level'))\n",
        "def update_data_plot(num_samples, gate, noise_level):\n",
        "  X, y = generate_data_with_noise(num_samples,gate,noise_level)\n",
        "  with data_fig.batch_update():\n",
        "    data_fig.data[0].x = X[y == 0,0]\n",
        "    data_fig.data[0].y = X[y == 0,1]\n",
        "    data_fig.data[1].x = X[y == 1,0]\n",
        "    data_fig.data[1].y = X[y == 1,1]\n",
        "    data_fig.update_layout(title=f\"Dataset for {gate} Gate with Noise Level {noise_level}\")\n",
        "data_fig"
      ],
      "metadata": {
        "colab": {
          "base_uri": "https://localhost:8080/",
          "height": 113,
          "referenced_widgets": [
            "6834527a17684fc2989359762121f4dc",
            "9ac3da23e59e489aa479e1b491fa197a",
            "d5fabd7f37cb4c1aaec7ebee1b6bfb1d",
            "c7a9b25df89e461799370079748b8890",
            "8c4a7bc891934da7bcf4ebcb5c194d77",
            "b87d85d610a34c319b51b7127fd2e0e0",
            "8984d9d7edd241fda32e835e04b276f4",
            "61b9e3b75e6f48c282cf9c9b5d8242c5",
            "8b9cd74dfcac4058a18073de85987c89",
            "01e4d2035c8e426d87b153a0ddf74dc4",
            "88026d54c6084c2786df7fb95d8f062e",
            "5c598d21bd024c88bb56da1b22c1f1da",
            "03920cc70d0a45389e8433176a0c40eb",
            "20f2a98e106542368aacd7d98e56b154"
          ]
        },
        "id": "BV8L6Te3OwZ-",
        "outputId": "222ad530-4bde-4043-9015-46dc573a64d7"
      },
      "execution_count": 8,
      "outputs": [
        {
          "output_type": "display_data",
          "data": {
            "text/plain": [
              "interactive(children=(FloatSlider(value=500.0, description='Samples', max=1000.0, min=100.0, step=100.0), Drop…"
            ],
            "application/vnd.jupyter.widget-view+json": {
              "version_major": 2,
              "version_minor": 0,
              "model_id": "6834527a17684fc2989359762121f4dc"
            }
          },
          "metadata": {}
        },
        {
          "output_type": "execute_result",
          "data": {
            "application/vnd.jupyter.widget-view+json": {
              "version_major": 2,
              "version_minor": 0,
              "model_id": "20f2a98e106542368aacd7d98e56b154"
            },
            "text/plain": [
              "FigureWidget({\n",
              "    'data': [{'marker': {'color': 'red'},\n",
              "              'mode': 'markers',\n",
              "              'name': '0',\n",
              "              'type': 'scatter',\n",
              "              'uid': 'fe193434-d2b2-4903-90e1-64f6b1f0c9c5',\n",
              "              'x': array([ 0.94125499,  0.02058708,  0.07224032, ...,  0.01177849, -0.04748487,\n",
              "                           0.91241537]),\n",
              "              'y': array([ 0.07635378,  0.90100909, -0.00637636, ..., -0.09404346,  1.04253836,\n",
              "                           0.02078436])},\n",
              "             {'marker': {'color': 'blue'},\n",
              "              'mode': 'markers',\n",
              "              'name': '1',\n",
              "              'type': 'scatter',\n",
              "              'uid': '4838c863-d478-42ec-b002-5391afccbf80',\n",
              "              'x': array([0.8618953 , 1.04670814, 0.99062129, 1.00838136, 0.98780915, 1.06252714,\n",
              "                          0.96326927, 0.91324226, 0.92018785, 1.07529705, 0.93849982, 1.04025957,\n",
              "                          1.0111202 , 0.97532733, 0.97056954, 0.98013353, 0.99553737, 1.01232222,\n",
              "                          1.04827132, 0.97978562, 0.93857247, 1.01362042, 1.00609221, 0.96036807,\n",
              "                          1.00568378, 0.96131776, 1.02829595, 0.98852504, 1.02011083, 0.97106626,\n",
              "                          0.95799981, 0.99151868, 0.97840279, 1.00229381, 1.03710603, 0.94576657,\n",
              "                          1.07486473, 0.95727777, 1.07239148, 0.94739131, 1.03295624, 0.98289804,\n",
              "                          1.00490169, 1.0964999 , 1.07562732, 0.94966397, 1.04017759, 0.96967735,\n",
              "                          0.89318882, 1.03571828, 1.05767406, 0.93214034, 0.9701152 , 0.95708628,\n",
              "                          1.02496435, 0.96501535, 1.07285536, 1.00601155, 1.04586813, 0.94068853,\n",
              "                          0.99613578, 1.07594638, 0.97214079, 0.92670018, 0.94988951, 1.04569548,\n",
              "                          1.0085685 , 0.99616695, 0.9556187 , 1.00321995, 0.969352  , 0.99177578,\n",
              "                          0.94671711, 0.97645537, 0.85877864, 0.92544168, 0.98083191, 1.01089708,\n",
              "                          1.01777875, 1.0315837 , 1.05605916, 1.07602416, 1.01320839, 1.07055217,\n",
              "                          0.94526104, 0.9675947 , 1.0127248 , 1.07348226, 1.05750581, 1.02052448,\n",
              "                          1.04161534, 0.91675616, 0.99502941, 1.01710404, 1.03552093, 0.90204377,\n",
              "                          0.90908782, 1.00901931, 1.00452721, 1.00165307, 1.02583081, 1.0386124 ,\n",
              "                          0.97725394, 1.03034614, 1.02316556, 1.01693449, 1.04952659, 0.98198261,\n",
              "                          0.94416272, 1.03840586, 0.98018949, 1.01190606, 0.98258615, 0.97898228,\n",
              "                          1.00880931, 1.00214121, 0.96304844, 0.98210504, 0.98380525, 0.93065167,\n",
              "                          0.98122403, 0.83317468, 1.02558525, 1.04476078, 0.96750028]),\n",
              "              'y': array([0.92381979, 1.05740056, 0.98393218, 0.98014723, 0.99482938, 1.00633956,\n",
              "                          0.99651481, 0.96200905, 1.03723944, 1.08999021, 1.0900351 , 1.03137608,\n",
              "                          0.95516859, 1.03509283, 1.05382482, 1.00018192, 1.00001529, 0.92487488,\n",
              "                          0.8962314 , 1.02415992, 0.9394831 , 1.04115622, 1.0092251 , 0.95893774,\n",
              "                          1.00915552, 0.99770082, 1.000035  , 1.01431511, 0.97375838, 1.03571043,\n",
              "                          0.9959216 , 1.03654721, 0.96259539, 1.00553857, 1.10134466, 1.05953241,\n",
              "                          1.02880266, 0.96916624, 1.08107784, 0.99244157, 1.02454197, 0.94728193,\n",
              "                          0.93716204, 0.9768671 , 1.05681544, 1.00711727, 1.00234241, 1.05783865,\n",
              "                          0.97800818, 1.05334558, 1.05510782, 0.98511714, 1.02769653, 0.88064471,\n",
              "                          1.02584825, 0.97257708, 0.94931216, 0.90604601, 1.09703375, 0.98378061,\n",
              "                          1.01858053, 1.00061041, 1.07247816, 1.09074996, 1.00471558, 0.96941357,\n",
              "                          0.96660298, 0.97869931, 1.00664484, 1.00360282, 1.04839969, 0.97697832,\n",
              "                          1.16795103, 0.95154646, 1.01349189, 1.08518864, 1.00246915, 1.02384232,\n",
              "                          0.99051844, 1.04054145, 1.0359548 , 0.95924369, 0.96866048, 1.08135148,\n",
              "                          1.05221167, 0.99870612, 0.94372708, 1.02710627, 0.94641152, 1.0369765 ,\n",
              "                          1.02716452, 1.02046014, 1.0241015 , 1.00777101, 0.98294828, 1.01166049,\n",
              "                          0.99782703, 1.01098371, 0.91882298, 0.96283746, 1.01686805, 0.97941844,\n",
              "                          1.03916724, 0.99290726, 1.06491835, 1.00719322, 0.997835  , 1.0533745 ,\n",
              "                          0.97514433, 0.99420196, 0.97272857, 0.93363206, 0.96323493, 0.96471116,\n",
              "                          1.03754928, 1.0004223 , 1.07638849, 1.02328847, 0.95583502, 0.99810378,\n",
              "                          0.99892891, 1.012036  , 0.90546049, 0.97252354, 0.97371056])}],\n",
              "    'layout': {'height': 500,\n",
              "               'template': '...',\n",
              "               'title': {'text': 'Dataset for AND Gate with Noise Level 0.05'},\n",
              "               'width': 800,\n",
              "               'xaxis': {'range': [-1, 2]},\n",
              "               'yaxis': {'range': [-1, 2]}}\n",
              "})"
            ]
          },
          "metadata": {},
          "execution_count": 8
        }
      ]
    },
    {
      "cell_type": "code",
      "source": [
        "from sklearn.linear_model import LogisticRegression\n",
        "from sklearn.model_selection import train_test_split\n",
        "\n",
        "def perform_logistic_regression(X,y):\n",
        "  x_train, x_test, y_train, y_test = train_test_split(X, y, test_size=0.2, random_state=140)\n",
        "\n",
        "  model = LogisticRegression().fit(x_train, y_train)\n",
        "\n",
        "  train_error = model.score(x_train, y_train)\n",
        "  test_error = model.score(x_test, y_test)\n",
        "\n",
        "  return model, train_error, test_error"
      ],
      "metadata": {
        "id": "ao_9-VyzYlkv"
      },
      "execution_count": 9,
      "outputs": []
    },
    {
      "cell_type": "code",
      "source": [
        "def plot_decision_boundary(model, xrange, yrange, num_points=100, probs=True):\n",
        "  xx, yy = np.meshgrid(np.linspace(xrange[0], xrange[1], num_points),\n",
        "                       np.linspace(yrange[0], yrange[1], num_points))\n",
        "  grid = np.c_[xx.ravel(), yy.ravel()]\n",
        "  if probs:\n",
        "    preds = model.predict_proba(grid)[:,1].reshape(xx.shape)\n",
        "  else:\n",
        "    preds = model.predict(grid).reshape(xx.shape)\n",
        "  return go.Contour(x=xx[0], y=yy[:,0], z=preds, colorscale=[[0,'red'], [1,'blue']],\n",
        "                    opacity=0.5, showscale=False)\n"
      ],
      "metadata": {
        "id": "r58rNRt_LGX_"
      },
      "execution_count": 10,
      "outputs": []
    },
    {
      "cell_type": "code",
      "source": [
        "pred_fig = go.FigureWidget(data=data_fig.data, layout=data_fig.layout)\n",
        "\n",
        "model, train_test, test_error = perform_logistic_regression(X,y)\n",
        "boundary = plot_decision_boundary(model, [-1, 2], [-1, 2], probs=False)\n",
        "pred_fig.add_trace(boundary)\n",
        "\n",
        "@interact(num_samples=FloatSlider(min=100, max=1000, step=100, value=500, description='Samples'),\n",
        "          gate=Dropdown(options=['AND', 'OR', 'XOR'], value='AND', description='Gate'),\n",
        "          noise_level=FloatSlider(min=0.0, max=1.0, step=0.01, value=0.05, description='Noise Level'),\n",
        "          show_probs=Checkbox(value=False, description='Show Probabilities'))\n",
        "def update_pred_fig(num_samples, gate, noise_level, show_probs):\n",
        "  np.random.seed(42)\n",
        "  X, y = generate_data_with_noise(num_samples, gate, noise_level)\n",
        "  model, train_error, test_error = perform_logistic_regression(X, y)\n",
        "  with pred_fig.batch_update():\n",
        "    pred_fig.data[0].x = X[y == 0,0]\n",
        "    pred_fig.data[0].y = X[y == 0,1]\n",
        "    pred_fig.data[1].x = X[y == 1,0]\n",
        "    pred_fig.data[1].y = X[y == 1,1]\n",
        "    pred_fig.data[2].z = plot_decision_boundary(model, [-1, 2], [-1, 2], probs=show_probs).z\n",
        "    pred_fig.update_layout(title=f\"Predictions for {gate} Gate with Noise Level {noise_level} (Train: {train_error:.2f}, Test: {test_error:.2f})\")\n",
        "\n",
        "pred_fig"
      ],
      "metadata": {
        "colab": {
          "base_uri": "https://localhost:8080/",
          "height": 145,
          "referenced_widgets": [
            "62f845dbac004b9c9acc4f285f9c90b9",
            "1824fbe976914c95bfd57e9a7526c57e",
            "edabbb4fc75e48eead4643ccf19ef0b0",
            "a9bd43c5a1f14d44b010f85698810909",
            "2e74f263da0246d79d5e7a4606e39116",
            "c9b47e3342a341fb884b22059fc9c3b8",
            "7ff29b07c33c4684ad09a7513d821331",
            "75db87574809401095d4df5184b7405f",
            "51016b68491f4c4794a687f713a86c2d",
            "187831c161344a21ae0f5c3b6615efcb",
            "f5a3439e694e4af7a7feefa379d12141",
            "8873df13c8604064849d4389f9fec173",
            "3510631face8412ba8f538066905ecc1",
            "83ba1d0459d54d209c2845d587f3fade",
            "f6b7e69a0043491aa96bb23ebdcce429",
            "69fe6bf82af64cc4b28fa71d8b80cf2b",
            "5bb6a9376d6a49d8855046497c332793"
          ]
        },
        "id": "jLY2P-N9NIKN",
        "outputId": "5907b4d4-c028-4aa9-c77a-73d14475a680"
      },
      "execution_count": 12,
      "outputs": [
        {
          "output_type": "display_data",
          "data": {
            "text/plain": [
              "interactive(children=(FloatSlider(value=500.0, description='Samples', max=1000.0, min=100.0, step=100.0), Drop…"
            ],
            "application/vnd.jupyter.widget-view+json": {
              "version_major": 2,
              "version_minor": 0,
              "model_id": "62f845dbac004b9c9acc4f285f9c90b9"
            }
          },
          "metadata": {}
        },
        {
          "output_type": "execute_result",
          "data": {
            "application/vnd.jupyter.widget-view+json": {
              "version_major": 2,
              "version_minor": 0,
              "model_id": "5bb6a9376d6a49d8855046497c332793"
            },
            "text/plain": [
              "FigureWidget({\n",
              "    'data': [{'marker': {'color': 'red'},\n",
              "              'mode': 'markers',\n",
              "              'name': '0',\n",
              "              'type': 'scatter',\n",
              "              'uid': 'ad2a7be8-c7a0-48a6-a856-ea32f8b06b88',\n",
              "              'x': array([ 0.97386385, -0.03232864, -0.03008533, ...,  0.98181939,  0.91106399,\n",
              "                           0.96942411]),\n",
              "              'y': array([ 0.05245046,  0.9459226 ,  0.09261391, ..., -0.00284728,  0.07480222,\n",
              "                          -0.07033305])},\n",
              "             {'marker': {'color': 'blue'},\n",
              "              'mode': 'markers',\n",
              "              'name': '1',\n",
              "              'type': 'scatter',\n",
              "              'uid': 'd60a6121-b1bc-4bcc-b917-f0b2bd3c8fd3',\n",
              "              'x': array([0.96364314, 0.97224002, 0.94893836, 1.0246659 , 0.97411944, 1.03409457,\n",
              "                          1.02798952, 0.93598478, 0.97767832, 1.01445843, 0.99065642, 1.00141592,\n",
              "                          1.01335251, 1.00955495, 1.04691419, 1.07737526, 0.96936057, 0.96865165,\n",
              "                          0.9916441 , 1.05333373, 1.05975233, 1.01429327, 0.97899066, 0.95383834,\n",
              "                          1.07752502, 1.07234889, 0.97827519, 1.05368159, 0.968113  , 1.0782762 ,\n",
              "                          0.97413558, 0.97769083, 0.97238885, 1.08988433, 0.99115264, 1.03251006,\n",
              "                          0.99826576, 0.96618038, 1.02919641, 1.02200072, 0.99825058, 1.00143724,\n",
              "                          0.97552803, 1.02953274, 1.03213614, 0.99834365, 0.97121811, 0.9275993 ,\n",
              "                          0.99981987, 1.01014615, 0.97144105, 0.94594717, 1.00664848, 1.03929001,\n",
              "                          1.01713627, 0.99917886, 1.0353876 , 0.95708211, 1.02148091, 1.07897861,\n",
              "                          0.99802224, 1.03292721, 1.04102411, 1.03162039, 0.97772487, 0.93103404,\n",
              "                          0.97738468, 1.05159223, 1.06910795, 1.04169611, 0.95120634, 1.02848836,\n",
              "                          1.04203218, 0.98895179, 0.93200719, 0.96813064, 0.9438639 , 1.12634662,\n",
              "                          0.95253006, 1.06278781, 0.98764113, 0.92372374, 1.04921612, 0.95838222,\n",
              "                          1.00640522, 0.99551322, 1.00982606, 0.94979296, 0.99752681, 1.07516992,\n",
              "                          0.99649171, 0.99523522, 1.01219004, 0.9977207 , 0.9879382 , 0.9979921 ,\n",
              "                          0.97205391, 1.01246918, 1.03227421, 0.96884297, 1.00832261, 0.92080486,\n",
              "                          1.12800423, 1.01110669, 0.949919  , 1.00888505, 1.06032545, 1.11494491,\n",
              "                          1.00480604, 1.01900989, 1.01357894, 0.98461109, 1.09233185, 1.0041142 ,\n",
              "                          0.95165119, 1.0310905 , 0.93742303, 1.01041914, 1.05746367, 0.99589244,\n",
              "                          0.93277747, 0.99627833, 1.01843367, 1.03039483, 1.07102521]),\n",
              "              'y': array([0.98762407, 1.09405785, 1.03541782, 1.00924181, 1.0111894 , 1.09233537,\n",
              "                          1.05403904, 1.04362287, 1.0097045 , 1.12276501, 0.97801345, 1.00148781,\n",
              "                          1.04448154, 1.00232183, 0.97419776, 1.08979388, 0.98061492, 1.09062243,\n",
              "                          1.00733568, 1.05846478, 0.92384065, 1.01672284, 0.98591077, 0.93241577,\n",
              "                          0.9500823 , 1.00982774, 0.98454139, 0.94867424, 0.97345015, 0.99671249,\n",
              "                          1.07046737, 0.90552296, 1.03164659, 1.03204214, 0.96008514, 0.99504121,\n",
              "                          1.01171074, 1.09004702, 0.9820354 , 0.97489729, 1.08854003, 1.06392259,\n",
              "                          1.05220804, 1.05543518, 1.06645763, 1.08972789, 1.00610049, 0.8900597 ,\n",
              "                          0.94208177, 0.92421279, 1.02862914, 1.05265764, 0.96499396, 1.02127288,\n",
              "                          1.02283766, 1.05941966, 0.97187666, 1.03501549, 1.01038438, 0.973857  ,\n",
              "                          1.03407503, 1.10051023, 1.0253637 , 1.04862772, 1.07266922, 0.9634535 ,\n",
              "                          0.87880603, 0.92572198, 1.03243549, 1.022959  , 1.05268209, 1.02238543,\n",
              "                          0.9673688 , 1.00134429, 1.03731268, 1.05945083, 1.01912049, 0.97345656,\n",
              "                          1.1316191 , 0.95526963, 0.96590079, 0.9654046 , 0.98930056, 1.02357078,\n",
              "                          0.96594742, 1.07200586, 1.03545019, 0.96161012, 1.03374097, 1.04386811,\n",
              "                          0.91695195, 1.01395108, 0.97179607, 1.01216697, 1.01760277, 0.92846124,\n",
              "                          1.01886059, 1.07887266, 1.10816274, 0.97222614, 1.02462256, 1.03802073,\n",
              "                          0.99519701, 0.97606257, 0.98594499, 0.93323278, 0.95915322, 0.98185807,\n",
              "                          0.97688624, 1.03052929, 0.93616257, 1.01095752, 0.94649576, 1.05327402,\n",
              "                          0.99761443, 0.92148876, 1.07218823, 0.89791326, 0.96484118, 1.05586479,\n",
              "                          0.9540674 , 1.0310336 , 0.98033306, 1.00933046, 0.97146269])},\n",
              "             {'colorscale': [[0, 'red'], [1, 'blue']],\n",
              "              'opacity': 0.5,\n",
              "              'showscale': False,\n",
              "              'type': 'contour',\n",
              "              'uid': '204a8c02-9226-475c-91ad-0ee108513736',\n",
              "              'x': array([-1.        , -0.96969697, -0.93939394, -0.90909091, -0.87878788,\n",
              "                          -0.84848485, -0.81818182, -0.78787879, -0.75757576, -0.72727273,\n",
              "                          -0.6969697 , -0.66666667, -0.63636364, -0.60606061, -0.57575758,\n",
              "                          -0.54545455, -0.51515152, -0.48484848, -0.45454545, -0.42424242,\n",
              "                          -0.39393939, -0.36363636, -0.33333333, -0.3030303 , -0.27272727,\n",
              "                          -0.24242424, -0.21212121, -0.18181818, -0.15151515, -0.12121212,\n",
              "                          -0.09090909, -0.06060606, -0.03030303,  0.        ,  0.03030303,\n",
              "                           0.06060606,  0.09090909,  0.12121212,  0.15151515,  0.18181818,\n",
              "                           0.21212121,  0.24242424,  0.27272727,  0.3030303 ,  0.33333333,\n",
              "                           0.36363636,  0.39393939,  0.42424242,  0.45454545,  0.48484848,\n",
              "                           0.51515152,  0.54545455,  0.57575758,  0.60606061,  0.63636364,\n",
              "                           0.66666667,  0.6969697 ,  0.72727273,  0.75757576,  0.78787879,\n",
              "                           0.81818182,  0.84848485,  0.87878788,  0.90909091,  0.93939394,\n",
              "                           0.96969697,  1.        ,  1.03030303,  1.06060606,  1.09090909,\n",
              "                           1.12121212,  1.15151515,  1.18181818,  1.21212121,  1.24242424,\n",
              "                           1.27272727,  1.3030303 ,  1.33333333,  1.36363636,  1.39393939,\n",
              "                           1.42424242,  1.45454545,  1.48484848,  1.51515152,  1.54545455,\n",
              "                           1.57575758,  1.60606061,  1.63636364,  1.66666667,  1.6969697 ,\n",
              "                           1.72727273,  1.75757576,  1.78787879,  1.81818182,  1.84848485,\n",
              "                           1.87878788,  1.90909091,  1.93939394,  1.96969697,  2.        ]),\n",
              "              'y': array([-1.        , -0.96969697, -0.93939394, -0.90909091, -0.87878788,\n",
              "                          -0.84848485, -0.81818182, -0.78787879, -0.75757576, -0.72727273,\n",
              "                          -0.6969697 , -0.66666667, -0.63636364, -0.60606061, -0.57575758,\n",
              "                          -0.54545455, -0.51515152, -0.48484848, -0.45454545, -0.42424242,\n",
              "                          -0.39393939, -0.36363636, -0.33333333, -0.3030303 , -0.27272727,\n",
              "                          -0.24242424, -0.21212121, -0.18181818, -0.15151515, -0.12121212,\n",
              "                          -0.09090909, -0.06060606, -0.03030303,  0.        ,  0.03030303,\n",
              "                           0.06060606,  0.09090909,  0.12121212,  0.15151515,  0.18181818,\n",
              "                           0.21212121,  0.24242424,  0.27272727,  0.3030303 ,  0.33333333,\n",
              "                           0.36363636,  0.39393939,  0.42424242,  0.45454545,  0.48484848,\n",
              "                           0.51515152,  0.54545455,  0.57575758,  0.60606061,  0.63636364,\n",
              "                           0.66666667,  0.6969697 ,  0.72727273,  0.75757576,  0.78787879,\n",
              "                           0.81818182,  0.84848485,  0.87878788,  0.90909091,  0.93939394,\n",
              "                           0.96969697,  1.        ,  1.03030303,  1.06060606,  1.09090909,\n",
              "                           1.12121212,  1.15151515,  1.18181818,  1.21212121,  1.24242424,\n",
              "                           1.27272727,  1.3030303 ,  1.33333333,  1.36363636,  1.39393939,\n",
              "                           1.42424242,  1.45454545,  1.48484848,  1.51515152,  1.54545455,\n",
              "                           1.57575758,  1.60606061,  1.63636364,  1.66666667,  1.6969697 ,\n",
              "                           1.72727273,  1.75757576,  1.78787879,  1.81818182,  1.84848485,\n",
              "                           1.87878788,  1.90909091,  1.93939394,  1.96969697,  2.        ]),\n",
              "              'z': array([[0, 0, 0, ..., 0, 0, 0],\n",
              "                          [0, 0, 0, ..., 0, 0, 0],\n",
              "                          [0, 0, 0, ..., 0, 0, 0],\n",
              "                          ...,\n",
              "                          [0, 0, 0, ..., 1, 1, 1],\n",
              "                          [0, 0, 0, ..., 1, 1, 1],\n",
              "                          [0, 0, 0, ..., 1, 1, 1]])}],\n",
              "    'layout': {'height': 500,\n",
              "               'template': '...',\n",
              "               'title': {'text': 'Predictions for AND Gate with Noise Level 0.05 (Train: 1.00, Test: 1.00)'},\n",
              "               'width': 800,\n",
              "               'xaxis': {'range': [-1, 2]},\n",
              "               'yaxis': {'range': [-1, 2]}}\n",
              "})"
            ]
          },
          "metadata": {},
          "execution_count": 12
        }
      ]
    },
    {
      "cell_type": "code",
      "source": [
        "import torch\n",
        "import torch.nn as nn\n",
        "import torch.optim as optim"
      ],
      "metadata": {
        "id": "HTFfwrHDSgEA"
      },
      "execution_count": 13,
      "outputs": []
    },
    {
      "cell_type": "code",
      "source": [
        "def make_tensors(X,y):\n",
        "  from torch.utils.data import random_split, TensorDataset\n",
        "  data = TensorDataset(torch.tensor(X, dtype=torch.float32),\n",
        "                       torch.tensor(y, dtype=torch.float32).unsqueeze(1))\n",
        "  torch.manual_seed(140)\n",
        "  train_data, test_data = random_split(data, [0.8,0.2])\n",
        "  return train_data, test_data"
      ],
      "metadata": {
        "id": "fcwaUNe_XP3x"
      },
      "execution_count": 14,
      "outputs": []
    },
    {
      "cell_type": "code",
      "source": [
        "class LogisticRegressionModelA(nn.Module):\n",
        "  def __init__(self, input_size):\n",
        "    super().__init__()\n",
        "    self.intercept = nn.Parameter(torch.tensor(1.0))\n",
        "    self.w = nn.Parameter(torch.ones(input_size, 1))\n",
        "\n",
        "  def forward(self, x):\n",
        "    intercept = self.intercept\n",
        "    w = self.w\n",
        "    z = intercept + torch.matmul(x, w)\n",
        "    return torch.sigmoid(z)"
      ],
      "metadata": {
        "id": "1eOlaBhtYY-3"
      },
      "execution_count": 21,
      "outputs": []
    },
    {
      "cell_type": "code",
      "source": [
        "class LogisticRegressionModelB(nn.Module):\n",
        "  def __init__(self, input_size):\n",
        "    super().__init__()\n",
        "    self.linear = nn.Linear(input_size, 1)\n",
        "\n",
        "  def forward(self, x):\n",
        "    return torch.sigmoid(self.linear(x))"
      ],
      "metadata": {
        "id": "k6hKy4ywZhpQ"
      },
      "execution_count": 16,
      "outputs": []
    },
    {
      "cell_type": "code",
      "source": [
        "model = LogisticRegressionModelB(2)"
      ],
      "metadata": {
        "id": "akak5fxJaBy6"
      },
      "execution_count": 17,
      "outputs": []
    },
    {
      "cell_type": "code",
      "source": [
        "loss_fn = nn.BCELoss()"
      ],
      "metadata": {
        "id": "9W2K0IMdaEus"
      },
      "execution_count": 18,
      "outputs": []
    },
    {
      "cell_type": "code",
      "source": [
        "def perform_logistic_regression_pytorch(train_dataset,\n",
        "                                        test_dataset,\n",
        "                                        model, loss_fn,\n",
        "                                        batch_size=64,\n",
        "                                        nepochs=20):\n",
        "\n",
        "  from torch.utils.data import DataLoader\n",
        "\n",
        "  train_loader = DataLoader(train_dataset, batch_size=batch_size, shuffle=True)\n",
        "  test_loader = DataLoader(test_dataset, batch_size=batch_size, shuffle=False)\n",
        "\n",
        "  optimizer = optim.SGD(model.parameters(), lr=0.5)\n",
        "\n",
        "  for epoch in range(nepochs):\n",
        "    for batch, (X, y) in enumerate(train_loader):\n",
        "      optimizer.zero_grad()\n",
        "      pred = model(X)\n",
        "      loss = loss_fn(pred, y)\n",
        "      loss.backward()\n",
        "      optimizer.step()\n",
        "\n",
        "    with torch.no_grad():\n",
        "      test_loss_sum = 0.0\n",
        "      for X_test, y_test in test_loader:\n",
        "        test_pred = model(X_test)\n",
        "        test_loss = loss_fn(test_pred, y_test)\n",
        "        test_loss_sum += test_loss.item()\n",
        "      num_test_batches = len(test_loader)\n",
        "      print(f\"Epoch {epoch}, Loss: {loss.item()}, Test Loss: {test_loss_sum/num_test_batches}\")"
      ],
      "metadata": {
        "id": "wnVGLkxPaKim"
      },
      "execution_count": 23,
      "outputs": []
    },
    {
      "cell_type": "code",
      "source": [
        "train_dataset, test_dataset = make_tensors(X, y)\n",
        "model = LogisticRegressionModelA(2)\n",
        "perform_logistic_regression_pytorch(train_dataset, test_dataset, model, loss_fn)"
      ],
      "metadata": {
        "colab": {
          "base_uri": "https://localhost:8080/"
        },
        "id": "oSTZ47u1d5aB",
        "outputId": "a2d8786e-d21d-49b6-8e31-bec79390ddc0"
      },
      "execution_count": 24,
      "outputs": [
        {
          "output_type": "stream",
          "name": "stdout",
          "text": [
            "Epoch 0, Loss: 0.5961155295372009, Test Loss: 0.5737093985080719\n",
            "Epoch 1, Loss: 0.4994142949581146, Test Loss: 0.4806044101715088\n",
            "Epoch 2, Loss: 0.32435765862464905, Test Loss: 0.4411657005548477\n",
            "Epoch 3, Loss: 0.3053455054759979, Test Loss: 0.4076780080795288\n",
            "Epoch 4, Loss: 0.35575464367866516, Test Loss: 0.3830236494541168\n",
            "Epoch 5, Loss: 0.306686669588089, Test Loss: 0.3565913587808609\n",
            "Epoch 6, Loss: 0.3297501504421234, Test Loss: 0.33291158080101013\n",
            "Epoch 7, Loss: 0.25527986884117126, Test Loss: 0.31530721485614777\n",
            "Epoch 8, Loss: 0.29264402389526367, Test Loss: 0.3004146069288254\n",
            "Epoch 9, Loss: 0.32083186507225037, Test Loss: 0.28473563492298126\n",
            "Epoch 10, Loss: 0.22501149773597717, Test Loss: 0.27071061730384827\n",
            "Epoch 11, Loss: 0.2106669843196869, Test Loss: 0.261477455496788\n",
            "Epoch 12, Loss: 0.2554934024810791, Test Loss: 0.24979925155639648\n",
            "Epoch 13, Loss: 0.27667832374572754, Test Loss: 0.23814814537763596\n",
            "Epoch 14, Loss: 0.2517881691455841, Test Loss: 0.22931134700775146\n",
            "Epoch 15, Loss: 0.22625267505645752, Test Loss: 0.22158709913492203\n",
            "Epoch 16, Loss: 0.25494974851608276, Test Loss: 0.21373027563095093\n",
            "Epoch 17, Loss: 0.1837545931339264, Test Loss: 0.20685609430074692\n",
            "Epoch 18, Loss: 0.2882688343524933, Test Loss: 0.19936708360910416\n",
            "Epoch 19, Loss: 0.21487608551979065, Test Loss: 0.19318657368421555\n"
          ]
        }
      ]
    },
    {
      "cell_type": "code",
      "source": [
        "def plot_decision_boundary_pytorch(model, xrange, yrange, num_points=100, probs=True):\n",
        "  xx, yy = torch.meshgrid(torch.linspace(xrange[0], xrange[1], num_points),\n",
        "                          torch.linspace(yrange[0], yrange[1], num_points),\n",
        "                          indexing='ij')\n",
        "  grid = torch.cat([xx.reshape(-1,1), yy.reshape(-1,1)], dim=1)\n",
        "  with torch.no_grad():\n",
        "    if probs:\n",
        "      preds = model(grid).reshape(xx.shape)\n",
        "    else:\n",
        "      preds = (model(grid) > 0.5).float().reshape(xx.shape)\n",
        "  return go.Contour(x=xx[:,0], y=yy[0], z=preds, colorscale=[[0,'red'], [1, 'blue']],\n",
        "                    opacity=0.5, showscale=False)\n"
      ],
      "metadata": {
        "id": "6EukKNkneJHQ"
      },
      "execution_count": 25,
      "outputs": []
    },
    {
      "cell_type": "code",
      "source": [
        "pred_fig = go.FigureWidget(data=data_fig.data, layout=data_fig.layout)\n",
        "model_type = LogisticRegressionModelA\n",
        "\n",
        "train_dataset, test_dataset = make_tensors(X,y)\n",
        "model = model_type(2)\n",
        "perform_logistic_regression_pytorch(train_dataset, test_dataset, model, loss_fn)\n",
        "boundary = plot_decision_boundary_pytorch(model, [-1,2], [-1,2], probs=False)\n",
        "pred_fig.add_trace(boundary)\n",
        "\n",
        "display(pred_fig)\n",
        "\n",
        "@interact(num_samples=FloatSlider(min=100,max=1000,step=100,value=500, description='Samples'),\n",
        "          gate=Dropdown(options=['AND', 'OR', 'XOR'], value='AND', description='Gate'),\n",
        "          noise_level=FloatSlider(min=0.0, max=1.0, step=0.01, value=0.05, description='Noise Level'),\n",
        "          show_probs=Checkbox(value=False, description='Show Probabilities'))\n",
        "\n",
        "def update_pred_fig(num_samples, gate, noise_level, show_probs):\n",
        "  np.random.seed(42)\n",
        "  X, y = generate_data_with_noise(num_samples, gate, noise_level)\n",
        "  train_dataset, test_dataset = make_tensors(X, y)\n",
        "  model = model_type(2)\n",
        "  perform_logistic_regression_pytorch(train_dataset, test_dataset, model, loss_fn)\n",
        "  boundary = plot_decision_boundary_pytorch(model, [-1, 2], [-1, 2], probs=show_probs)\n",
        "  with pred_fig.batch_update():\n",
        "    pred_fig.data[0].x = X[y == 0,0]\n",
        "    pred_fig.data[0].y = X[y == 0,1]\n",
        "    pred_fig.data[1].x = X[y == 1,0]\n",
        "    pred_fig.data[1].y = X[y == 1,1]\n",
        "    pred_fig.data[2].z = boundary.z"
      ],
      "metadata": {
        "colab": {
          "base_uri": "https://localhost:8080/",
          "height": 859,
          "referenced_widgets": [
            "3dab048b19da4071b6f471b8f36b06bf",
            "55f360e81c904365a386fc884234cf70",
            "af62e7c7bf034fcabff4aa4eec5afbc4",
            "196df3543b86432f8b9443c2027ea209",
            "3feb119790ff41deabda3ba02147783d",
            "a872c12939a34f96bf3bd3c331d9b80c",
            "5369b7656c304201a48546e3b01528f0",
            "23865ede9c0f445e8abaedf992ff37c2",
            "436d132f95234804b38ab7590f107ed4",
            "691cc4580db54d3cb9bb0b592e5e80f0",
            "356e7750530d4bba9bfa03c8814106fb",
            "d9772ca138f248ab81cccbd8d3196208",
            "b220944fbed3445d882ac3efb2da3a13",
            "079ff6cf91f04a868b92411652c71517",
            "8dd257c38a764df2a8203dc845e16fdf",
            "8d770aceca5d4641bf3c46352a472d6e",
            "95cacd1179594a24938e11c0e8e73e36"
          ]
        },
        "id": "PV9J04NPh4_g",
        "outputId": "2e221588-c40d-407e-8146-eaa208b2435f"
      },
      "execution_count": 27,
      "outputs": [
        {
          "output_type": "stream",
          "name": "stdout",
          "text": [
            "Epoch 0, Loss: 0.5961155295372009, Test Loss: 0.5737093985080719\n",
            "Epoch 1, Loss: 0.4994142949581146, Test Loss: 0.4806044101715088\n",
            "Epoch 2, Loss: 0.32435765862464905, Test Loss: 0.4411657005548477\n",
            "Epoch 3, Loss: 0.3053455054759979, Test Loss: 0.4076780080795288\n",
            "Epoch 4, Loss: 0.35575464367866516, Test Loss: 0.3830236494541168\n",
            "Epoch 5, Loss: 0.306686669588089, Test Loss: 0.3565913587808609\n",
            "Epoch 6, Loss: 0.3297501504421234, Test Loss: 0.33291158080101013\n",
            "Epoch 7, Loss: 0.25527986884117126, Test Loss: 0.31530721485614777\n",
            "Epoch 8, Loss: 0.29264402389526367, Test Loss: 0.3004146069288254\n",
            "Epoch 9, Loss: 0.32083186507225037, Test Loss: 0.28473563492298126\n",
            "Epoch 10, Loss: 0.22501149773597717, Test Loss: 0.27071061730384827\n",
            "Epoch 11, Loss: 0.2106669843196869, Test Loss: 0.261477455496788\n",
            "Epoch 12, Loss: 0.2554934024810791, Test Loss: 0.24979925155639648\n",
            "Epoch 13, Loss: 0.27667832374572754, Test Loss: 0.23814814537763596\n",
            "Epoch 14, Loss: 0.2517881691455841, Test Loss: 0.22931134700775146\n",
            "Epoch 15, Loss: 0.22625267505645752, Test Loss: 0.22158709913492203\n",
            "Epoch 16, Loss: 0.25494974851608276, Test Loss: 0.21373027563095093\n",
            "Epoch 17, Loss: 0.1837545931339264, Test Loss: 0.20685609430074692\n",
            "Epoch 18, Loss: 0.2882688343524933, Test Loss: 0.19936708360910416\n",
            "Epoch 19, Loss: 0.21487608551979065, Test Loss: 0.19318657368421555\n"
          ]
        },
        {
          "output_type": "display_data",
          "data": {
            "application/vnd.jupyter.widget-view+json": {
              "version_major": 2,
              "version_minor": 0,
              "model_id": "3dab048b19da4071b6f471b8f36b06bf"
            },
            "text/plain": [
              "FigureWidget({\n",
              "    'data': [{'marker': {'color': 'red'},\n",
              "              'mode': 'markers',\n",
              "              'name': '0',\n",
              "              'type': 'scatter',\n",
              "              'uid': 'cf075fd1-80a8-41a7-a0fa-a903c41b0a47',\n",
              "              'x': array([-0.14141304,  0.45258771, -0.07709595, -0.57317836, -0.65310265,\n",
              "                          -0.56173555, -0.15065865,  0.42664052,  0.74836273,  0.16517107,\n",
              "                           0.36954586, -0.68867428, -1.11322198,  0.44202095,  0.22942262,\n",
              "                          -0.1249467 ,  0.78798655, -0.04252901,  0.25843461, -0.40027174,\n",
              "                          -0.61192152, -0.06450327, -0.1835859 ,  0.51320087, -0.39085904,\n",
              "                           0.2844211 ,  0.00173133, -1.04830258,  0.01496851, -0.07670513,\n",
              "                           0.66649399,  0.39678092,  0.54465069,  0.02907248,  0.68910639,\n",
              "                           0.09698482,  0.57041695, -0.31737919,  0.06560465, -0.3877403 ,\n",
              "                           0.46195671, -0.4767655 , -0.2792032 , -0.34070193, -0.28893152,\n",
              "                          -0.60058289,  0.57809421, -0.25989081, -0.09763736, -0.32534544,\n",
              "                          -1.02153267, -0.36233541,  0.36272759,  1.07839519, -0.21777957,\n",
              "                           0.07508084, -0.12995156, -1.06863918, -0.91207409, -0.27248908,\n",
              "                          -0.20853502,  0.36462147,  0.55683583,  0.24683022,  0.46245021,\n",
              "                          -0.09245802,  0.40137393,  0.84630064, -0.43186633,  0.12485948,\n",
              "                          -0.16054523,  0.08457776,  0.92686292,  0.11714042, -0.1375497 ,\n",
              "                           0.96168949, -0.95157483,  0.19412027,  0.01490169, -0.17993824,\n",
              "                           0.06534887, -0.50076356, -0.50399859,  0.35000994, -0.36628497,\n",
              "                          -0.9940911 , -0.04605472,  0.49150344,  1.22098698,  0.19294379,\n",
              "                           0.06371278, -0.3295464 , -0.07006331,  0.23804382, -0.07284606,\n",
              "                          -0.34757707,  0.0484731 , -0.80342545,  0.27167157, -0.93556049]),\n",
              "              'y': array([ 0.30833102,  0.03498433, -1.27991854, -0.21747578, -0.31429693,\n",
              "                          -0.33992095, -0.4202948 , -0.11526369, -0.18634468, -0.4820191 ,\n",
              "                          -0.07953246,  0.51300884,  0.59318077,  0.3877798 ,  0.11891659,\n",
              "                          -0.53045051,  0.06722993, -0.24694955, -0.62584777, -0.2049359 ,\n",
              "                          -0.0319309 ,  0.13698186, -0.30780612, -0.554422  , -0.41110531,\n",
              "                           0.30036325, -0.85991844, -0.04995229,  0.16438204, -0.63676043,\n",
              "                          -0.20005632, -0.48011538,  0.09687909,  0.14984495,  0.46534135,\n",
              "                           0.29597356,  0.53268697,  0.29815867,  0.20665382,  0.21052691,\n",
              "                          -0.39379266, -0.11490829, -0.82958619, -0.22919939,  0.28833534,\n",
              "                           0.84119967, -0.51983464, -0.43590603,  0.83508317, -0.83946166,\n",
              "                          -0.12419849,  0.04115131, -0.51423411, -0.08992417,  0.1400363 ,\n",
              "                          -0.01719652,  0.47513962,  0.01985104, -0.03240113,  0.06413464,\n",
              "                           0.70437064,  0.52967463,  0.18862859, -0.39001909, -0.28215536,\n",
              "                           0.31927766,  0.40761468,  0.33868169, -0.17242642,  0.20394625,\n",
              "                          -0.55642448, -0.39004958,  0.8259743 , -0.15303117, -0.50507804,\n",
              "                           0.10656974,  0.13124273, -0.62606205, -0.24995392, -0.12437411,\n",
              "                           1.08665124, -0.32586646, -0.07943548, -0.66356195,  0.26147548,\n",
              "                           0.21336726,  0.21152377, -0.15480904, -0.70146088, -0.23014401,\n",
              "                           0.11702865, -1.02251137, -0.24465415, -0.23446876,  0.74635678,\n",
              "                           0.09883199,  0.63484675, -0.44124702, -0.46342754, -0.25594434])},\n",
              "             {'marker': {'color': 'blue'},\n",
              "              'mode': 'markers',\n",
              "              'name': '1',\n",
              "              'type': 'scatter',\n",
              "              'uid': 'd9213c2b-6b71-4e33-9d4b-f6854c6db8c2',\n",
              "              'x': array([ 1.21449318,  1.79412732,  0.28698823, ...,  0.60764946, -0.64312085,\n",
              "                           0.53626676]),\n",
              "              'y': array([-0.05962165,  1.576574  ,  0.3544463 , ...,  0.59457262,  0.595111  ,\n",
              "                           1.10914328])},\n",
              "             {'colorscale': [[0, 'red'], [1, 'blue']],\n",
              "              'opacity': 0.5,\n",
              "              'showscale': False,\n",
              "              'type': 'contour',\n",
              "              'uid': '281a320c-5f68-44d2-820d-413bc58d84c3',\n",
              "              'x': array([-1.00000000e+00, -9.69696999e-01, -9.39393938e-01, -9.09090877e-01,\n",
              "                          -8.78787875e-01, -8.48484874e-01, -8.18181813e-01, -7.87878752e-01,\n",
              "                          -7.57575750e-01, -7.27272749e-01, -6.96969688e-01, -6.66666627e-01,\n",
              "                          -6.36363626e-01, -6.06060624e-01, -5.75757563e-01, -5.45454502e-01,\n",
              "                          -5.15151501e-01, -4.84848469e-01, -4.54545438e-01, -4.24242407e-01,\n",
              "                          -3.93939376e-01, -3.63636345e-01, -3.33333313e-01, -3.03030282e-01,\n",
              "                          -2.72727251e-01, -2.42424220e-01, -2.12121189e-01, -1.81818157e-01,\n",
              "                          -1.51515126e-01, -1.21212095e-01, -9.09090638e-02, -6.06060326e-02,\n",
              "                          -3.03030014e-02,  2.98023224e-08,  3.03030610e-02,  6.06060922e-02,\n",
              "                           9.09091234e-02,  1.21212155e-01,  1.51515186e-01,  1.81818217e-01,\n",
              "                           2.12121248e-01,  2.42424279e-01,  2.72727311e-01,  3.03030342e-01,\n",
              "                           3.33333373e-01,  3.63636404e-01,  3.93939435e-01,  4.24242467e-01,\n",
              "                           4.54545498e-01,  4.84848529e-01,  5.15151501e-01,  5.45454502e-01,\n",
              "                           5.75757504e-01,  6.06060565e-01,  6.36363626e-01,  6.66666627e-01,\n",
              "                           6.96969628e-01,  7.27272689e-01,  7.57575750e-01,  7.87878752e-01,\n",
              "                           8.18181753e-01,  8.48484814e-01,  8.78787875e-01,  9.09090877e-01,\n",
              "                           9.39393878e-01,  9.69696939e-01,  1.00000000e+00,  1.03030300e+00,\n",
              "                           1.06060600e+00,  1.09090900e+00,  1.12121212e+00,  1.15151513e+00,\n",
              "                           1.18181813e+00,  1.21212125e+00,  1.24242425e+00,  1.27272725e+00,\n",
              "                           1.30303025e+00,  1.33333325e+00,  1.36363637e+00,  1.39393938e+00,\n",
              "                           1.42424238e+00,  1.45454550e+00,  1.48484850e+00,  1.51515150e+00,\n",
              "                           1.54545450e+00,  1.57575750e+00,  1.60606062e+00,  1.63636363e+00,\n",
              "                           1.66666663e+00,  1.69696975e+00,  1.72727275e+00,  1.75757575e+00,\n",
              "                           1.78787875e+00,  1.81818175e+00,  1.84848487e+00,  1.87878788e+00,\n",
              "                           1.90909088e+00,  1.93939400e+00,  1.96969700e+00,  2.00000000e+00],\n",
              "                         dtype=float32),\n",
              "              'y': array([-1.00000000e+00, -9.69696999e-01, -9.39393938e-01, -9.09090877e-01,\n",
              "                          -8.78787875e-01, -8.48484874e-01, -8.18181813e-01, -7.87878752e-01,\n",
              "                          -7.57575750e-01, -7.27272749e-01, -6.96969688e-01, -6.66666627e-01,\n",
              "                          -6.36363626e-01, -6.06060624e-01, -5.75757563e-01, -5.45454502e-01,\n",
              "                          -5.15151501e-01, -4.84848469e-01, -4.54545438e-01, -4.24242407e-01,\n",
              "                          -3.93939376e-01, -3.63636345e-01, -3.33333313e-01, -3.03030282e-01,\n",
              "                          -2.72727251e-01, -2.42424220e-01, -2.12121189e-01, -1.81818157e-01,\n",
              "                          -1.51515126e-01, -1.21212095e-01, -9.09090638e-02, -6.06060326e-02,\n",
              "                          -3.03030014e-02,  2.98023224e-08,  3.03030610e-02,  6.06060922e-02,\n",
              "                           9.09091234e-02,  1.21212155e-01,  1.51515186e-01,  1.81818217e-01,\n",
              "                           2.12121248e-01,  2.42424279e-01,  2.72727311e-01,  3.03030342e-01,\n",
              "                           3.33333373e-01,  3.63636404e-01,  3.93939435e-01,  4.24242467e-01,\n",
              "                           4.54545498e-01,  4.84848529e-01,  5.15151501e-01,  5.45454502e-01,\n",
              "                           5.75757504e-01,  6.06060565e-01,  6.36363626e-01,  6.66666627e-01,\n",
              "                           6.96969628e-01,  7.27272689e-01,  7.57575750e-01,  7.87878752e-01,\n",
              "                           8.18181753e-01,  8.48484814e-01,  8.78787875e-01,  9.09090877e-01,\n",
              "                           9.39393878e-01,  9.69696939e-01,  1.00000000e+00,  1.03030300e+00,\n",
              "                           1.06060600e+00,  1.09090900e+00,  1.12121212e+00,  1.15151513e+00,\n",
              "                           1.18181813e+00,  1.21212125e+00,  1.24242425e+00,  1.27272725e+00,\n",
              "                           1.30303025e+00,  1.33333325e+00,  1.36363637e+00,  1.39393938e+00,\n",
              "                           1.42424238e+00,  1.45454550e+00,  1.48484850e+00,  1.51515150e+00,\n",
              "                           1.54545450e+00,  1.57575750e+00,  1.60606062e+00,  1.63636363e+00,\n",
              "                           1.66666663e+00,  1.69696975e+00,  1.72727275e+00,  1.75757575e+00,\n",
              "                           1.78787875e+00,  1.81818175e+00,  1.84848487e+00,  1.87878788e+00,\n",
              "                           1.90909088e+00,  1.93939400e+00,  1.96969700e+00,  2.00000000e+00],\n",
              "                         dtype=float32),\n",
              "              'z': array([[0., 0., 0., ..., 0., 0., 0.],\n",
              "                          [0., 0., 0., ..., 0., 0., 0.],\n",
              "                          [0., 0., 0., ..., 0., 0., 0.],\n",
              "                          ...,\n",
              "                          [0., 0., 0., ..., 1., 1., 1.],\n",
              "                          [0., 0., 0., ..., 1., 1., 1.],\n",
              "                          [0., 0., 0., ..., 1., 1., 1.]], dtype=float32)}],\n",
              "    'layout': {'height': 500,\n",
              "               'template': '...',\n",
              "               'title': {'text': 'Dataset for OR Gate with Noise Level 0.43'},\n",
              "               'width': 800,\n",
              "               'xaxis': {'range': [-1, 2]},\n",
              "               'yaxis': {'range': [-1, 2]}}\n",
              "})"
            ]
          },
          "metadata": {}
        },
        {
          "output_type": "display_data",
          "data": {
            "text/plain": [
              "interactive(children=(FloatSlider(value=500.0, description='Samples', max=1000.0, min=100.0, step=100.0), Drop…"
            ],
            "application/vnd.jupyter.widget-view+json": {
              "version_major": 2,
              "version_minor": 0,
              "model_id": "55f360e81c904365a386fc884234cf70"
            }
          },
          "metadata": {}
        }
      ]
    },
    {
      "cell_type": "code",
      "source": [],
      "metadata": {
        "id": "ndS066dwmLSQ"
      },
      "execution_count": null,
      "outputs": []
    }
  ]
}