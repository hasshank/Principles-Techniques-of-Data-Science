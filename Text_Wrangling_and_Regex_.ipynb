{
  "nbformat": 4,
  "nbformat_minor": 0,
  "metadata": {
    "colab": {
      "provenance": []
    },
    "kernelspec": {
      "name": "python3",
      "display_name": "Python 3"
    },
    "language_info": {
      "name": "python"
    }
  },
  "cells": [
    {
      "cell_type": "code",
      "source": [
        "import matplotlib.pyplot as plt\n",
        "import numpy as np\n",
        "import pandas as pd\n",
        "import seaborn as sns\n",
        "import zipfile"
      ],
      "metadata": {
        "id": "iWbWCNoHgA3f"
      },
      "execution_count": null,
      "outputs": []
    },
    {
      "cell_type": "code",
      "source": [
        "states = pd.read_csv(\"data/county_and_state.csv\")\n",
        "populations = pd.read_csv(\"data/county_and_population.csv\")\n",
        "\n",
        "display(states)\n",
        "display(populations)"
      ],
      "metadata": {
        "id": "3G221gsXf1p9"
      },
      "execution_count": null,
      "outputs": []
    },
    {
      "cell_type": "code",
      "source": [
        "states.merge(populations, left_on=\"County\", right_on=\"County\")"
      ],
      "metadata": {
        "id": "GaXABKKifsSW"
      },
      "execution_count": null,
      "outputs": []
    },
    {
      "cell_type": "code",
      "source": [
        "def canonicalize_county(county_series):\n",
        "  return (county_series.str.lower()\n",
        "          .str.replace('', '')\n",
        "          .str.replace('&', 'and')\n",
        "          .str.replace('.', '')\n",
        "          .str.replace('county', '')\n",
        "          .str.replace('parish', '')\n",
        "          )\n",
        "\n",
        "display(canonicalize_county(states[\"County\"]))\n",
        "display(canonicalize_county(populations[\"County\"]))"
      ],
      "metadata": {
        "id": "gflKctPAfFOO"
      },
      "execution_count": null,
      "outputs": []
    },
    {
      "cell_type": "code",
      "source": [
        "states[\"Canonical County\"] = canonicalize_county(states[\"County\"])\n",
        "populations[\"Canonical County\"] = canonicalize_county(populations[\"County\"])\n",
        "display(states)\n",
        "display(populations)"
      ],
      "metadata": {
        "id": "P5xjxSPbesZt"
      },
      "execution_count": null,
      "outputs": []
    },
    {
      "cell_type": "code",
      "source": [
        "states.merge(populations, on = \"Canonical County\")"
      ],
      "metadata": {
        "id": "dSgme5CHenic"
      },
      "execution_count": null,
      "outputs": []
    },
    {
      "cell_type": "code",
      "source": [
        "log_fname = 'data/log.txt'\n",
        "with open(log_fname, 'r') as f:\n",
        "  log_lines = f.readlines()\n",
        "log_lines"
      ],
      "metadata": {
        "id": "B-Hv_oMsedTo"
      },
      "execution_count": null,
      "outputs": []
    },
    {
      "cell_type": "code",
      "source": [
        "log_lines[0][20:31]"
      ],
      "metadata": {
        "id": "qTGXFHGqeZvN"
      },
      "execution_count": null,
      "outputs": []
    },
    {
      "cell_type": "code",
      "source": [
        "first = log_lines[0]\n",
        "first"
      ],
      "metadata": {
        "id": "kzpuw9uReV9l"
      },
      "execution_count": null,
      "outputs": []
    },
    {
      "cell_type": "code",
      "source": [
        "pertinent = (\n",
        "    first.split(\"[\")[1]\n",
        "    .split(']')[0]\n",
        ")\n",
        "pertinent"
      ],
      "metadata": {
        "id": "1j-vjhPseOCJ"
      },
      "execution_count": null,
      "outputs": []
    },
    {
      "cell_type": "code",
      "source": [
        "day, month, rest = pertinent.split('/')"
      ],
      "metadata": {
        "id": "qzH_CdH3eHTE"
      },
      "execution_count": null,
      "outputs": []
    },
    {
      "cell_type": "code",
      "source": [
        "year, hour, minute, rest = rest.split(':')\n",
        "\n",
        "print(\"Year:\", year)\n",
        "print(\"Hour:\", hour)\n",
        "print(\"Minute:\", minute)\n",
        "print(\"Rest:\", rest)"
      ],
      "metadata": {
        "id": "EOxOXmyId12T"
      },
      "execution_count": null,
      "outputs": []
    },
    {
      "cell_type": "code",
      "source": [
        "seconds, time_zone = rest.split('')\n",
        "day, month, year, hour, minute, seconds, time_zone"
      ],
      "metadata": {
        "id": "sG2rLLptduSj"
      },
      "execution_count": null,
      "outputs": []
    },
    {
      "cell_type": "code",
      "source": [
        "logs = pd.read_csv(\"data/log.txt\",\n",
        "                   sep=\"\\t\",\n",
        "                   header = None)[0]\n",
        "\n",
        "print(\"Original input!\")\n",
        "display(logs)"
      ],
      "metadata": {
        "id": "UtD92y9Jdff0"
      },
      "execution_count": null,
      "outputs": []
    },
    {
      "cell_type": "code",
      "source": [
        "import re\n",
        "\n",
        "text = \"My social security number is 123-45-6789 bro, or actually maybe it’s 321-45-6789.\";\n",
        "\n",
        "pattern = r\"[0-9]{3}-[0-9]{2}-[0-9]{4}\"\n",
        "\n",
        "re.findall(pattern, text)"
      ],
      "metadata": {
        "id": "Px62JeSac7b3"
      },
      "execution_count": null,
      "outputs": []
    },
    {
      "cell_type": "code",
      "source": [
        "df_ssn = pd.DataFrame(\n",
        "    ['987-65-4321',\n",
        "     'forty',\n",
        "     '123-45-6789 bro or 321-45-6789',\n",
        "     '999-99-9999'],\n",
        "    columns=['SSN'])\n",
        "df_ssn"
      ],
      "metadata": {
        "id": "bczrqo_Zcybu"
      },
      "execution_count": null,
      "outputs": []
    },
    {
      "cell_type": "code",
      "source": [
        "pattern = r\"[0-9]{3}-[0-9]{2}-[0-9]{4}\"\n",
        "df_ssn['SSN'].str.findall(pattern)"
      ],
      "metadata": {
        "id": "5fCYeNb0cUjN"
      },
      "execution_count": null,
      "outputs": []
    },
    {
      "cell_type": "code",
      "execution_count": null,
      "metadata": {
        "id": "LpskuroEhrAf"
      },
      "outputs": [],
      "source": [
        "(\n",
        "df_ssn['SSN']\n",
        ".str.findall(pattern)\n",
        ".str[-1]\n",
        ")"
      ]
    },
    {
      "cell_type": "code",
      "source": [
        "text = \"\"\"I will meet you at 08:30:00 pm tomorrow\"\"\"\n",
        "pattern = \".*(\\d\\d):(\\d\\d):(\\d\\d).*\"\n",
        "matches = re.findall(pattern, text)\n",
        "matches"
      ],
      "metadata": {
        "id": "y4cT3i06b_OX"
      },
      "execution_count": null,
      "outputs": []
    },
    {
      "cell_type": "code",
      "source": [
        "hour, minute, second= matches[0]\n",
        "print(\"Hour:\", hour)\n",
        "print(\"Minute: \", minute)\n",
        "print(\"Second: \",second)"
      ],
      "metadata": {
        "id": "9H0OKzN1bzqp"
      },
      "execution_count": null,
      "outputs": []
    },
    {
      "cell_type": "code",
      "source": [
        "df_ssn"
      ],
      "metadata": {
        "id": "iNCgzPENbyPA"
      },
      "execution_count": null,
      "outputs": []
    },
    {
      "cell_type": "code",
      "source": [
        "pattern_group_mult = r\"([0-9]{3})-([0-9]{2})-([0-9]{4})\"\n",
        "df_ssn['SSN'].str.extract(pattern_group_mult)"
      ],
      "metadata": {
        "id": "_3ldSwoc0dAv"
      },
      "execution_count": null,
      "outputs": []
    },
    {
      "cell_type": "code",
      "source": [
        "ssns = df_ssn['SSN']\n",
        "\n",
        "snss.str.extract(pattern_group_mult)\n"
      ],
      "metadata": {
        "id": "_6pZFj980U05"
      },
      "execution_count": null,
      "outputs": []
    },
    {
      "cell_type": "code",
      "source": [
        "df_ssn['SSN'].str.extractall(pattern_group_mult)\n"
      ],
      "metadata": {
        "id": "UZ9vE5RwzZDA"
      },
      "execution_count": null,
      "outputs": []
    },
    {
      "cell_type": "code",
      "source": [
        "text = '<div><td valign=\"top\">Moo</td></div>'\n",
        "pattern = r\"<[^>]+>\"\n",
        "re.sub(pattern, '', text)"
      ],
      "metadata": {
        "id": "6vHANDb_zgz8"
      },
      "execution_count": null,
      "outputs": []
    },
    {
      "cell_type": "code",
      "source": [
        "df_html = pd.DataFrame(['<div><td valign=\"top\">Moo</td></div>',\n",
        "                        '<a href=\"https://ds100.org\">Link</a>',\n",
        "                        '<b>Bold text</b>'], columns= ['Html'])\n",
        "\n",
        "df_html"
      ],
      "metadata": {
        "id": "xbvRNTOYzU1a"
      },
      "execution_count": null,
      "outputs": []
    },
    {
      "cell_type": "code",
      "source": [
        "df_html[\"Html\"].str.replace(pattern, '', regex=True).to_frame()\n"
      ],
      "metadata": {
        "id": "1Tr1NurezQhn"
      },
      "execution_count": null,
      "outputs": []
    },
    {
      "cell_type": "code",
      "source": [
        "line = log_lines[0]\n",
        "display(line)\n",
        "\n",
        "Pattern= r'\\[(\\d+)\\/(\\w+)\\/(\\d+):(\\d+):(\\d+):(\\d+) (.+)\\]'\n",
        "day, month, year, hour, minute, second, time_zone = re.findall(pattern,line)[0]\n",
        "day, month, year, hour, minute, second, time_zone"
      ],
      "metadata": {
        "id": "oV2oYmUPzKkp"
      },
      "execution_count": null,
      "outputs": []
    },
    {
      "cell_type": "code",
      "source": [
        "df= pd.DataFrame(log_lines, columns=['Log'])\n",
        "df"
      ],
      "metadata": {
        "id": "izn_P6e0zGMV"
      },
      "execution_count": null,
      "outputs": []
    },
    {
      "cell_type": "code",
      "source": [
        "pattern = r'\\[(\\d+)\\/(\\w+)\\/(\\d+):(\\d+):(\\d+):(\\d+) (.+)\\]'\n",
        "df['Log'].str.findall(pattern)"
      ],
      "metadata": {
        "id": "pVAlrvyszACw"
      },
      "execution_count": null,
      "outputs": []
    },
    {
      "cell_type": "code",
      "source": [
        "df['Log'].str.extractall(pattern)"
      ],
      "metadata": {
        "id": "H3nP8vBdxUzn"
      },
      "execution_count": null,
      "outputs": []
    },
    {
      "cell_type": "code",
      "source": [
        "vio = pd.read_csv('data/violations.csv', head = 0, names=['bid', 'date', 'desc'])\n",
        "desc = vio['desc']\n",
        "vio.head()"
      ],
      "metadata": {
        "id": "BJmvhrpqwxaZ"
      },
      "execution_count": null,
      "outputs": []
    },
    {
      "cell_type": "code",
      "source": [
        "counts= desc.value_counts()\n",
        "\n",
        "counts.shape"
      ],
      "metadata": {
        "id": "n61BzUAhwbIp"
      },
      "execution_count": null,
      "outputs": []
    },
    {
      "cell_type": "code",
      "source": [
        "counts[:10]"
      ],
      "metadata": {
        "id": "kQ9jmnM6wYJ_"
      },
      "execution_count": null,
      "outputs": []
    },
    {
      "cell_type": "code",
      "source": [
        "counts[50:60]"
      ],
      "metadata": {
        "id": "q950bOScwQaH"
      },
      "execution_count": null,
      "outputs": []
    },
    {
      "cell_type": "code",
      "source": [
        "vio['clean_desc'] = (vio['desc'].str.replace(r'\\s*\\[.*\\]$', '',regex = True)\n",
        "            .str.strip()\n",
        "            .str.lower())\n",
        "vio.head()"
      ],
      "metadata": {
        "id": "PhEgP_y_wNBo"
      },
      "execution_count": null,
      "outputs": []
    },
    {
      "cell_type": "code",
      "source": [
        "vio['clean_desc'].value_counts().shape"
      ],
      "metadata": {
        "id": "CYR6Pb9QwAjM"
      },
      "execution_count": null,
      "outputs": []
    },
    {
      "cell_type": "code",
      "source": [
        "vio['clean_desc'].value_counts().head()"
      ],
      "metadata": {
        "id": "tWW9JpN1v9wQ"
      },
      "execution_count": null,
      "outputs": []
    },
    {
      "cell_type": "code",
      "source": [
        "with_features = (vio.assign(is_unclean = vio['clean_desc'].str.contains('clean|sanit')\n",
        ".assign(is_high_risk = vio['clean_desc'].str.contains('high risk'))\n",
        ".assign(is_vermin = vio['clean_desc'].str.contains('vermin'))\n",
        ".assign(is_surface = vio['clean_desc'].str.contains('wall|ceiling|floor|surface'))\n",
        ".assign(is_human = vio['clean_desc'].str.contains('hand|glove|hair|nail'))\n",
        ".assign(is_permit = vio['clean_desc'].str.contains('permit|certif'))\n",
        ")\n",
        "with_features.head()"
      ],
      "metadata": {
        "id": "fiL23d07v239"
      },
      "execution_count": null,
      "outputs": []
    },
    {
      "cell_type": "code",
      "source": [
        "count_features = (with_features.groupby(['bid','date']).sum(numeric_only=True).reset_index())\n",
        "\n",
        "count_features.iloc[255:260,:]\n"
      ],
      "metadata": {
        "id": "PV-zMiGIvnyt"
      },
      "execution_count": null,
      "outputs": []
    },
    {
      "cell_type": "code",
      "source": [
        "count_features[count_features['is_vermin']>1.head(5)\n"
      ],
      "metadata": {
        "id": "01MVVPPEvcXD"
      },
      "execution_count": null,
      "outputs": []
    },
    {
      "cell_type": "code",
      "source": [
        "\n",
        "violation_type_df = pd.melt(count_features,id_vars=['bid','date'],var_name='feature',value_name='num_vios')\n",
        "\n",
        "violation_type_df[(violation_type_df['bid'] == 489) & (violation_type_df['date'] == 20150728)]\n"
      ],
      "metadata": {
        "id": "aQ94WRoQvTbI"
      },
      "execution_count": null,
      "outputs": []
    },
    {
      "cell_type": "code",
      "source": [
        "inspection_df = pd.read_csv('data/inspections.csv',\n",
        "                            header=0,\n",
        "                            usecols=[0,1,2],\n",
        "                            names=['bid','score','date'])\n",
        "inspection_df.head()"
      ],
      "metadata": {
        "id": "2Ejs5ZLcvS2p"
      },
      "execution_count": null,
      "outputs": []
    },
    {
      "cell_type": "code",
      "source": [
        "violation_type_and_scores = (\n",
        "    violation_type_df\n",
        "    .merge(inspection_df,on=['bid','date']))\n",
        "\n",
        "violation_type_and_scores.head(12)"
      ],
      "metadata": {
        "id": "m7j-6f3cu5ZN"
      },
      "execution_count": null,
      "outputs": []
    },
    {
      "cell_type": "code",
      "source": [
        "sns.catplot(x='num_vios',y='score',\n",
        "            col='feature',col_wrap=2,\n",
        "            kind='box',\n",
        "            data=violation_type_and_scores);"
      ],
      "metadata": {
        "id": "boXCdqequ2yG"
      },
      "execution_count": null,
      "outputs": []
    }
  ]
}