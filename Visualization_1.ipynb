{
  "nbformat": 4,
  "nbformat_minor": 0,
  "metadata": {
    "colab": {
      "provenance": []
    },
    "kernelspec": {
      "name": "python3",
      "display_name": "Python 3"
    },
    "language_info": {
      "name": "python"
    }
  },
  "cells": [
    {
      "cell_type": "code",
      "execution_count": 1,
      "metadata": {
        "id": "uw4ePBqZbcWJ"
      },
      "outputs": [],
      "source": [
        "import numpy as np\n",
        "import pandas as pd\n",
        "import matplotlib.pyplot as plt\n",
        "import seaborn as sns\n",
        "\n",
        "%matplotlib inline"
      ]
    },
    {
      "cell_type": "code",
      "source": [
        "wb = pd.read_csv(\"data/world_bank.csv\", index_col=0)\n",
        "wb.head()"
      ],
      "metadata": {
        "id": "Z1jx_YS8cCx5"
      },
      "execution_count": null,
      "outputs": []
    },
    {
      "cell_type": "code",
      "source": [
        "wb[\"Continent\"].value_counts()"
      ],
      "metadata": {
        "id": "VujYM3CfcE-C"
      },
      "execution_count": null,
      "outputs": []
    },
    {
      "cell_type": "code",
      "source": [
        "continents = wb[\"Continent\"].value_counts()\n",
        "plt.bar(continents.index, continents.values)\n",
        "plt.xlabel(\"Continents\")\n",
        "plt.ylabel(\"Counts\")\n",
        "plt.title(\"Distribution of countries across the continents\")"
      ],
      "metadata": {
        "id": "F3nm-6w_cPqI"
      },
      "execution_count": null,
      "outputs": []
    },
    {
      "cell_type": "code",
      "source": [
        "wb[\"Continent\"].value_counts().plot(kind='bar')\n",
        "plt.ylabel(\"Counts\")\n",
        "plt.title(\"Distribution of countries across the continents\");"
      ],
      "metadata": {
        "id": "Ly0ZDqtOdIap"
      },
      "execution_count": null,
      "outputs": []
    },
    {
      "cell_type": "code",
      "source": [
        "sns.countplot(data=wb, x='Continent')\n",
        "plt.title(\"Distribution of countries across the continents\")"
      ],
      "metadata": {
        "id": "ngNhYkVydTRk"
      },
      "execution_count": null,
      "outputs": []
    },
    {
      "cell_type": "code",
      "source": [
        "sns.countplot(data=wb, x='Gross national income per capita, Atlas method: $: 2016')\n",
        "plt.title(\"GNI distribution for different countries\");"
      ],
      "metadata": {
        "id": "t4MmlKTddaqh"
      },
      "execution_count": null,
      "outputs": []
    },
    {
      "cell_type": "code",
      "source": [
        "sns.boxplot(data=wb, y=\"Gross national income per capita, Atlas method: $: 2016\")\n",
        "plt.title(\"The distribution of GNI per capita in different countries\");"
      ],
      "metadata": {
        "id": "WdSOiqJjdhRg"
      },
      "execution_count": null,
      "outputs": []
    },
    {
      "cell_type": "code",
      "source": [
        "sns.violinplot(data=wb, y=\"Gross national income per capita, Atlas method: $: 2016\")\n",
        "plt.title(\"The distribution of GNI per capita in different countries\")"
      ],
      "metadata": {
        "id": "WMzFoiFldtUN"
      },
      "execution_count": null,
      "outputs": []
    },
    {
      "cell_type": "code",
      "source": [
        "gdp = wb['Gross domestic product: % growth : 2016']\n",
        "gdp = gdp[~gdp.isna()]\n",
        "\n",
        "q1, q2, q3 = np.percentile(gdp, [25, 50, 75])\n",
        "\n",
        "wb_quartiles = wb.copy()\n",
        "wb_quartiles['category'] = None\n",
        "wb_quartiles.loc[(wb_quartiles['Gross domestic product: % growth : 2016'] < q1) | (wb_quartiles['Gross domestic product: % growth : 2016'] > q3), 'category'] = 'Outside of the middle 50%'\n",
        "wb_quartiles.loc[(wb_quartiles['Gross domestic product: % growth : 2016'] > q1) & (wb_quartiles['Gross domestic product: % growth : 2016'] < q3), 'category'] = 'In the middle 50%'\n",
        "\n",
        "sns.histplot(wb_quartiles, x=\"Gross domestic product: % growth : 2016\", hue=\"category\")\n",
        "sns.rugplot([q1, q2, q3], c=\"firebrick\", lw=6, height=0.1)\n",
        "plt.title(\"The distribution of GNI per capita with the middle 50% highlighted in blue\");"
      ],
      "metadata": {
        "id": "YhYTEfpYd1KI"
      },
      "execution_count": null,
      "outputs": []
    },
    {
      "cell_type": "code",
      "source": [
        "sns.boxplot(data=wb, y='Gross domestic product: % growth : 2016')\n",
        "plt.title(\"The distribution of gross domestic product: % growth\");"
      ],
      "metadata": {
        "id": "y8ntvTQLgESO"
      },
      "execution_count": null,
      "outputs": []
    },
    {
      "cell_type": "code",
      "source": [
        "sns.violinplot(data=wb, y='Gross domestic product: % growth : 2016')\n",
        "plt.title(\"The distribution of gross domestic product: % growth\");"
      ],
      "metadata": {
        "id": "RCdIPNJ3iOqW"
      },
      "execution_count": null,
      "outputs": []
    },
    {
      "cell_type": "code",
      "source": [
        "sns.boxplot(data=wb, x=\"Continent\", y = 'Gross domestic product: % growth : 2016')\n",
        "plt.title(\"The distribution of gross domestic product for different continents\");"
      ],
      "metadata": {
        "id": "PW27Me1kiZuh"
      },
      "execution_count": null,
      "outputs": []
    },
    {
      "cell_type": "code",
      "source": [
        "gni = wb[\"Gross national income per capita, Atlas method: $: 2016\"]\n",
        "plt.hist(gni, density=True, edgecolor=\"white\")\n",
        "\n",
        "plt.xlabel(\"Gross national income per capita\")\n",
        "plt.ylabel(\"Density\")\n",
        "plt.title(\"Distribution of gross national income per capita\");"
      ],
      "metadata": {
        "id": "gjN0_fTfijU7"
      },
      "execution_count": null,
      "outputs": []
    },
    {
      "cell_type": "code",
      "source": [
        "sns.histplot(data=wb, x=\"Gross national income per capita, Atlas method: $: 2016\", stat=\"density\")\n",
        "plt.title(\"Distribution of gross national income per capita\");"
      ],
      "metadata": {
        "id": "LzL-U9hpi0Xu"
      },
      "execution_count": null,
      "outputs": []
    },
    {
      "cell_type": "code",
      "source": [
        "north = [\"Asia\", \"Europe\", \"N. America\"]\n",
        "south = [\"Africa\", \"Oceania\", \"S. America\"]\n",
        "wb.loc[wb[\"Continent\"].isin(north), \"Hemisphere\"] = \"Northern\"\n",
        "wb.loc[wb[\"Continent\"].isin(south), \"Hemisphere\"] = \"Southern\""
      ],
      "metadata": {
        "id": "dn6vJC0hjBJU"
      },
      "execution_count": null,
      "outputs": []
    },
    {
      "cell_type": "code",
      "source": [
        "sns.histplot(data=wb, x=\"Gross national income per capita, Atlas method: $: 2016\", hue=\"Hemisphere\", stat=\"density\")\n",
        "plt.title(\"Distribution of gross national income per capita highlighted for different hemispheres\")"
      ],
      "metadata": {
        "id": "_AXHtz-pjWT_"
      },
      "execution_count": null,
      "outputs": []
    },
    {
      "cell_type": "code",
      "source": [
        "densities, bins, _ = plt.hist(gni, density=True, edgecolor=\"white\", bins=5)\n",
        "plt.xlabel(\"Gross national income per capita\")\n",
        "plt.ylabel(\"Density\")\n",
        "plt.title(\"A histogram of the distribution of GNI per capita\");\n",
        "\n",
        "print(f\"First bin has width {bins[1]-bins[0]} and height {densities[0]}\")\n",
        "print(f\"This corresponds to {bins[1]-bins[0]} * {densities[0]} = {(bins[1]-bins[0])*densities[0]*100}% of the data\")"
      ],
      "metadata": {
        "id": "hmW55fd6jiQr"
      },
      "execution_count": null,
      "outputs": []
    },
    {
      "cell_type": "code",
      "source": [
        "wb = wb.rename(columns={'Antiretroviral therapy coverage: % of people living with HIV: 2015':\"HIV rate\"})\n",
        "\n",
        "sns.histplot(data=wb, x=\"HIV rate\", stat=\"density\", bins=5)\n",
        "plt.title(\"5 histogram bins\");"
      ],
      "metadata": {
        "id": "rBqRtPfPk5g_"
      },
      "execution_count": null,
      "outputs": []
    },
    {
      "cell_type": "code",
      "source": [
        "sns.histplot(data=wb, x=\"HIV rate\", stat=\"density\", bins=10)\n",
        "plt.title(\"10 histogram bins\");"
      ],
      "metadata": {
        "id": "XJ7JnZL1lWaU"
      },
      "execution_count": null,
      "outputs": []
    },
    {
      "cell_type": "code",
      "source": [
        "sns.histplot(data=wb, x=\"HIV rate\", stat=\"density\", bins=20)\n",
        "plt.title(\"20 histogram bins\");"
      ],
      "metadata": {
        "id": "RtSgCuB9lgWm"
      },
      "execution_count": null,
      "outputs": []
    },
    {
      "cell_type": "code",
      "source": [
        "sns.distplot(data=wb, x=\"HIV rate\", kde=True, stat=\"density\")\n",
        "plt.title(\"Histogram and overlaid KDE on HIV rate distribution\");"
      ],
      "metadata": {
        "id": "3yr9-G6Tln3Z"
      },
      "execution_count": null,
      "outputs": []
    },
    {
      "cell_type": "code",
      "source": [
        "points = [2.2, 2.8, 3.7, 5.3, 5.7]"
      ],
      "metadata": {
        "id": "RRPHoCitlxpB"
      },
      "execution_count": null,
      "outputs": []
    },
    {
      "cell_type": "code",
      "source": [
        "plt.hist(points, bins=range(0,10,2), ec='w', density=True)"
      ],
      "metadata": {
        "id": "Fm87UGrYl29-"
      },
      "execution_count": null,
      "outputs": []
    },
    {
      "cell_type": "code",
      "source": [
        "def gaussian(x, z, a):\n",
        "  return (1/np.sqrt(2*np.pi*a**2)) * np.exp((-(x - z)**2 / (2 * a**2)))\n",
        "\n",
        "def boxcar_basic(x,z,a):\n",
        "  if np.abs(x-z) <= a/2:\n",
        "    return 1/a\n",
        "  return 0\n",
        "\n",
        "def boxcar(x,z,a):\n",
        "  cond = np.abs(x - z)\n",
        "  return np.piecewise(x, [cond <= a/2, cond > a/2], [1/a, 0])"
      ],
      "metadata": {
        "id": "NvYM1Rz8mD3p"
      },
      "execution_count": 4,
      "outputs": []
    },
    {
      "cell_type": "code",
      "source": [
        "def create_kde(kernel, pts, a):\n",
        "  def f(x):\n",
        "    output = 0\n",
        "    for pt in pts:\n",
        "      output += kernel(x, pt, a)\n",
        "    return output/ len(pts)\n",
        "  return f\n",
        "\n",
        "def plot_kde(kernel, pts, a):\n",
        "  f = create_kde(kernel, pts, a)\n",
        "  x = np.linspace(min(pts) - 5, max(pts) + 5, 1000)\n",
        "  y = [f(xi) for xi in x]\n",
        "  fig, ax = plt.subplots()\n",
        "  ax.plot(x,y)\n",
        "  return fig, ax\n",
        "\n",
        "def plot_separate_kernels(kernel, pts, a, norm=False):\n",
        "  fig, ax = plt.subplots()\n",
        "  x = np.linspace(min(pts) - 5, max(pts) + 5, 1000)\n",
        "  for pt in pts:\n",
        "    y = kernel(x, pt, a)\n",
        "    if norm:\n",
        "      y /= len(pts)\n",
        "    ax.plot(x, y)\n",
        "  return fig, ax"
      ],
      "metadata": {
        "id": "MUmb5zqHnJ7M"
      },
      "execution_count": null,
      "outputs": []
    },
    {
      "cell_type": "code",
      "source": [
        "plt.xlim(-3, 10)\n",
        "plt.ylim(0, 0.5)\n",
        "sns.rugplot(points, height = 0.5)\n",
        "plt.title(\"sample dataset\");"
      ],
      "metadata": {
        "id": "sqMZwESezT6_"
      },
      "execution_count": null,
      "outputs": []
    },
    {
      "cell_type": "code",
      "source": [
        "fig, ax = plot_separate_kernels(gaussian, points, a=1)\n",
        "ax.set_title(\"Overlaid Gaussians on each data point\")\n",
        "ax.set_xlim(-3, 10)\n",
        "ax.set_ylim(0, 0.5);"
      ],
      "metadata": {
        "id": "cc3UPyB31BJd"
      },
      "execution_count": null,
      "outputs": []
    },
    {
      "cell_type": "code",
      "source": [
        "fig, ax = plot_separate_kernels(gaussian, points, a=1, norm=True)\n",
        "ax.set_title(\"Normalized verlaid Gaussians on each data point\")\n",
        "ax.set_xlim(-3,10)\n",
        "ax.set_ylim(0,0.5);"
      ],
      "metadata": {
        "id": "zvx6Aoec1jkr"
      },
      "execution_count": null,
      "outputs": []
    },
    {
      "cell_type": "code",
      "source": [
        "fig, ax = plot_kde(gaussian, points, a=1)\n",
        "ax.set_title(\"KDE estimate\")\n",
        "ax.set_xlim(-3, 10)\n",
        "ax.set_ylim(0,0.5);"
      ],
      "metadata": {
        "id": "qhwNvyFA1xR4"
      },
      "execution_count": null,
      "outputs": []
    },
    {
      "cell_type": "code",
      "source": [
        "sns.kdeplot(points, bw_method= 0.65)\n",
        "sns.histplot(points, stat='density', bins=2);"
      ],
      "metadata": {
        "id": "kZ0XKVGb1-6r"
      },
      "execution_count": null,
      "outputs": []
    },
    {
      "cell_type": "code",
      "source": [
        "sns.histplot(points, bins=2, kde=True, stat='density',\n",
        "             kde_kws=dict(cut=3,bw_method=0.65));"
      ],
      "metadata": {
        "id": "88ds1BdG2Ioa"
      },
      "execution_count": null,
      "outputs": []
    },
    {
      "cell_type": "code",
      "source": [
        "sns.kdeplot(points, bw_adjust=2)\n",
        "sns.histplot(points, stat='density');"
      ],
      "metadata": {
        "id": "D-eCcAYZ2X1Q"
      },
      "execution_count": null,
      "outputs": []
    },
    {
      "cell_type": "code",
      "source": [
        "fig, ax = plot_kde(gaussian, points, a=1)\n",
        "ax.set_title(r'KDE of toy data with Gaussian kernel and $\\alpha$ = 1')\n",
        "ax.set_xlim(-3, 10)\n",
        "ax.set_ylim(0,0.5);"
      ],
      "metadata": {
        "id": "fYg-OLn02eWN"
      },
      "execution_count": null,
      "outputs": []
    },
    {
      "cell_type": "code",
      "source": [
        "fig, ax = plot_kde(boxcar, points, a=1)\n",
        "ax.set_title(r'KDE of toy data with Boxcar kernel and $\\alpha$ = 1')\n",
        "ax.set_xlim(-3, 10)\n",
        "ax.set_ylim(0, 0.5);"
      ],
      "metadata": {
        "id": "oLCxSz1_28xb"
      },
      "execution_count": null,
      "outputs": []
    },
    {
      "cell_type": "code",
      "source": [
        "tips = sns.load_dataset('tips')"
      ],
      "metadata": {
        "id": "vqUahYpE7B_z"
      },
      "execution_count": null,
      "outputs": []
    },
    {
      "cell_type": "code",
      "source": [
        "tips.head()"
      ],
      "metadata": {
        "id": "RPfq6MTz7Hl6"
      },
      "execution_count": null,
      "outputs": []
    },
    {
      "cell_type": "code",
      "source": [
        "vals = tips['total_bill']"
      ],
      "metadata": {
        "id": "pENwHOzO7JbY"
      },
      "execution_count": null,
      "outputs": []
    },
    {
      "cell_type": "code",
      "source": [
        "ax = sns.histplot(vals)\n",
        "sns.rugplot(vals, color='orange', ax=ax);"
      ],
      "metadata": {
        "id": "SrCqBPMb7Mp6"
      },
      "execution_count": null,
      "outputs": []
    },
    {
      "cell_type": "code",
      "source": [
        "fig, ax = plot_kde(gaussian, vals, a=0.1)\n",
        "ax.set_title(r'KDE of tips with Gaussian kernel and $\\alpha$ = 0.1')\n",
        "plt.ylim(0,0.15);"
      ],
      "metadata": {
        "id": "ELFHCYYm7SSq"
      },
      "execution_count": null,
      "outputs": []
    },
    {
      "cell_type": "code",
      "source": [
        "fig, ax = plot_kde(gaussian, vals, a=1)\n",
        "ax.set_title(r'KDE of tips with Gaussian kernel and $\\alpha$ = 1')\n",
        "ax.set_ylim(0,0.1);"
      ],
      "metadata": {
        "id": "IsPF30qi7od6"
      },
      "execution_count": null,
      "outputs": []
    },
    {
      "cell_type": "code",
      "source": [
        "fig, ax = plot_kde(gaussian, vals, a=2)\n",
        "ax.set_title(r'KDE of tips with Gaussian kernel and $\\alpha$ = 2')\n",
        "ax.set_ylim(0,0.1);"
      ],
      "metadata": {
        "id": "WQ9-3NRJ71B8"
      },
      "execution_count": null,
      "outputs": []
    },
    {
      "cell_type": "code",
      "source": [
        "fig, ax = plot_kde(gaussian, vals, a=5)\n",
        "ax.set_title(r'KDE of tips with Gaussian kernel and $\\alpha$ = 5')\n",
        "ax.set_ylim(0,0.1);"
      ],
      "metadata": {
        "id": "V92l5-UG8LCP"
      },
      "execution_count": null,
      "outputs": []
    }
  ]
}