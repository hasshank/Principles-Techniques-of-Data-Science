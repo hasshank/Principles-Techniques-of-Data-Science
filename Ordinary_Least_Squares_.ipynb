{
  "nbformat": 4,
  "nbformat_minor": 0,
  "metadata": {
    "colab": {
      "provenance": []
    },
    "kernelspec": {
      "name": "python3",
      "display_name": "Python 3"
    },
    "language_info": {
      "name": "python"
    }
  },
  "cells": [
    {
      "cell_type": "code",
      "execution_count": null,
      "metadata": {
        "id": "Kz-gR7WG97kO"
      },
      "outputs": [],
      "source": [
        "import numpy as np\n",
        "import pandas as pd\n",
        "import matplotlib.pyplot as plt\n",
        "%matplotlib inline\n",
        "import seaborn as sns"
      ]
    },
    {
      "cell_type": "code",
      "source": [
        "nba = pd.read_csv('data/nba18-19.csv', index_col=0)\n",
        "nba.index.name = None"
      ],
      "metadata": {
        "id": "oeyxG-GNsUIZ"
      },
      "execution_count": null,
      "outputs": []
    },
    {
      "cell_type": "code",
      "source": [
        "nba.head(5)"
      ],
      "metadata": {
        "id": "YKfeprIdsayd"
      },
      "execution_count": null,
      "outputs": []
    },
    {
      "cell_type": "code",
      "source": [
        "nba[['FG', 'AST', '3PA', 'PTS']]"
      ],
      "metadata": {
        "id": "Sb8LBfgAscyF"
      },
      "execution_count": null,
      "outputs": []
    },
    {
      "cell_type": "code",
      "source": [
        "X = nba[['FG', 'AST', '3PA']]\n",
        "X.insert(0, 'Bias', 1)\n",
        "X"
      ],
      "metadata": {
        "id": "5nX132fwsghc"
      },
      "execution_count": null,
      "outputs": []
    },
    {
      "cell_type": "code",
      "source": [
        "X = X.to_numpy()\n",
        "X.shape"
      ],
      "metadata": {
        "id": "80jwz34gsnS2"
      },
      "execution_count": null,
      "outputs": []
    },
    {
      "cell_type": "code",
      "source": [
        "Y = nba[[\"PTS\"]].to_numpy()\n",
        "n = len(Y)\n",
        "print(\"number datapoints\", n)\n",
        "Y[:5]"
      ],
      "metadata": {
        "id": "X_VjYfjtsrhv"
      },
      "execution_count": null,
      "outputs": []
    },
    {
      "cell_type": "code",
      "source": [
        "theta_arbitrary = np.array([[0.5], [-1.14], [0.65], [1.52]])\n",
        "theta_arbitrary"
      ],
      "metadata": {
        "id": "qODnbDPss0pL"
      },
      "execution_count": null,
      "outputs": []
    },
    {
      "cell_type": "code",
      "source": [
        "display((X @ theta_arbitrary)[:5])\n",
        "\n",
        "display(Y[:5])"
      ],
      "metadata": {
        "id": "L3yty4n1s_ey"
      },
      "execution_count": null,
      "outputs": []
    },
    {
      "cell_type": "code",
      "source": [
        "theta_arbitrary = np.array([0.5, -1.14, 0.65, 1.52])\n",
        "def mse_nba(theta):\n",
        "  return (1/n) * (np.linalg.norm(Y - X @ theta) ** 2)\n",
        "\n",
        "mse_nba(theta_arbitrary)"
      ],
      "metadata": {
        "id": "-Q5lS2QKtFbj"
      },
      "execution_count": null,
      "outputs": []
    },
    {
      "cell_type": "code",
      "source": [
        "from numpy.linalg import inv"
      ],
      "metadata": {
        "id": "yk2DouVOte3s"
      },
      "execution_count": null,
      "outputs": []
    },
    {
      "cell_type": "code",
      "source": [
        "def least_squares_estimate(X, Y):\n",
        "  return inv(X.T @ X) @ X.T @ Y\n",
        "\n",
        "theta_hat = least_squares_estimate(X, Y)\n",
        "theta_hat"
      ],
      "metadata": {
        "id": "bzTMqEMrthuQ"
      },
      "execution_count": null,
      "outputs": []
    },
    {
      "cell_type": "code",
      "source": [
        "print(\"Arbitrary theta MSE:\", mse_nba(theta_arbitrary))\n",
        "print(\"Optimal theta MSE:\" mse_nba(theta_hat))"
      ],
      "metadata": {
        "id": "bUOYyd8luB-s"
      },
      "execution_count": null,
      "outputs": []
    },
    {
      "cell_type": "code",
      "source": [
        "Y_hat = X @ theta_hat"
      ],
      "metadata": {
        "id": "01lIa5tguLES"
      },
      "execution_count": null,
      "outputs": []
    },
    {
      "cell_type": "code",
      "source": [
        "sns.scatterplot(x = Y_hat.flatten(), y = (Y - Y_hat).flatten())\n",
        "sns.lineplot(x=[-1, 35], y=[0,0], label=\"$\\hat{Y}=Y$\", color = 'orange', linewidth = 3)\n",
        "plt.xlabel(\"$\\hat{Y}$\")\n",
        "plt.ylabel(\"$\\hat{Y} - Y$\")\n",
        "plt.xlim([0,32])\n",
        "plt.show()"
      ],
      "metadata": {
        "id": "QVwbDTV4uPMp"
      },
      "execution_count": null,
      "outputs": []
    },
    {
      "cell_type": "code",
      "source": [
        "r2_ast_fg_3pa = np.var(Y_hat) / np.var(Y)\n",
        "r2_ast_fg_3pa"
      ],
      "metadata": {
        "id": "sfvgQu6uvQFI"
      },
      "execution_count": null,
      "outputs": []
    },
    {
      "cell_type": "code",
      "source": [
        "X_3d = nba[['AST', '3PA']]\n",
        "X_3d.insert(0, 'Bias', 1)\n",
        "X_3d = X_3d.to_numpy()\n",
        "\n",
        "theta_ast_3pa = least_squares_estimate(X_3d, Y)\n",
        "Y_hat_ast_3pa = X_3d @ theta_ast_3pa\n",
        "\n",
        "r2_ast_3pa = np.var(Y_hat_ast_3pa) / np.var(Y)\n",
        "r2_ast_3pa"
      ],
      "metadata": {
        "id": "YhOqybfhvXqW"
      },
      "execution_count": null,
      "outputs": []
    },
    {
      "cell_type": "code",
      "source": [
        "X_slr = nba[['AST']]\n",
        "X_slr.insert(0, 'Bias', 1)\n",
        "X_slr = X_slr.to_numpy()\n",
        "\n",
        "theta_ast_only = least_squares_estimate(X_slr, Y)\n",
        "Y_hat_ast_only = X_slr @ theta_ast_only\n",
        "\n",
        "r2_ast_only = np.var(Y_hat_ast_only) / np.var(Y)\n",
        "r2_ast_only"
      ],
      "metadata": {
        "id": "l5QvSRFfwpxI"
      },
      "execution_count": null,
      "outputs": []
    },
    {
      "cell_type": "code",
      "source": [
        "theta_ast_only"
      ],
      "metadata": {
        "id": "kjVgwur5xFVP"
      },
      "execution_count": null,
      "outputs": []
    },
    {
      "cell_type": "code",
      "source": [
        "theta_hat"
      ],
      "metadata": {
        "id": "EH9mayyuxG0T"
      },
      "execution_count": null,
      "outputs": []
    },
    {
      "cell_type": "code",
      "source": [
        "print(\"(SLR) intercept, AST:    \", r2_ast_only)\n",
        "print(\"intercept, 3PA, AST:     \", r2_ast_3pa)\n",
        "print(\"intercept, FG, 3PA, AST: \", r2_ast_fg_3pa)"
      ],
      "metadata": {
        "id": "ssPuwYVxxH17"
      },
      "execution_count": null,
      "outputs": []
    },
    {
      "cell_type": "code",
      "source": [
        "r = np.corrcoef(nba['AST'], nba['PTS'])[0,1]\n",
        "r ** 2"
      ],
      "metadata": {
        "id": "r0T4OAgDxWbq"
      },
      "execution_count": null,
      "outputs": []
    }
  ]
}