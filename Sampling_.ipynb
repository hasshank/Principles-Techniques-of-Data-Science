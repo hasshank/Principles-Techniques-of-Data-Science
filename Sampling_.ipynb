{
  "nbformat": 4,
  "nbformat_minor": 0,
  "metadata": {
    "colab": {
      "provenance": []
    },
    "kernelspec": {
      "name": "python3",
      "display_name": "Python 3"
    },
    "language_info": {
      "name": "python"
    }
  },
  "cells": [
    {
      "cell_type": "code",
      "execution_count": null,
      "metadata": {
        "id": "osSXbBROrHjp"
      },
      "outputs": [],
      "source": [
        "import matplotlib.pyplot as plt\n",
        "import numpy as np\n",
        "import pandas as pd\n",
        "import seaborn as sns\n",
        "\n",
        "sns.set_theme(style='darkgrid', font_scale = 1.5,\n",
        "              rc={'figure.figsize':(7,5)})\n",
        "\n",
        "rng = np.random.default_rng()"
      ]
    },
    {
      "cell_type": "code",
      "source": [
        "census = pd.read_csv(\"movie_census.csv\")\n",
        "census['Barbie'] = census['movie'] == 'Barbie'\n",
        "census"
      ],
      "metadata": {
        "id": "LC_FBFdZrz2r"
      },
      "execution_count": null,
      "outputs": []
    },
    {
      "cell_type": "code",
      "source": [
        "actual_barbie = census[\"Barbie\"].mean()\n",
        "actual_barbie"
      ],
      "metadata": {
        "id": "6olEb78_sFR6"
      },
      "execution_count": null,
      "outputs": []
    },
    {
      "cell_type": "code",
      "source": [
        "undergrads = census[(18 <= census['age']) & (census['age'] <= 22)].sample(10, replace=False)\n",
        "undergrads[\"Barbie\"].mean()"
      ],
      "metadata": {
        "id": "NWg5NcNisNtV"
      },
      "execution_count": null,
      "outputs": []
    },
    {
      "cell_type": "code",
      "source": [
        "len(undergrads)"
      ],
      "metadata": {
        "id": "xdNRuM-jscZn"
      },
      "execution_count": null,
      "outputs": []
    },
    {
      "cell_type": "code",
      "source": [
        "print(\"Percent of Berkeley:\", len(undergrads)/len(census) * 100)"
      ],
      "metadata": {
        "id": "abnAFSOnseA_"
      },
      "execution_count": null,
      "outputs": []
    },
    {
      "cell_type": "code",
      "source": [
        "elderly = census[census['age'] >= 65].sample(100)\n",
        "elderly[\"Barbie\"].mean()"
      ],
      "metadata": {
        "id": "OYh5fm0zsmKr"
      },
      "execution_count": null,
      "outputs": []
    },
    {
      "cell_type": "code",
      "source": [
        "len(elderly)"
      ],
      "metadata": {
        "id": "sxw6RCmcsulk"
      },
      "execution_count": null,
      "outputs": []
    },
    {
      "cell_type": "code",
      "source": [
        "print(\"Percent of Berkeley:\", len(elderly)/len(census)*100)"
      ],
      "metadata": {
        "id": "7uJc5woqsv7T"
      },
      "execution_count": null,
      "outputs": []
    },
    {
      "cell_type": "code",
      "source": [
        "votes_by_barbie = (\n",
        "    census\n",
        "    .groupby([\"age\", \"wears_birkenstocks\"])\n",
        "        .agg(\"mean\", numeric_only=True)\n",
        "    .reset_index())\n",
        "\n",
        "votes_by_barbie"
      ],
      "metadata": {
        "id": "BCe3Wh1_s7sT"
      },
      "execution_count": null,
      "outputs": []
    },
    {
      "cell_type": "code",
      "source": [
        "import plotly.express as px\n",
        "px.scatter(votes_by_barbie, x=\"age\", y=\"Barbie\",\n",
        "           color = \"wears_birkenstocks\",\n",
        "           title = \"Preferences by Demographics\")"
      ],
      "metadata": {
        "id": "LRxXLdhStdeV"
      },
      "execution_count": null,
      "outputs": []
    },
    {
      "cell_type": "code",
      "source": [
        "n = 2000\n",
        "random_sample = census.sample(n, replace = False)\n",
        "\n",
        "random_sample[\"Barbie\"].mean()"
      ],
      "metadata": {
        "id": "4KQlpiyatu9z"
      },
      "execution_count": null,
      "outputs": []
    },
    {
      "cell_type": "code",
      "source": [
        "actual_barbie"
      ],
      "metadata": {
        "id": "h5bZ9sTvt3ak"
      },
      "execution_count": null,
      "outputs": []
    },
    {
      "cell_type": "code",
      "source": [
        "n = 800\n",
        "random_sample = census.sample(n, replace = False)\n",
        "\n",
        "sample_barbie = random_sample[\"Barbie\"].mean()\n",
        "err = abs(saample_barbie-actual_barbie)/actual_barbie\n",
        "\n",
        "from IPython.display import Markdown\n",
        "Markdown(f\"**Actual** = {actual_barbie:.4f}, **Sample** = {sample_barbie:.4f}, \"\n",
        "        f\"**Err** = {100*err:.2f}%.\")"
      ],
      "metadata": {
        "id": "jWFfx5bqt4u8"
      },
      "execution_count": null,
      "outputs": []
    },
    {
      "cell_type": "code",
      "source": [
        "nrep = 1000\n",
        "n = 800\n",
        "poll_result = []\n",
        "for i in range(0, nrep):\n",
        "  random_sample = census.sample(n, replace=False)\n",
        "  poll_result.append(random_sample[\"Barbie\"].mean())"
      ],
      "metadata": {
        "id": "JwM66Eqzu76U"
      },
      "execution_count": null,
      "outputs": []
    },
    {
      "cell_type": "code",
      "source": [
        "fig = px.histogram(poll_result, histnorm='probability density', nbins=50)\n",
        "fig.add_vline(x=actual_barbie, line_width=3, line_dash=\"dash\", line_color=\"orange\")\n",
        "fig.update_layout(showlegend=False)\n",
        "\n",
        "from scipy import stats\n",
        "from plotly import graph_objects as go\n",
        "x = np.linspace(min(poll_result), max(poll_result), 100)\n",
        "fig.add_trace(go.Scatter(\n",
        "    x=x,\n",
        "    y=stats.gaussian_kde(poll_result)(x),\n",
        "    mode='lines', line=dict(color='red', width=3))\n",
        ")"
      ],
      "metadata": {
        "id": "6PVffBbfvkLz"
      },
      "execution_count": null,
      "outputs": []
    },
    {
      "cell_type": "code",
      "source": [
        "sns.histplot(poll_result, stat='density', kde=True);\n",
        "plt.axvline(actual_barbie, color='orange', linestyle='dashed', linewidth=2)"
      ],
      "metadata": {
        "id": "QioUggggwVlQ"
      },
      "execution_count": null,
      "outputs": []
    },
    {
      "cell_type": "code",
      "source": [
        "poll_result = pd.Series(poll_result)\n",
        "np.sum(poll_result > 0.5)/1000"
      ],
      "metadata": {
        "id": "KYqSl0rHyEXB"
      },
      "execution_count": null,
      "outputs": []
    },
    {
      "cell_type": "code",
      "source": [
        "np.random.multinomial(100,[0.60, 0.3, 0.1])"
      ],
      "metadata": {
        "id": "wTYne4fsyWl5"
      },
      "execution_count": null,
      "outputs": []
    },
    {
      "cell_type": "code",
      "source": [
        "np.random.multinomial(100, [0.60, 0.30, 0.10], size=20)"
      ],
      "metadata": {
        "id": "4j91Y0cDyjn5"
      },
      "execution_count": null,
      "outputs": []
    }
  ]
}